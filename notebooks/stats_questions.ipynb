{
 "cells": [
  {
   "cell_type": "markdown",
   "metadata": {},
   "source": [
    "# Random questions"
   ]
  },
  {
   "cell_type": "markdown",
   "metadata": {},
   "source": [
    "Let x and y be U[0, 1]. What is the expected value of |x - y|? \n",
    "\n",
    "What is the distribution of |x - y|? "
   ]
  },
  {
   "cell_type": "code",
   "execution_count": null,
   "metadata": {},
   "outputs": [],
   "source": [
    "z = x - y\n",
    "p(z)\n",
    "      1.0\n",
    "     / | \\ \n",
    "-1/____|____\\1\n",
    "       0\n",
    "p(z) = 1 + z, z E [-1, 0]\n",
    "       1 - z, z E [0, 1]\n",
    "\n",
    "\n",
    "z = |x - y|\n",
    "p(z)\n",
    "2.0\n",
    "| \\\n",
    "|  \\\n",
    "|   \\\n",
    "|____\\1\n",
    "0\n",
    "p(z) = 2 - 2z, z E [0, 1]\n",
    "\n",
    "E[z] = integral{z * p(z)}->[0,1] = integral{2z - 2z^2}->[0,1]\n",
    "              = z^2 - 2/3z^3 ->[0,1] = 1 - 2/3 = 1/3"
   ]
  },
  {
   "cell_type": "markdown",
   "metadata": {},
   "source": [
    "You play the continuous version of the dice game. Each round you draw from U[0,1]. You are only allowed to keep the payoff from your most recent draw. What is your strategy if you are given at most n rolls?\n",
    "1. What do you think the expected payoff is if you can have as many rolls as you want?\n",
    "2. What is the expected payoff as a function of N\n",
    "3. Compute the lim as N -> infinity of your answer in 2 to prove 1."
   ]
  },
  {
   "cell_type": "code",
   "execution_count": null,
   "metadata": {},
   "outputs": [],
   "source": [
    "General strategy: if first roll > expectation value of N-1 next rolls, keep otherwise roll \n",
    "    again as if had started with N-1 rolls. \n",
    "E[N] = P(<E[N-1]) * E[N-1] + P(>E[N-1]) * (1 + E[N-1])/2\n",
    "\n",
    "1. \n",
    "Expect: payoff -> 1 as N -> infinity\n",
    "\n",
    "2. \n",
    "E[N] = (1 + E[N-1]^2)/2, E[0] = 0\n",
    "E[N] = f(N) = ?\n",
    "3.\n",
    "lim{f(N)}|N->inf = ?"
   ]
  },
  {
   "cell_type": "code",
   "execution_count": null,
   "metadata": {},
   "outputs": [],
   "source": [
    "def get_payoff_rec(N):\n",
    "    if N == 1:\n",
    "        return 0.5\n",
    "    payoff_prev = get_payoff(N-1)\n",
    "    payoff = (1 + payoff_prev**2) / 2.0\n",
    "    return payoff\n",
    "\n",
    "def get_payoff(N):\n",
    "    payoff_prev = 0.5\n",
    "    for n in range(2, N+1):\n",
    "        payoff = (1 + payoff_prev**2) / 2.0\n",
    "        payoff_prev = payoff\n",
    "    return payoff\n",
    "\n",
    "# get_payoff_rec(500)\n",
    "get_payoff(100000)"
   ]
  },
  {
   "cell_type": "markdown",
   "metadata": {},
   "source": [
    "The probability that at least one car will pass a bus stop in 1 hour is 84%. What is the probability that at least one car will pass the bus stop in half an hour?"
   ]
  },
  {
   "cell_type": "code",
   "execution_count": null,
   "metadata": {},
   "outputs": [],
   "source": [
    "Solution 1:\n",
    "    \n",
    "T = 30 minutes\n",
    "2T = 1 hour\n",
    "\n",
    "P(2T) = 0.84\n",
    "P(T) = ?\n",
    "\n",
    "Consider 2T as 2 separate time periods T1 and T2 where |T1| = |T2|. Because a car passing in\n",
    "T2 is independent of whether or not a car passed in T1 (poisson process) we can treat them \n",
    "as two independent events, like 2 successive dice rolls. \n",
    "\n",
    "P(~T) probability that no cars pass in T.\n",
    "\n",
    "P(~2T) = P(~T1)P(~T2)    = P(~T)^2\n",
    "P(2T)  = 1 - P(~2T)      = 1 - P(~T)^2\n",
    "P(~T)  = SQRT(1 - P(2T)) = SQRT(1 - 0.84) = SQRT(0.16) = 0.4\n",
    "P(T)   = 1 - P(~T)       = 1 - 0.4        = 0.6"
   ]
  },
  {
   "cell_type": "code",
   "execution_count": null,
   "metadata": {},
   "outputs": [],
   "source": [
    "Solution 2\n",
    "\n",
    "lambda = average number of events in some fixed interval of elapsed time\n",
    "lambda = r*t, r = avg number of events per unit time, t = elapsed time\n",
    "\n",
    "P(k; lambda) = lambda^k * exp(-lambda) / k!\n",
    "P(k; r,t) = (rt)^k * exp(-rt) / k!\n",
    "\n",
    "Probability of seeing 0 cars in time T:\n",
    "1) P(0; r,T) = exp(-rT)\n",
    "Probability of seeing at least 1 car in time T:\n",
    "2) P(~0; r,T) = 1 - P(0; r,T) = 1 - exp(-rT)\n",
    "\n",
    "Probability of seeing 0 cars in time 2T:\n",
    "3) P(0; r,2T) = exp(-r2T)\n",
    "Probability of seeing at least 1 car in time 2T:\n",
    "4) P(~0; r,2T) = 1 - P(0; r,2T) = 1 - exp(-r2T)\n",
    "\n",
    "From 2)\n",
    "5) exp(-rT) = 1 - P(~0; r,T)\n",
    "Combining 4) and 5)\n",
    "P(~0; r,2T) = 1 - (exp(-rT))^2 = 1 - (1 - P(~0; r,T))^2\n",
    "P(~0; r,T) = 1 - SQRT(1 - P(~0; r,2T)) = 1 - SQRT(1 - 0.84) = 0.6"
   ]
  },
  {
   "cell_type": "markdown",
   "metadata": {},
   "source": [
    "# ESL questions"
   ]
  },
  {
   "cell_type": "markdown",
   "metadata": {},
   "source": [
    "2.2\n",
    "Show how to compute the Bayes decision boundary for the simulation example in Figure 2.5."
   ]
  },
  {
   "cell_type": "code",
   "execution_count": null,
   "metadata": {},
   "outputs": [],
   "source": [
    "Pr_g_i(X) = SUM{N in g_i}[N(mu, sigma)]\n",
    "G_hat(X) = argmax{g_i in G}[Pr_g_i(X)]"
   ]
  }
 ],
 "metadata": {
  "kernelspec": {
   "display_name": "Python 2",
   "language": "python",
   "name": "python2"
  },
  "language_info": {
   "codemirror_mode": {
    "name": "ipython",
    "version": 2
   },
   "file_extension": ".py",
   "mimetype": "text/x-python",
   "name": "python",
   "nbconvert_exporter": "python",
   "pygments_lexer": "ipython2",
   "version": "2.7.14"
  }
 },
 "nbformat": 4,
 "nbformat_minor": 2
}
