{
 "cells": [
  {
   "cell_type": "markdown",
   "metadata": {},
   "source": [
    "# Coding "
   ]
  },
  {
   "cell_type": "markdown",
   "metadata": {},
   "source": [
    "### Convert a decimal number to binary "
   ]
  },
  {
   "cell_type": "code",
   "execution_count": null,
   "metadata": {
    "collapsed": true
   },
   "outputs": [],
   "source": [
    "def decimal_to_binary(N):\n",
    "    binary_digits = []\n",
    "    while N > 0:\n",
    "        binary_digits.append(N % 2)\n",
    "        N /= 2\n",
    "    return binary_digits"
   ]
  },
  {
   "cell_type": "markdown",
   "metadata": {},
   "source": [
    "### Write a program to print out the power set of a set."
   ]
  },
  {
   "cell_type": "markdown",
   "metadata": {},
   "source": [
    "The power set of a set S is the set of all possible subsets of S inclusing the empty set and S itself."
   ]
  },
  {
   "cell_type": "code",
   "execution_count": null,
   "metadata": {
    "collapsed": true
   },
   "outputs": [],
   "source": [
    "def get_powerset(S):\n",
    "    # Make sure S is a list\n",
    "    S = list(S)\n",
    "    \n",
    "    # Remove one element from S\n",
    "    e = [S.pop()]\n",
    "    \n",
    "    # Get the powerset of S\n",
    "    if len(S) == 0:\n",
    "        pow_S = [S]\n",
    "    else:\n",
    "        pow_S = get_powerset(S)\n",
    "    \n",
    "    # Add e to each item in the powerset of S\n",
    "    pow_Se = [e+s for s in pow_S]\n",
    "    \n",
    "    # Get the full powerset by combining the previous two sets\n",
    "    powerset = pow_S + pow_Se\n",
    "    \n",
    "    return powerset"
   ]
  },
  {
   "cell_type": "code",
   "execution_count": null,
   "metadata": {
    "collapsed": false
   },
   "outputs": [],
   "source": [
    "get_powerset([7,3,8])"
   ]
  },
  {
   "cell_type": "markdown",
   "metadata": {},
   "source": [
    "### Find the optimal time to buy and sell a stock in order to maximize profit (or minimize loss) given a time series of stock prices. You must buy before you sell (can't be the same day)."
   ]
  },
  {
   "cell_type": "code",
   "execution_count": null,
   "metadata": {
    "collapsed": true
   },
   "outputs": [],
   "source": [
    "def find_optimal_transaction_points(stock_vals):\n",
    "    # Initialize using first and second values in time series\n",
    "    running_min = stock_vals[0]\n",
    "    max_profit = stock_vals[1] - stock_vals[0]\n",
    "    t_buy = 0\n",
    "    t_sell = 1\n",
    "    t_min = 0\n",
    "\n",
    "    # Loop through time series\n",
    "    for t in range(1, len(stock_vals)):\n",
    "        current_value = stock_vals[t]\n",
    "        profit = current_value - running_min\n",
    "\n",
    "        if profit > max_profit:\n",
    "            t_buy = t_min\n",
    "            t_sell = t\n",
    "            max_profit = profit\n",
    "\n",
    "        if current_value < running_min:\n",
    "            running_min = current_value\n",
    "            t_min = t\n",
    "    \n",
    "    return max_profit, t_buy, t_sell"
   ]
  },
  {
   "cell_type": "code",
   "execution_count": null,
   "metadata": {
    "collapsed": false
   },
   "outputs": [],
   "source": [
    "import numpy as np\n",
    "vals = np.random.random(10) * 10\n",
    "print(find_max_diff(vals))\n",
    "print(find_optimal_transaction_points(vals))"
   ]
  },
  {
   "cell_type": "markdown",
   "metadata": {},
   "source": [
    "### Find the square root of a number without using the square root function."
   ]
  },
  {
   "cell_type": "code",
   "execution_count": null,
   "metadata": {
    "collapsed": true
   },
   "outputs": [],
   "source": [
    "#######################\n",
    "# Binary search method\n",
    "#######################\n",
    "def calc_sqrt_binary_search(n, tol=0.01):\n",
    "    # Initialize variables\n",
    "    n_iter = 0\n",
    "    if n < 0:\n",
    "        raise ValueError('Negative numbers not supported.')\n",
    "    elif n == 0:\n",
    "        factor1 = 0.0\n",
    "        factor2 = 0.0\n",
    "    elif n > 1:\n",
    "        factor1 = 1.0\n",
    "        factor2 = n\n",
    "    else:\n",
    "        factor1 = n\n",
    "        factor2 = 1.0\n",
    "        \n",
    "    # Calculate initial guess\n",
    "    sqrt = (factor1 + factor2) / 2.0\n",
    "    n_est = sqrt**2\n",
    "    \n",
    "    # Iterate\n",
    "    while abs(n_est - n) / float(n) > tol:\n",
    "        # Update factors\n",
    "        if n_est > n:\n",
    "            factor2 = sqrt\n",
    "        else:\n",
    "            factor1 = sqrt\n",
    "            \n",
    "        # Calculate new values\n",
    "        sqrt = (factor1 + factor2) / 2.0\n",
    "        n_est = sqrt**2\n",
    "        n_iter += 1\n",
    "    \n",
    "    return sqrt, n_iter"
   ]
  },
  {
   "cell_type": "code",
   "execution_count": null,
   "metadata": {
    "collapsed": true
   },
   "outputs": [],
   "source": [
    "#####################################\n",
    "# Newton-Raphson root finding method\n",
    "#####################################\n",
    "def calc_sqrt_newton_raphson(n, tol=0.01):\n",
    "    # Initialize variables\n",
    "    if n < 0:\n",
    "        raise ValueError('Negative numbers not supported.')\n",
    "    n_iter = 0\n",
    "    sqrt = 0.0 if n == 0 else 1.0\n",
    "    factor = n\n",
    "    n_est = sqrt**2\n",
    "    \n",
    "    # Iterate\n",
    "    while abs(n_est - n) / float(n) > tol:\n",
    "        # Update factors\n",
    "        sqrt = (sqrt + factor) / 2.0\n",
    "        factor = n / sqrt\n",
    "        \n",
    "        # Calculate new values\n",
    "        n_est = sqrt**2\n",
    "        n_iter += 1\n",
    "        \n",
    "    return sqrt, n_iter"
   ]
  },
  {
   "cell_type": "markdown",
   "metadata": {},
   "source": [
    "### Find all \"curious numbers\". A curious number is a number that is equal to the sum of the factorial of each of its digits."
   ]
  },
  {
   "cell_type": "code",
   "execution_count": null,
   "metadata": {
    "collapsed": false
   },
   "outputs": [],
   "source": [
    "######################\n",
    "# Calculate factorial\n",
    "######################\n",
    "# More or less language agnostic version\n",
    "def calc_factorial1(n):\n",
    "    fac = 1\n",
    "    for i in xrange(1, n+1):\n",
    "        fac *= i\n",
    "    return fac\n",
    "\n",
    "# Python/numpy specific version (overflows for bigger values of n)\n",
    "import numpy as np\n",
    "def calc_factorial2(n):\n",
    "    return np.prod(xrange(1, n+1))"
   ]
  },
  {
   "cell_type": "code",
   "execution_count": null,
   "metadata": {
    "collapsed": true
   },
   "outputs": [],
   "source": [
    "###############################################\n",
    "# Determine whether or not a number is curious\n",
    "###############################################\n",
    "def is_curious(n):\n",
    "    factorial_sum = 0\n",
    "    n2 = n\n",
    "    \n",
    "    while n2 > 0:\n",
    "        digit = n2 % 10\n",
    "        factorial_sum += calc_factorial1(digit)\n",
    "        n2 //= 10\n",
    "    \n",
    "    if factorial_sum == n and n > 0:\n",
    "        return True\n",
    "    else:\n",
    "        return False"
   ]
  },
  {
   "cell_type": "code",
   "execution_count": null,
   "metadata": {
    "collapsed": false
   },
   "outputs": [],
   "source": [
    "###########################\n",
    "# Find all curious numbers\n",
    "###########################\n",
    "def find_all_curious():\n",
    "    # Find upper bound on possible curious numbers\n",
    "    # 10^d = 9! * d, where d is number of digits in number\n",
    "    n_max = calc_factorial1(9)*7\n",
    "\n",
    "    # Loop through all possible numbers\n",
    "    curious_numbers=[]\n",
    "    for n in range(n_max+1):\n",
    "        if is_curious(n):\n",
    "            curious_numbers.append(n)\n",
    "    \n",
    "    return curious_numbers"
   ]
  },
  {
   "cell_type": "code",
   "execution_count": null,
   "metadata": {
    "collapsed": true
   },
   "outputs": [],
   "source": [
    "######################################\n",
    "# Find all curious numbers, optimized\n",
    "######################################\n",
    "import math\n",
    "def get_digit_list(n):        \n",
    "    # Initialize variables\n",
    "    digit_list = [0] if n == 0 else [0]*(int(math.log10(n))+1)\n",
    "    ind = len(digit_list) - 1\n",
    "    \n",
    "    while n > 0:\n",
    "        digit = n % 10\n",
    "        n //= 10\n",
    "        digit_list[ind] = digit\n",
    "        ind -= 1\n",
    "        \n",
    "    return digit_list\n",
    "\n",
    "def find_all_curious2():\n",
    "    # Optimizations:\n",
    "    # 1. pre-calculate factorials of all digits\n",
    "    # 2. don't check number if set of digits has already been identified as curious\n",
    "    # 3. cache results for each unique set of digits encountered, check cache before calculating sum\n",
    "    \n",
    "    # Find upper bound on possible curious numbers\n",
    "    # 10^d = 9! * d, where d is number of digits in number\n",
    "    n_max = calc_factorial1(9)*7\n",
    "    \n",
    "    # Create dictionary of digit factorials\n",
    "    digit_factorials = [calc_factorial1(i) for i in range(10)]\n",
    "    \n",
    "    # Initialize data structures\n",
    "    curious_numbers = []\n",
    "    curious_combos = set()\n",
    "    combo_sums = {}\n",
    "    \n",
    "    # Loop through all possible numbers\n",
    "    for n in range(n_max+1):\n",
    "        # Get list of digits\n",
    "        digit_list = get_digit_list(n)\n",
    "        digit_list_sorted = tuple(sorted(digit_list))\n",
    "        \n",
    "        # See if number combination has already been identified as curious, if so skip\n",
    "        if digit_list_sorted in curious_combos:\n",
    "            continue  \n",
    "        # See if current set of digits has been previously seen\n",
    "        elif digit_list_sorted in combo_sums:\n",
    "            running_sum = combo_sums[digit_list_sorted]\n",
    "        # If not already seen, calculate sum\n",
    "        else:\n",
    "            running_sum = 0\n",
    "            for digit in digit_list_sorted:                \n",
    "                running_sum += digit_factorials[digit]\n",
    "            combo_sums[digit_list_sorted] = running_sum\n",
    "    \n",
    "        # Test sum against number\n",
    "        if running_sum == n:\n",
    "            curious_numbers.append(n)\n",
    "            curious_combos.add(digit_list_sorted) \n",
    "    \n",
    "    return curious_numbers"
   ]
  },
  {
   "cell_type": "code",
   "execution_count": null,
   "metadata": {
    "collapsed": false
   },
   "outputs": [],
   "source": [
    "%%time\n",
    "\n",
    "find_all_curious3()"
   ]
  },
  {
   "cell_type": "code",
   "execution_count": null,
   "metadata": {
    "collapsed": false
   },
   "outputs": [],
   "source": [
    "%%time\n",
    "\n",
    "find_all_curious2()"
   ]
  },
  {
   "cell_type": "code",
   "execution_count": null,
   "metadata": {
    "collapsed": false
   },
   "outputs": [],
   "source": [
    "%%time\n",
    "\n",
    "find_all_curious()"
   ]
  },
  {
   "cell_type": "markdown",
   "metadata": {},
   "source": [
    "### Given a list of potentially overlapping time periods, find the fraction of time that is unoccupied."
   ]
  },
  {
   "cell_type": "code",
   "execution_count": null,
   "metadata": {
    "collapsed": false
   },
   "outputs": [],
   "source": [
    "time_periods = [(7,11), (1,5), (20, 25), (9, 17), (8, 10)]  # (start_time, end_time)"
   ]
  },
  {
   "cell_type": "code",
   "execution_count": null,
   "metadata": {
    "collapsed": false
   },
   "outputs": [],
   "source": [
    "def find_unoccupied_time(time_periods):\n",
    "    # Initialize variables\n",
    "    time_periods_sorted = sorted(time_periods, key=lambda x: x[0], reverse=False)\n",
    "    unoccupied_time = 0\n",
    "    latest_end_time = time_periods_sorted[0][1]\n",
    "\n",
    "    # Loop over time periods in order of increasing start time\n",
    "    for time_period in time_periods_sorted:\n",
    "        # Initialize variables\n",
    "        current_start_time = time_period[0]\n",
    "        current_end_time = time_period[1]\n",
    "\n",
    "        # Check for a gap\n",
    "        if current_start_time > latest_end_time:\n",
    "            unoccupied_time += current_start_time - latest_end_time\n",
    "\n",
    "        # Update latest occupied time\n",
    "        latest_end_time = max(latest_end_time, current_end_time)\n",
    "\n",
    "    return unoccupied_time"
   ]
  },
  {
   "cell_type": "code",
   "execution_count": null,
   "metadata": {
    "collapsed": false
   },
   "outputs": [],
   "source": [
    "find_unoccupied_time(time_periods)"
   ]
  },
  {
   "cell_type": "markdown",
   "metadata": {},
   "source": [
    "### Given a list of potentially overlapping time periods, find the maximum number of overlaps at the same time. "
   ]
  },
  {
   "cell_type": "code",
   "execution_count": null,
   "metadata": {
    "collapsed": true
   },
   "outputs": [],
   "source": [
    "time_periods = [(7,11), (1,5), (20, 25), (9, 17), (8, 10)]  # (start_time, end_time)"
   ]
  },
  {
   "cell_type": "code",
   "execution_count": null,
   "metadata": {
    "collapsed": false
   },
   "outputs": [],
   "source": [
    "def find_max_overlaps(time_periods):\n",
    "    # Initialize variables\n",
    "    time_periods_sorted = sorted(time_periods, key=lambda x: x[0], reverse=False)\n",
    "    active_end_times = []\n",
    "    max_active_meetings = 0\n",
    "\n",
    "    for time_period in time_periods:\n",
    "        # Initialize variables\n",
    "        current_start_time = time_period[0]\n",
    "        current_end_time = time_period[1]\n",
    "\n",
    "        # Add latest meeting to active list\n",
    "        active_end_times.append(current_end_time)\n",
    "\n",
    "        # Prune meetings that are no longer active\n",
    "        active_end_times = [end_time for end_time in active_end_times if end_time > current_start_time]\n",
    "\n",
    "        # Update max active meetings \n",
    "        max_active_meetings = max(max_active_meetings, len(active_end_times))\n",
    "    \n",
    "    return max_active_meetings"
   ]
  },
  {
   "cell_type": "code",
   "execution_count": null,
   "metadata": {
    "collapsed": false
   },
   "outputs": [],
   "source": [
    "find_max_overlaps(time_periods)"
   ]
  },
  {
   "cell_type": "markdown",
   "metadata": {},
   "source": [
    "## Find unknown bit string "
   ]
  },
  {
   "cell_type": "markdown",
   "metadata": {},
   "source": [
    "You have an unknown fixed bit string of length N (secret). You can query it via xor function that, for a given query computes sum( secret ^ query ^ noise), where query is the bit string of the length N, and noise is a random bit string which is mostly zeros, but can have 1's with small probability (and sum computes number of non-zero bits). Write a function that finds secret."
   ]
  },
  {
   "cell_type": "code",
   "execution_count": 102,
   "metadata": {},
   "outputs": [
    {
     "data": {
      "text/plain": [
       "0"
      ]
     },
     "execution_count": 102,
     "metadata": {},
     "output_type": "execute_result"
    }
   ],
   "source": [
    "import random\n",
    "\n",
    "def xor_bits(b1, b2):\n",
    "    return [bb1 ^ bb2 for bb1, bb2 in zip(b1, b2)]\n",
    "\n",
    "def xor_sum(b1, b2, noise_level=0):\n",
    "    noise = [random.random() < noise_level for i in range(len(b1))]\n",
    "    return sum(xor_bits(xor_bits(b1, b2), noise))\n",
    "\n",
    "# Probably naive solution\n",
    "def find_secret(secret, noise_level=0.1, num_avg=100):\n",
    "    secret_revealed = []\n",
    "    \n",
    "    for i in range(len(secret)):\n",
    "        diff = 0\n",
    "        \n",
    "        for n in range(num_avg):\n",
    "            b = [False]*len(secret)\n",
    "            sum1 = xor_sum(b, secret, noise_level=noise_level)\n",
    "            b[i] = True\n",
    "            sum2 = xor_sum(b, secret, noise_level=noise_level)\n",
    "        \n",
    "            diff += sum1 - sum2\n",
    "            \n",
    "        diff /= float(num_avg)\n",
    "        \n",
    "        secret_revealed.append(diff > 0)\n",
    "        \n",
    "    return secret_revealed\n",
    "        \n",
    "secret = [random.random() > 0.5 for i in range(100)]\n",
    "revealed = find_secret(secret, 0.1, 400)\n",
    "\n",
    "sum([b1 != b2 for b1, b2 in zip(secret, revealed)])"
   ]
  },
  {
   "cell_type": "code",
   "execution_count": 7,
   "metadata": {},
   "outputs": [
    {
     "data": {
      "text/plain": [
       "1"
      ]
     },
     "execution_count": 7,
     "metadata": {},
     "output_type": "execute_result"
    }
   ],
   "source": [
    "sum([True, False, False])"
   ]
  },
  {
   "cell_type": "markdown",
   "metadata": {},
   "source": [
    "### Perform an inner join on two arrays "
   ]
  },
  {
   "cell_type": "markdown",
   "metadata": {},
   "source": [
    "# Experimental design "
   ]
  },
  {
   "cell_type": "markdown",
   "metadata": {},
   "source": [
    "## Metrics "
   ]
  },
  {
   "cell_type": "markdown",
   "metadata": {},
   "source": [
    "- churn\n",
    "- usage broken down by location and time of day\n",
    "- monthly active users"
   ]
  },
  {
   "cell_type": "markdown",
   "metadata": {},
   "source": [
    "## Methodologies"
   ]
  },
  {
   "cell_type": "markdown",
   "metadata": {},
   "source": [
    "- A/B testing\n",
    "- Multi-armed bandit"
   ]
  },
  {
   "cell_type": "markdown",
   "metadata": {},
   "source": [
    "## Analysis"
   ]
  },
  {
   "cell_type": "markdown",
   "metadata": {},
   "source": [
    "*A/B testing*\n",
    "- Compare metrics between control and treatment group\n",
    "- Identify useful effect size\n",
    "  - Absolute effect size\n",
    "  - Relative effect size (cohen's d)\n",
    "- Determine statistical power\n",
    "  - Use desired power, effect size, statistical significance level to determine number of samples needed by experiment"
   ]
  },
  {
   "cell_type": "markdown",
   "metadata": {},
   "source": [
    "# Math/statistics "
   ]
  },
  {
   "cell_type": "markdown",
   "metadata": {},
   "source": [
    "### Fit model given data set with incomplete/missing data  "
   ]
  },
  {
   "cell_type": "markdown",
   "metadata": {},
   "source": [
    "- Use EM algorithm for maximum likelihood parameters.\n",
    " - Link to original EM paper http://web.mit.edu/6.435/www/Dempster77.pdf"
   ]
  },
  {
   "cell_type": "markdown",
   "metadata": {},
   "source": [
    "### Show how maximum likelihood solution for linear model reduces to least square solution"
   ]
  },
  {
   "cell_type": "markdown",
   "metadata": {},
   "source": [
    "- Formulate relationship between target and feature variables \n",
    " - y = Bx + E, where E = N(0, sigma)\n",
    "- Calculate likelihood of target given features and model:\n",
    " - p(D|theta) = p(y|x, B) = PROD_i->N{p(y_i|x_i, B)}\n",
    "- Convert to negative log likelihood to turn product into sum:\n",
    " - NLL = -log(p(D|theta)) = -SUM_i->N{log(p(y_i|x_i, B))}\n",
    "- Use PDF of N(0, sigma) to calculate probabilities of individual points\n",
    " - p(y_i|x_i, B) = (2*pi*sigma^2)^-1/2 * exp(-(y_i - Bx_i)^2/sigma^2)\n",
    "- Plug probabilities into NLL and simplify:\n",
    " - NLL = -N/2 * log(1/(2*pi*sigma^2)) - (1/(2*sigma^2))*SUM_i->N{(y_i - Bx_i)^2}\n",
    "- Differeniate NLL w/ respect to B, set equal to 0, solve for beta:\n",
    " - B = (X_tX)^-1X_ty\n",
    "- Link to explanation https://www.quantstart.com/articles/Maximum-Likelihood-Estimation-for-Linear-Regression"
   ]
  },
  {
   "cell_type": "code",
   "execution_count": null,
   "metadata": {
    "collapsed": true
   },
   "outputs": [],
   "source": []
  }
 ],
 "metadata": {
  "anaconda-cloud": {},
  "kernelspec": {
   "display_name": "Python 2",
   "language": "python",
   "name": "python2"
  },
  "language_info": {
   "codemirror_mode": {
    "name": "ipython",
    "version": 2
   },
   "file_extension": ".py",
   "mimetype": "text/x-python",
   "name": "python",
   "nbconvert_exporter": "python",
   "pygments_lexer": "ipython2",
   "version": "2.7.14"
  }
 },
 "nbformat": 4,
 "nbformat_minor": 2
}
