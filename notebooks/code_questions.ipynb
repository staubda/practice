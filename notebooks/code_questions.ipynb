{
 "cells": [
  {
   "cell_type": "code",
   "execution_count": null,
   "metadata": {},
   "outputs": [],
   "source": [
    "import os\n",
    "import numpy as np"
   ]
  },
  {
   "cell_type": "markdown",
   "metadata": {},
   "source": [
    "## 5.19 Rotate a 2D Array "
   ]
  },
  {
   "cell_type": "markdown",
   "metadata": {},
   "source": [
    "Image rotation is a fundamental operation in computer graphics. Figure 5.4 illustrates the rotation operation on a 2D array representing a bit-map of an image. Specifically, the image is rotated by 90 degrees clockwise.\n",
    "\n",
    "Write a function that takes as input an n x n 2D array, and rotates the array by 90 degrees clockwise.\n",
    "Hint: Focus on the boundary elements."
   ]
  },
  {
   "cell_type": "code",
   "execution_count": null,
   "metadata": {},
   "outputs": [],
   "source": [
    "def rotate_90_clock_np(arr):\n",
    "    arr = np.array(arr)\n",
    "    arr_rot = np.zeros(arr.shape)\n",
    "    for old_row_ind, new_col_ind in enumerate(range(len(arr))[::-1]):\n",
    "        arr_rot[:, new_col_ind] = arr[old_row_ind, :]\n",
    "    return arr_rot\n",
    "\n",
    "\n",
    "def rotate_coords_90_clock(i, j, n):\n",
    "    i_rot = j\n",
    "    j_rot = n - 1 - i\n",
    "    return i_rot, j_rot\n",
    "\n",
    "\n",
    "def rotate_corners(arr, i_start, j_start):\n",
    "    n = len(arr)\n",
    "    i_orig, j_orig = i_start, j_start\n",
    "    reassign_val = arr[i_orig][j_orig]\n",
    "    for _ in range(4):\n",
    "        i_rot, j_rot = rotate_coords_90_clock(i_orig, j_orig, n)\n",
    "        temp = arr[i_rot][j_rot]\n",
    "        arr[i_rot][j_rot] = reassign_val\n",
    "        reassign_val = temp\n",
    "        i_orig, j_orig = i_rot, j_rot\n",
    "\n",
    "        \n",
    "def rotate_square(arr, ind_start):\n",
    "    i_start = ind_start\n",
    "    for j_start in range(ind_start, len(arr) - ind_start - 1):\n",
    "        rotate_corners(arr, i_start, j_start)\n",
    "\n",
    "        \n",
    "def rotate_90_clock_inplace(arr):\n",
    "    num_square = len(arr) / 2\n",
    "    for ind_start in range(num_square):\n",
    "        rotate_square(arr, ind_start)\n",
    "\n",
    "        \n",
    "def rotate_90_clock(arr):\n",
    "    n = len(arr)\n",
    "    arr_rot = [[None] * n for i in range(n)]\n",
    "    for i in range(n):\n",
    "        for j in range(n):\n",
    "            i_rot, j_rot = rotate_coords_90_clock(i, j, n)\n",
    "            arr_rot[i_rot][j_rot] = arr[i][j]\n",
    "    return arr_rot\n",
    "\n",
    "\n",
    "def rotate(arr):\n",
    "    for i in xrange(len(arr)/2):\n",
    "#         for j in xrange(len(arr)/2 + len(arr)%2):\n",
    "        for j in xrange(i, len(arr) - i - 1):\n",
    "            rotate_corners(arr,i,j)\n",
    "    return arr"
   ]
  },
  {
   "cell_type": "code",
   "execution_count": null,
   "metadata": {},
   "outputs": [],
   "source": [
    "# arr = [[i] * n for i in range(5)]\n",
    "# arr = [[1, 2], [3, 4]]\n",
    "# arr = [[1, 2, 3, 4], [5, 6, 7, 8], [9, 10, 11, 12], [13, 14, 15, 16]]\n",
    "arr = [[1, 2, 3, 4, 140], [5, 6, 7, 8, 130], [9, 10, 11, 12, 120], [13, 14, 15, 16, 110], [17, 18, 19, 20, 100]]\n",
    "\n",
    "# arr_rot = rotate_90_clock(arr)\n",
    "\n",
    "# print(np.array(arr))\n",
    "# print('')\n",
    "# print(np.array(arr_rot))\n",
    "\n",
    "print(np.array(arr))\n",
    "# rotate_90_clock_inplace(arr)\n",
    "rotate(arr)\n",
    "print('')\n",
    "print(np.array(arr))"
   ]
  },
  {
   "cell_type": "markdown",
   "metadata": {},
   "source": [
    "## 5.13 Sample Online Data "
   ]
  },
  {
   "cell_type": "markdown",
   "metadata": {},
   "source": [
    "This problem is motivated by the disgn of a packet sniffer that provides a uniform sample of packets for a network session.\n",
    "\n",
    "Design a program that takes as input a size k, and reads packets, coninuously maintaining a uniform random subset of size k of the read packets.\n",
    "\n",
    "Hint: Suppose you have a procedure which selects k packets from the first n >= k packets as specified. How would you deal with the (n+1)st packet?"
   ]
  },
  {
   "cell_type": "code",
   "execution_count": null,
   "metadata": {},
   "outputs": [],
   "source": [
    "import random\n",
    "\n",
    "class PacketSampler:\n",
    "    \n",
    "    def __init__(self, k):\n",
    "        self.k = k\n",
    "        self.n = 0\n",
    "        self.subset = []\n",
    "        \n",
    "    def receive_packet(self, p):\n",
    "        if len(self.subset) < self.k:\n",
    "            self.subset.append(p)\n",
    "        else:\n",
    "            replace_prob = float(self.k) / (self.n + 1)\n",
    "            if random.random() < replace_prob:\n",
    "                replace_ind = random.randint(0, self.k - 1)\n",
    "                self.subset[replace_ind] = p\n",
    "        self.n += 1\n",
    "\n",
    "\n",
    "class PacketSamplerWrong:\n",
    "    \n",
    "    def __init__(self, k):\n",
    "        self.k = k\n",
    "        self.n = 0\n",
    "        self.subset = []\n",
    "        \n",
    "    def receive_packet(self, p):\n",
    "        if len(self.subset) < self.k:\n",
    "            self.subset.append(p)\n",
    "        else:\n",
    "            replace_prob = random.random()\n",
    "            if random.random() < replace_prob:\n",
    "                replace_ind = random.randint(0, self.k - 1)\n",
    "                self.subset[replace_ind] = p\n",
    "        self.n += 1\n",
    "\n",
    "\n",
    "def get_packet_subset(n, packet_sampler):\n",
    "    for i in range(n):\n",
    "        packet_sampler.receive_packet(i)\n",
    "    return packet_sampler.subset\n",
    "\n",
    "\n",
    "def get_simulated_distribution(n, k, sampler_name, num_trials):\n",
    "    if sampler_name == 'right':\n",
    "        Sampler = PacketSampler\n",
    "    elif sampler_name == 'wrong':\n",
    "        Sampler = PacketSamplerWrong\n",
    "    else:\n",
    "        raise ValueError('Unrecognized sampler name.')\n",
    "    \n",
    "    packet_counter = {p: 0 for p in range(n)}\n",
    "    for trial_ind in range(num_trials):\n",
    "        subset = get_packet_subset(n, Sampler(k))\n",
    "        for p in subset:\n",
    "            packet_counter[p] += 1\n",
    "    \n",
    "    return packet_counter"
   ]
  },
  {
   "cell_type": "code",
   "execution_count": null,
   "metadata": {},
   "outputs": [],
   "source": [
    "num_trials = 500000\n",
    "n = 10\n",
    "k = 3\n",
    "sampler_name = 'wrong'\n",
    "\n",
    "packet_counts = get_simulated_distribution(n=n, k=k, sampler_name=sampler_name, num_trials=num_trials)\n",
    "num_exp = num_trials / n * k\n",
    "\n",
    "for count in packet_counts.itervalues():\n",
    "    pct_dev = 100.0 * abs(num_exp - count) / num_exp\n",
    "    print(pct_dev)"
   ]
  },
  {
   "cell_type": "markdown",
   "metadata": {},
   "source": [
    "## 5.18 Compute the Spiral Ordering of a 2D array "
   ]
  },
  {
   "cell_type": "code",
   "execution_count": null,
   "metadata": {},
   "outputs": [],
   "source": [
    "def change_direction(increment):\n",
    "    increment_new = increment[::-1]\n",
    "    if abs(increment[0]) == 1:\n",
    "        increment_new[1] *= -1\n",
    "    return increment_new\n",
    "\n",
    "def spiralize(arr):\n",
    "    i_bounds = [0, len(arr) - 1]\n",
    "    j_bounds = [0, len(arr[0]) - 1]\n",
    "    increment = [0, 1]\n",
    "    i = 0\n",
    "    j = 0\n",
    "    arr_spiral = []\n",
    "\n",
    "    while i_bounds[1] >= i_bounds[0]:\n",
    "\n",
    "        arr_spiral.append(arr[i][j])\n",
    "\n",
    "        i_prop = i + increment[0]\n",
    "        j_prop = j + increment[1]\n",
    "\n",
    "        if j_prop > j_bounds[1]:\n",
    "            i_bounds[0] += 1\n",
    "        elif j_prop < j_bounds[0]:\n",
    "            i_bounds[1] -= 1\n",
    "        elif i_prop > i_bounds[1]:\n",
    "            j_bounds[1] -= 1\n",
    "        elif i_prop < i_bounds[0]:\n",
    "            j_bounds[0] += 1\n",
    "        else:\n",
    "            i = i_prop\n",
    "            j = j_prop\n",
    "            continue\n",
    "\n",
    "        increment = change_direction(increment)\n",
    "        i += increment[0]\n",
    "        j += increment[1]\n",
    "        \n",
    "    return arr_spiral"
   ]
  },
  {
   "cell_type": "code",
   "execution_count": null,
   "metadata": {},
   "outputs": [],
   "source": [
    "arr = [[1, 2, 3, 4], [5, 6, 7, 8], [9, 10, 11, 12], [13, 14, 15, 16]]\n",
    "\n",
    "print(np.array(arr))\n",
    "print('')\n",
    "print(spiralize(arr))"
   ]
  },
  {
   "cell_type": "markdown",
   "metadata": {},
   "source": [
    "## 6.13: Find the first occurrence of a substring "
   ]
  },
  {
   "cell_type": "markdown",
   "metadata": {},
   "source": [
    "A good string search algorithm is fundamental to the performance of many applications. Several clever algorithms have been proposed for string search, each with its own trade-offs. As a result, there is no single perfect answer. If someone asks you this question in an interview, the best way to approach this problem would be to work through one good algorithm in detail and discuss at a high level other algorithms.\n",
    "\n",
    "Given two strings s (the \"search string\") and t (the \"text\"), find the first occurrence of s in t.\n",
    "\n",
    "Hint: Form a signature from a string"
   ]
  },
  {
   "cell_type": "code",
   "execution_count": 28,
   "metadata": {},
   "outputs": [],
   "source": [
    "from collections import deque\n",
    "\n",
    "\n",
    "def strings_are_same(str1, str2):\n",
    "    for c1, c2 in zip(str1, str2):\n",
    "        if c1 != c2:\n",
    "            return False\n",
    "    return True\n",
    "\n",
    "\n",
    "class RollingHasher:\n",
    "    \"\"\"Following https://en.wikipedia.org/wiki/Rabin%E2%80%93Karp_algorithm\"\"\"\n",
    "    \n",
    "    def __init__(self, substring_len, base=256, prime_modulus=101):\n",
    "        self.substring_len = substring_len\n",
    "        self.base = base\n",
    "        self.prime_modulus = prime_modulus\n",
    "        self._char_q = deque()\n",
    "        self._hash = 0\n",
    "        \n",
    "    def _add_to_hash(self, c):\n",
    "        self._hash = (self._hash * self.base + ord(c)) % self.prime_modulus\n",
    "        self._char_q.append(c)\n",
    "        \n",
    "    def _remove_first_in_from_hash(self):\n",
    "        left_base_offset = 1\n",
    "        for i in range(self.substring_len - 1):\n",
    "            left_base_offset *= self.base \n",
    "            left_base_offset %= self.prime_modulus\n",
    "        remove_val = ord(self._char_q.popleft())\n",
    "        self._hash = self._hash + self.prime_modulus - remove_val * left_base_offset  # adding extra mod val ensures result isn't negative\n",
    "        \n",
    "    def get_hash(self, next_letter):\n",
    "        if len(self._char_q) == self.substring_len:\n",
    "            hash_sub = self._remove_first_in_from_hash()\n",
    "        self._add_to_hash(next_letter)\n",
    "        return self._hash if len(self._char_q) == self.substring_len else None\n",
    "\n",
    "\n",
    "def find_substring_start_ind_simple(main_string, substring):\n",
    "    substring_len = len(substring)\n",
    "    for start_ind in range(0, len(main_string) - substring_len):\n",
    "        if strings_are_same(substring, main_string[start_ind:start_ind + substring_len]):\n",
    "            return start_ind\n",
    "    return None\n",
    "\n",
    "\n",
    "def find_substring_start_ind_set(main_string, substring):\n",
    "    substring_hash = set([substring])\n",
    "    substring_len = len(substring)\n",
    "    for start_ind in range(0, len(main_string) - substring_len):\n",
    "        if main_string[start_ind:start_ind + substring_len] in substring_hash:\n",
    "            return start_ind\n",
    "    return None\n",
    "\n",
    "        \n",
    "def find_substring_start_ind_rabin_karp(main_string, substring):\n",
    "    sub_hasher = RollingHasher(len(substring))\n",
    "    substring_hash = [sub_hasher.get_hash(c) for c in substring][-1]\n",
    "    main_hasher = RollingHasher(len(substring))\n",
    "    for i, c in enumerate(main_string):\n",
    "        end_ind = i+1\n",
    "        start_ind = end_ind - len(substring)\n",
    "        if substring_hash == main_hasher.get_hash(c) and strings_are_same(substring, main_string[start_ind:end_ind]):\n",
    "            return start_ind\n",
    "    return None"
   ]
  },
  {
   "cell_type": "code",
   "execution_count": 29,
   "metadata": {},
   "outputs": [
    {
     "name": "stdout",
     "output_type": "stream",
     "text": [
      "8\n",
      "8\n",
      "8\n"
     ]
    }
   ],
   "source": [
    "main_string = 'gshgiuregbisnreipngseproingseonvdk;nfvdklldksfl'\n",
    "substring = 'gbisn'\n",
    "\n",
    "print(find_substring_start_ind_simple(main_string, substring))\n",
    "print(find_substring_start_ind_set(main_string, substring))\n",
    "print(find_substring_start_ind_rabin_karp(main_string, substring))"
   ]
  },
  {
   "cell_type": "markdown",
   "metadata": {},
   "source": [
    "## 6.6: Reverse all the words in a sentence"
   ]
  },
  {
   "cell_type": "markdown",
   "metadata": {},
   "source": [
    "Given a string containing a set of words separated by whitespace, we would like to transform it to a string in which the words appear in reverse order. For example, \"Alice likes Bob\" transforms to \"Bob likes Alice\". We do not need to keep the original string.\n",
    "\n",
    "Implement a function for reversing the words in a string s.\n",
    "\n",
    "Hint: It's difficult to solve this with one pass."
   ]
  },
  {
   "cell_type": "code",
   "execution_count": 63,
   "metadata": {},
   "outputs": [],
   "source": [
    "def reverse_words_simple(sentence):\n",
    "    words = []\n",
    "    word = ''\n",
    "    for c in sentence:\n",
    "        if c == ' ':\n",
    "            words.append(word)\n",
    "            words.append(' ')\n",
    "            word = ''\n",
    "        else:\n",
    "            word += c\n",
    "    words.append(word)\n",
    "        \n",
    "    sentence_rev = ''\n",
    "    while len(words) > 0:\n",
    "        sentence_rev += words.pop()\n",
    "        \n",
    "    return sentence_rev\n",
    "\n",
    "def reverse_words_prealloc(sentence):\n",
    "    end_ind = len(sentence)\n",
    "    word = ''\n",
    "    sentence_rev = [' '] * len(sentence)\n",
    "    for c in sentence:\n",
    "        if c == ' ':\n",
    "            start_ind = end_ind-len(word)\n",
    "            sentence_rev[start_ind:end_ind] = word\n",
    "            end_ind = start_ind - 1\n",
    "            word = ''\n",
    "        else:\n",
    "            word += c\n",
    "    sentence_rev[end_ind-len(word):end_ind] = word\n",
    "        \n",
    "    return ''.join(sentence_rev)"
   ]
  },
  {
   "cell_type": "code",
   "execution_count": 64,
   "metadata": {},
   "outputs": [
    {
     "name": "stdout",
     "output_type": "stream",
     "text": [
      "Alice likes Bob\n",
      "Alice likes Bob\n"
     ]
    }
   ],
   "source": [
    "sentence = 'Bob likes Alice'\n",
    "print(reverse_words_simple(sentence))\n",
    "print(reverse_words_prealloc(sentence))"
   ]
  },
  {
   "cell_type": "markdown",
   "metadata": {},
   "source": [
    "## 6.7: Compute all mnemonics for a phone number "
   ]
  },
  {
   "cell_type": "markdown",
   "metadata": {},
   "source": [
    "Each digit, apart from 0 and 1, in a phone keypad corresponds to one of hte three or four letters of the alphabet, as shown in figure 6.1. Since words are easier to remember than number, it is natural to ask if a 7 or 10-digit phone number can be represented by a word. For examples, \"2276696\" corresponds to \"ACRONYM\" as well as \"ABPOMZN\",\n",
    "\n",
    "Write a program which takes as input a phone number, specified as a string of digits, and returns all possible character sequences that correspond to the phone number. The cell phone keypad is specified by a mapping that takes a digit and returns the corresponding set of characters. The character sequences do not have to be legal words or phrases.\n",
    "\n",
    "Hint: Use recursion."
   ]
  },
  {
   "cell_type": "code",
   "execution_count": 75,
   "metadata": {},
   "outputs": [
    {
     "name": "stdout",
     "output_type": "stream",
     "text": [
      "['AD', 'AE', 'AF', 'BD', 'BE', 'BF', 'CD', 'CE', 'CF']\n"
     ]
    }
   ],
   "source": [
    "DIGIT_LETTERS = {\n",
    "    '2': ['A', 'B', 'C'],\n",
    "    '3': ['D', 'E', 'F'],\n",
    "    '4': ['G', 'H', 'I'],\n",
    "    '5': ['J', 'K', 'L'],\n",
    "    '6': ['M', 'N', 'O'],\n",
    "    '7': ['P', 'Q', 'R', 'S'],\n",
    "    '8': ['T', 'U', 'V'],\n",
    "    '9': ['W', 'X', 'Y', 'Z']\n",
    "}\n",
    "\n",
    "\n",
    "def get_mnemonics(digits):\n",
    "    if len(digits) > 1:\n",
    "        prev_sequences = get_mnemonics(digits[:-1])\n",
    "        digit = digits[-1]\n",
    "        letters = DIGIT_LETTERS[digit]\n",
    "        \n",
    "        new_sequences = []\n",
    "        for seq in prev_sequences:\n",
    "            for letter in letters:\n",
    "                new_sequences.append(seq + letter)\n",
    "    else:\n",
    "        new_sequences = DIGIT_LETTERS[digits]\n",
    "        \n",
    "    return new_sequences\n",
    "\n",
    "\n",
    "digits = '23'\n",
    "print(get_mnemonics(digits))"
   ]
  },
  {
   "cell_type": "code",
   "execution_count": 68,
   "metadata": {},
   "outputs": [
    {
     "name": "stdout",
     "output_type": "stream",
     "text": [
      "ab\n",
      "b\n",
      "\n"
     ]
    }
   ],
   "source": [
    "set."
   ]
  },
  {
   "cell_type": "code",
   "execution_count": 77,
   "metadata": {},
   "outputs": [
    {
     "data": {
      "text/plain": [
       "{'a', 'b', 'x', 'y'}"
      ]
     },
     "execution_count": 77,
     "metadata": {},
     "output_type": "execute_result"
    }
   ],
   "source": [
    "set(['a' ,'b']).symmetric_difference(['x', 'y'])"
   ]
  },
  {
   "cell_type": "code",
   "execution_count": null,
   "metadata": {},
   "outputs": [],
   "source": [
    "set.symmetric_difference"
   ]
  }
 ],
 "metadata": {
  "kernelspec": {
   "display_name": "Python 2",
   "language": "python",
   "name": "python2"
  },
  "language_info": {
   "codemirror_mode": {
    "name": "ipython",
    "version": 2
   },
   "file_extension": ".py",
   "mimetype": "text/x-python",
   "name": "python",
   "nbconvert_exporter": "python",
   "pygments_lexer": "ipython2",
   "version": "2.7.14"
  }
 },
 "nbformat": 4,
 "nbformat_minor": 2
}
