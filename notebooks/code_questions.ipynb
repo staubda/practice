{
 "cells": [
  {
   "cell_type": "code",
   "execution_count": 1,
   "metadata": {},
   "outputs": [],
   "source": [
    "import os\n",
    "import numpy as np"
   ]
  },
  {
   "cell_type": "markdown",
   "metadata": {},
   "source": [
    "## 5.19 Rotate a 2D Array "
   ]
  },
  {
   "cell_type": "markdown",
   "metadata": {},
   "source": [
    "Image rotation is a fundamental operation in computer graphics. Figure 5.4 illustrates the rotation operation on a 2D array representing a bit-map of an image. Specifically, the image is rotated by 90 degrees clockwise.\n",
    "\n",
    "Write a function that takes as input an n x n 2D array, and rotates the array by 90 degrees clockwise.\n",
    "Hint: Focus on the boundary elements."
   ]
  },
  {
   "cell_type": "code",
   "execution_count": 102,
   "metadata": {},
   "outputs": [],
   "source": [
    "def rotate_90_clock_np(arr):\n",
    "    arr = np.array(arr)\n",
    "    arr_rot = np.zeros(arr.shape)\n",
    "    for old_row_ind, new_col_ind in enumerate(range(len(arr))[::-1]):\n",
    "        arr_rot[:, new_col_ind] = arr[old_row_ind, :]\n",
    "    return arr_rot\n",
    "\n",
    "def rotate_90_clock(arr):\n",
    "    n = len(arr)\n",
    "    arr_rot = [[None] * n for i in range(n)]\n",
    "    for old_row_ind, new_col_ind in enumerate(range(n)[::-1]):\n",
    "        for old_col_ind, new_row_ind in enumerate(range(n)):\n",
    "            arr_rot[new_row_ind][new_col_ind] = arr[old_row_ind][old_col_ind]\n",
    "    return arr_rot"
   ]
  },
  {
   "cell_type": "code",
   "execution_count": 103,
   "metadata": {},
   "outputs": [
    {
     "name": "stdout",
     "output_type": "stream",
     "text": [
      "[[ 1  2  3  4]\n",
      " [ 5  6  7  8]\n",
      " [ 9 10 11 12]\n",
      " [13 14 15 16]]\n",
      "\n",
      "[[13  9  5  1]\n",
      " [14 10  6  2]\n",
      " [15 11  7  3]\n",
      " [16 12  8  4]]\n"
     ]
    }
   ],
   "source": [
    "# arr = [[i] * n for i in range(5)]\n",
    "# arr = [[1, 2], [3, 4]]\n",
    "arr = [[1, 2, 3, 4], [5, 6, 7, 8], [9, 10, 11, 12], [13, 14, 15, 16]]\n",
    "\n",
    "arr_rot = rotate_90_clock(arr)\n",
    "\n",
    "print(np.array(arr))\n",
    "print('')\n",
    "print(np.array(arr_rot))"
   ]
  },
  {
   "cell_type": "markdown",
   "metadata": {},
   "source": [
    "## 5.13 Sample Online Data "
   ]
  },
  {
   "cell_type": "markdown",
   "metadata": {},
   "source": [
    "This problem is motivated by the disgn of a packet sniffer that provides a uniform sample of packets for a network session.\n",
    "\n",
    "Design a program that takes as input a size k, and reads packets, coninuously maintaining a uniform random subset of size k of the read packets.\n",
    "\n",
    "Hint: Suppose you have a procedure which selects k packets from the first n >= k packets as specified. How would you deal with the (n+1)st packet?"
   ]
  },
  {
   "cell_type": "code",
   "execution_count": 104,
   "metadata": {},
   "outputs": [],
   "source": [
    "import random\n",
    "\n",
    "class PacketSampler:\n",
    "    \n",
    "    def __init__(self, k):\n",
    "        self.k = k\n",
    "        self.n = 0\n",
    "        self.subset = []\n",
    "        \n",
    "    def receive_packet(self, p):\n",
    "        if len(self.subset) < self.k:\n",
    "            self.subset.append(p)\n",
    "#         else:\n",
    "#             replace_prob = float(self.k) / (self.n + 1)\n",
    "#             if random.random() < replace_prob:\n",
    "#                 replace_ind = random.randint(0, self.k - 1)\n",
    "#                 self.subset[replace_ind] = p\n",
    "        else:\n",
    "            replace_ind = random.randint(0, self.n)\n",
    "            if replace_ind < self.k:\n",
    "                self.subset[replace_ind] = p\n",
    "        self.n += 1"
   ]
  },
  {
   "cell_type": "code",
   "execution_count": 105,
   "metadata": {},
   "outputs": [
    {
     "data": {
      "text/plain": [
       "{0: 3084,\n",
       " 1: 2973,\n",
       " 2: 2971,\n",
       " 3: 3005,\n",
       " 4: 3016,\n",
       " 5: 2936,\n",
       " 6: 2956,\n",
       " 7: 3008,\n",
       " 8: 2979,\n",
       " 9: 3072}"
      ]
     },
     "execution_count": 105,
     "metadata": {},
     "output_type": "execute_result"
    }
   ],
   "source": [
    "k = 3\n",
    "num_packet = 10\n",
    "\n",
    "num_trial = 10000\n",
    "packet_counter = {i: 0 for i in range(num_packet)}\n",
    "\n",
    "for trial_ind in range(num_trial):\n",
    "\n",
    "    ps = PacketSampler(k)\n",
    "\n",
    "    for p in range(num_packet):\n",
    "        ps.receive_packet(p)\n",
    "        \n",
    "    for p in ps.subset:\n",
    "        packet_counter[p] += 1\n",
    "        \n",
    "packet_counter"
   ]
  },
  {
   "cell_type": "code",
   "execution_count": null,
   "metadata": {},
   "outputs": [],
   "source": []
  }
 ],
 "metadata": {
  "kernelspec": {
   "display_name": "Python 2",
   "language": "python",
   "name": "python2"
  },
  "language_info": {
   "codemirror_mode": {
    "name": "ipython",
    "version": 2
   },
   "file_extension": ".py",
   "mimetype": "text/x-python",
   "name": "python",
   "nbconvert_exporter": "python",
   "pygments_lexer": "ipython2",
   "version": "2.7.15rc1"
  }
 },
 "nbformat": 4,
 "nbformat_minor": 2
}
