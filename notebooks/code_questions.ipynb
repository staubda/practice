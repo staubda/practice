{
 "cells": [
  {
   "cell_type": "code",
   "execution_count": null,
   "metadata": {},
   "outputs": [],
   "source": [
    "import os\n",
    "import numpy as np"
   ]
  },
  {
   "cell_type": "markdown",
   "metadata": {},
   "source": [
    "## 5.19 Rotate a 2D Array "
   ]
  },
  {
   "cell_type": "markdown",
   "metadata": {},
   "source": [
    "Image rotation is a fundamental operation in computer graphics. Figure 5.4 illustrates the rotation operation on a 2D array representing a bit-map of an image. Specifically, the image is rotated by 90 degrees clockwise.\n",
    "\n",
    "Write a function that takes as input an n x n 2D array, and rotates the array by 90 degrees clockwise.\n",
    "Hint: Focus on the boundary elements."
   ]
  },
  {
   "cell_type": "code",
   "execution_count": null,
   "metadata": {},
   "outputs": [],
   "source": [
    "def rotate_90_clock_np(arr):\n",
    "    arr = np.array(arr)\n",
    "    arr_rot = np.zeros(arr.shape)\n",
    "    for old_row_ind, new_col_ind in enumerate(range(len(arr))[::-1]):\n",
    "        arr_rot[:, new_col_ind] = arr[old_row_ind, :]\n",
    "    return arr_rot\n",
    "\n",
    "\n",
    "def rotate_coords_90_clock(i, j, n):\n",
    "    i_rot = j\n",
    "    j_rot = n - 1 - i\n",
    "    return i_rot, j_rot\n",
    "\n",
    "\n",
    "def rotate_corners(arr, i_start, j_start):\n",
    "    n = len(arr)\n",
    "    i_orig, j_orig = i_start, j_start\n",
    "    reassign_val = arr[i_orig][j_orig]\n",
    "    for _ in range(4):\n",
    "        i_rot, j_rot = rotate_coords_90_clock(i_orig, j_orig, n)\n",
    "        temp = arr[i_rot][j_rot]\n",
    "        arr[i_rot][j_rot] = reassign_val\n",
    "        reassign_val = temp\n",
    "        i_orig, j_orig = i_rot, j_rot\n",
    "\n",
    "        \n",
    "def rotate_square(arr, ind_start):\n",
    "    i_start = ind_start\n",
    "    for j_start in range(ind_start, len(arr) - ind_start - 1):\n",
    "        rotate_corners(arr, i_start, j_start)\n",
    "\n",
    "        \n",
    "def rotate_90_clock_inplace(arr):\n",
    "    num_square = len(arr) / 2\n",
    "    for ind_start in range(num_square):\n",
    "        rotate_square(arr, ind_start)\n",
    "\n",
    "        \n",
    "def rotate_90_clock(arr):\n",
    "    n = len(arr)\n",
    "    arr_rot = [[None] * n for i in range(n)]\n",
    "    for i in range(n):\n",
    "        for j in range(n):\n",
    "            i_rot, j_rot = rotate_coords_90_clock(i, j, n)\n",
    "            arr_rot[i_rot][j_rot] = arr[i][j]\n",
    "    return arr_rot\n",
    "\n",
    "\n",
    "def rotate(arr):\n",
    "    for i in xrange(len(arr)/2):\n",
    "#         for j in xrange(len(arr)/2 + len(arr)%2):\n",
    "        for j in xrange(i, len(arr) - i - 1):\n",
    "            rotate_corners(arr,i,j)\n",
    "    return arr"
   ]
  },
  {
   "cell_type": "code",
   "execution_count": null,
   "metadata": {},
   "outputs": [],
   "source": [
    "# arr = [[i] * n for i in range(5)]\n",
    "# arr = [[1, 2], [3, 4]]\n",
    "# arr = [[1, 2, 3, 4], [5, 6, 7, 8], [9, 10, 11, 12], [13, 14, 15, 16]]\n",
    "arr = [[1, 2, 3, 4, 140], [5, 6, 7, 8, 130], [9, 10, 11, 12, 120], [13, 14, 15, 16, 110], [17, 18, 19, 20, 100]]\n",
    "\n",
    "# arr_rot = rotate_90_clock(arr)\n",
    "\n",
    "# print(np.array(arr))\n",
    "# print('')\n",
    "# print(np.array(arr_rot))\n",
    "\n",
    "print(np.array(arr))\n",
    "# rotate_90_clock_inplace(arr)\n",
    "rotate(arr)\n",
    "print('')\n",
    "print(np.array(arr))"
   ]
  },
  {
   "cell_type": "markdown",
   "metadata": {},
   "source": [
    "## 5.13 Sample Online Data "
   ]
  },
  {
   "cell_type": "markdown",
   "metadata": {},
   "source": [
    "This problem is motivated by the disgn of a packet sniffer that provides a uniform sample of packets for a network session.\n",
    "\n",
    "Design a program that takes as input a size k, and reads packets, coninuously maintaining a uniform random subset of size k of the read packets.\n",
    "\n",
    "Hint: Suppose you have a procedure which selects k packets from the first n >= k packets as specified. How would you deal with the (n+1)st packet?"
   ]
  },
  {
   "cell_type": "code",
   "execution_count": null,
   "metadata": {},
   "outputs": [],
   "source": [
    "import random\n",
    "\n",
    "class PacketSampler:\n",
    "    \n",
    "    def __init__(self, k):\n",
    "        self.k = k\n",
    "        self.n = 0\n",
    "        self.subset = []\n",
    "        \n",
    "    def receive_packet(self, p):\n",
    "        if len(self.subset) < self.k:\n",
    "            self.subset.append(p)\n",
    "        else:\n",
    "            replace_prob = float(self.k) / (self.n + 1)\n",
    "            if random.random() < replace_prob:\n",
    "                replace_ind = random.randint(0, self.k - 1)\n",
    "                self.subset[replace_ind] = p\n",
    "        self.n += 1\n",
    "\n",
    "\n",
    "class PacketSamplerWrong:\n",
    "    \n",
    "    def __init__(self, k):\n",
    "        self.k = k\n",
    "        self.n = 0\n",
    "        self.subset = []\n",
    "        \n",
    "    def receive_packet(self, p):\n",
    "        if len(self.subset) < self.k:\n",
    "            self.subset.append(p)\n",
    "        else:\n",
    "            replace_prob = random.random()\n",
    "            if random.random() < replace_prob:\n",
    "                replace_ind = random.randint(0, self.k - 1)\n",
    "                self.subset[replace_ind] = p\n",
    "        self.n += 1\n",
    "\n",
    "\n",
    "def get_packet_subset(n, packet_sampler):\n",
    "    for i in range(n):\n",
    "        packet_sampler.receive_packet(i)\n",
    "    return packet_sampler.subset\n",
    "\n",
    "\n",
    "def get_simulated_distribution(n, k, sampler_name, num_trials):\n",
    "    if sampler_name == 'right':\n",
    "        Sampler = PacketSampler\n",
    "    elif sampler_name == 'wrong':\n",
    "        Sampler = PacketSamplerWrong\n",
    "    else:\n",
    "        raise ValueError('Unrecognized sampler name.')\n",
    "    \n",
    "    packet_counter = {p: 0 for p in range(n)}\n",
    "    for trial_ind in range(num_trials):\n",
    "        subset = get_packet_subset(n, Sampler(k))\n",
    "        for p in subset:\n",
    "            packet_counter[p] += 1\n",
    "    \n",
    "    return packet_counter"
   ]
  },
  {
   "cell_type": "code",
   "execution_count": null,
   "metadata": {},
   "outputs": [],
   "source": [
    "num_trials = 500000\n",
    "n = 10\n",
    "k = 3\n",
    "sampler_name = 'wrong'\n",
    "\n",
    "packet_counts = get_simulated_distribution(n=n, k=k, sampler_name=sampler_name, num_trials=num_trials)\n",
    "num_exp = num_trials / n * k\n",
    "\n",
    "for count in packet_counts.itervalues():\n",
    "    pct_dev = 100.0 * abs(num_exp - count) / num_exp\n",
    "    print(pct_dev)"
   ]
  },
  {
   "cell_type": "markdown",
   "metadata": {},
   "source": [
    "## 5.18 Compute the Spiral Ordering of a 2D array "
   ]
  },
  {
   "cell_type": "code",
   "execution_count": null,
   "metadata": {},
   "outputs": [],
   "source": [
    "def change_direction(increment):\n",
    "    increment_new = increment[::-1]\n",
    "    if abs(increment[0]) == 1:\n",
    "        increment_new[1] *= -1\n",
    "    return increment_new\n",
    "\n",
    "def spiralize(arr):\n",
    "    i_bounds = [0, len(arr) - 1]\n",
    "    j_bounds = [0, len(arr[0]) - 1]\n",
    "    increment = [0, 1]\n",
    "    i = 0\n",
    "    j = 0\n",
    "    arr_spiral = []\n",
    "\n",
    "    while i_bounds[1] >= i_bounds[0]:\n",
    "\n",
    "        arr_spiral.append(arr[i][j])\n",
    "\n",
    "        i_prop = i + increment[0]\n",
    "        j_prop = j + increment[1]\n",
    "\n",
    "        if j_prop > j_bounds[1]:\n",
    "            i_bounds[0] += 1\n",
    "        elif j_prop < j_bounds[0]:\n",
    "            i_bounds[1] -= 1\n",
    "        elif i_prop > i_bounds[1]:\n",
    "            j_bounds[1] -= 1\n",
    "        elif i_prop < i_bounds[0]:\n",
    "            j_bounds[0] += 1\n",
    "        else:\n",
    "            i = i_prop\n",
    "            j = j_prop\n",
    "            continue\n",
    "\n",
    "        increment = change_direction(increment)\n",
    "        i += increment[0]\n",
    "        j += increment[1]\n",
    "        \n",
    "    return arr_spiral"
   ]
  },
  {
   "cell_type": "code",
   "execution_count": null,
   "metadata": {},
   "outputs": [],
   "source": [
    "arr = [[1, 2, 3, 4], [5, 6, 7, 8], [9, 10, 11, 12], [13, 14, 15, 16]]\n",
    "\n",
    "print(np.array(arr))\n",
    "print('')\n",
    "print(spiralize(arr))"
   ]
  },
  {
   "cell_type": "markdown",
   "metadata": {},
   "source": [
    "## 6.13: Find the first occurrence of a substring "
   ]
  },
  {
   "cell_type": "markdown",
   "metadata": {},
   "source": [
    "A good string search algorithm is fundamental to the performance of many applications. Several clever algorithms have been proposed for string search, each with its own trade-offs. As a result, there is no single perfect answer. If someone asks you this question in an interview, the best way to approach this problem would be to work through one good algorithm in detail and discuss at a high level other algorithms.\n",
    "\n",
    "Given two strings s (the \"search string\") and t (the \"text\"), find the first occurrence of s in t.\n",
    "\n",
    "Hint: Form a signature from a string"
   ]
  },
  {
   "cell_type": "code",
   "execution_count": 28,
   "metadata": {},
   "outputs": [],
   "source": [
    "from collections import deque\n",
    "\n",
    "\n",
    "def strings_are_same(str1, str2):\n",
    "    for c1, c2 in zip(str1, str2):\n",
    "        if c1 != c2:\n",
    "            return False\n",
    "    return True\n",
    "\n",
    "\n",
    "class RollingHasher:\n",
    "    \"\"\"Following https://en.wikipedia.org/wiki/Rabin%E2%80%93Karp_algorithm\"\"\"\n",
    "    \n",
    "    def __init__(self, substring_len, base=256, prime_modulus=101):\n",
    "        self.substring_len = substring_len\n",
    "        self.base = base\n",
    "        self.prime_modulus = prime_modulus\n",
    "        self._char_q = deque()\n",
    "        self._hash = 0\n",
    "        \n",
    "    def _add_to_hash(self, c):\n",
    "        # O(1) time\n",
    "        self._hash = (self._hash * self.base + ord(c)) % self.prime_modulus\n",
    "        self._char_q.append(c)\n",
    "        \n",
    "    def _remove_first_in_from_hash(self):\n",
    "        # O(substring_len) time\n",
    "        left_base_offset = 1\n",
    "        for i in range(self.substring_len - 1):\n",
    "            left_base_offset *= self.base \n",
    "            left_base_offset %= self.prime_modulus\n",
    "        remove_val = ord(self._char_q.popleft())\n",
    "        self._hash = self._hash + self.prime_modulus - remove_val * left_base_offset  # adding extra mod val ensures result isn't negative\n",
    "        \n",
    "    def get_hash(self, next_letter):\n",
    "        # O(substring_len) time\n",
    "        if len(self._char_q) == self.substring_len:\n",
    "            hash_sub = self._remove_first_in_from_hash()\n",
    "        self._add_to_hash(next_letter)\n",
    "        return self._hash if len(self._char_q) == self.substring_len else None\n",
    "\n",
    "\n",
    "def find_substring_start_ind_simple(main_string, substring):\n",
    "    substring_len = len(substring)\n",
    "    for start_ind in range(0, len(main_string) - substring_len):\n",
    "        if strings_are_same(substring, main_string[start_ind:start_ind + substring_len]):\n",
    "            return start_ind\n",
    "    return None\n",
    "\n",
    "\n",
    "def find_substring_start_ind_set(main_string, substring):\n",
    "    substring_hash = set([substring])\n",
    "    substring_len = len(substring)\n",
    "    for start_ind in range(0, len(main_string) - substring_len):\n",
    "        if main_string[start_ind:start_ind + substring_len] in substring_hash:\n",
    "            return start_ind\n",
    "    return None\n",
    "\n",
    "        \n",
    "def find_substring_start_ind_rabin_karp(main_string, substring):\n",
    "    # O(substring_len * string_len)\n",
    "    sub_hasher = RollingHasher(len(substring))\n",
    "    substring_hash = [sub_hasher.get_hash(c) for c in substring][-1]\n",
    "    main_hasher = RollingHasher(len(substring))\n",
    "    for i, c in enumerate(main_string):\n",
    "        end_ind = i+1\n",
    "        start_ind = end_ind - len(substring)\n",
    "        if substring_hash == main_hasher.get_hash(c) and strings_are_same(substring, main_string[start_ind:end_ind]):\n",
    "            return start_ind\n",
    "    return None"
   ]
  },
  {
   "cell_type": "code",
   "execution_count": 29,
   "metadata": {},
   "outputs": [
    {
     "name": "stdout",
     "output_type": "stream",
     "text": [
      "8\n",
      "8\n",
      "8\n"
     ]
    }
   ],
   "source": [
    "main_string = 'gshgiuregbisnreipngseproingseonvdk;nfvdklldksfl'\n",
    "substring = 'gbisn'\n",
    "\n",
    "print(find_substring_start_ind_simple(main_string, substring))\n",
    "print(find_substring_start_ind_set(main_string, substring))\n",
    "print(find_substring_start_ind_rabin_karp(main_string, substring))"
   ]
  },
  {
   "cell_type": "markdown",
   "metadata": {},
   "source": [
    "## 6.6: Reverse all the words in a sentence"
   ]
  },
  {
   "cell_type": "markdown",
   "metadata": {},
   "source": [
    "Given a string containing a set of words separated by whitespace, we would like to transform it to a string in which the words appear in reverse order. For example, \"Alice likes Bob\" transforms to \"Bob likes Alice\". We do not need to keep the original string.\n",
    "\n",
    "Implement a function for reversing the words in a string s.\n",
    "\n",
    "Hint: It's difficult to solve this with one pass."
   ]
  },
  {
   "cell_type": "code",
   "execution_count": 63,
   "metadata": {},
   "outputs": [],
   "source": [
    "def reverse_words_simple(sentence):\n",
    "    words = []\n",
    "    word = ''\n",
    "    for c in sentence:\n",
    "        if c == ' ':\n",
    "            words.append(word)\n",
    "            words.append(' ')\n",
    "            word = ''\n",
    "        else:\n",
    "            word += c\n",
    "    words.append(word)\n",
    "        \n",
    "    sentence_rev = ''\n",
    "    while len(words) > 0:\n",
    "        sentence_rev += words.pop()\n",
    "        \n",
    "    return sentence_rev\n",
    "\n",
    "def reverse_words_prealloc(sentence):\n",
    "    end_ind = len(sentence)\n",
    "    word = ''\n",
    "    sentence_rev = [' '] * len(sentence)\n",
    "    for c in sentence:\n",
    "        if c == ' ':\n",
    "            start_ind = end_ind-len(word)\n",
    "            sentence_rev[start_ind:end_ind] = word\n",
    "            end_ind = start_ind - 1\n",
    "            word = ''\n",
    "        else:\n",
    "            word += c\n",
    "    sentence_rev[end_ind-len(word):end_ind] = word\n",
    "        \n",
    "    return ''.join(sentence_rev)"
   ]
  },
  {
   "cell_type": "code",
   "execution_count": 64,
   "metadata": {},
   "outputs": [
    {
     "name": "stdout",
     "output_type": "stream",
     "text": [
      "Alice likes Bob\n",
      "Alice likes Bob\n"
     ]
    }
   ],
   "source": [
    "sentence = 'Bob likes Alice'\n",
    "print(reverse_words_simple(sentence))\n",
    "print(reverse_words_prealloc(sentence))"
   ]
  },
  {
   "cell_type": "markdown",
   "metadata": {},
   "source": [
    "## 6.7: Compute all mnemonics for a phone number "
   ]
  },
  {
   "cell_type": "markdown",
   "metadata": {},
   "source": [
    "Each digit, apart from 0 and 1, in a phone keypad corresponds to one of hte three or four letters of the alphabet, as shown in figure 6.1. Since words are easier to remember than number, it is natural to ask if a 7 or 10-digit phone number can be represented by a word. For examples, \"2276696\" corresponds to \"ACRONYM\" as well as \"ABPOMZN\",\n",
    "\n",
    "Write a program which takes as input a phone number, specified as a string of digits, and returns all possible character sequences that correspond to the phone number. The cell phone keypad is specified by a mapping that takes a digit and returns the corresponding set of characters. The character sequences do not have to be legal words or phrases.\n",
    "\n",
    "Hint: Use recursion."
   ]
  },
  {
   "cell_type": "code",
   "execution_count": 78,
   "metadata": {},
   "outputs": [],
   "source": [
    "DIGIT_LETTERS = {\n",
    "    '2': ['A', 'B', 'C'],\n",
    "    '3': ['D', 'E', 'F'],\n",
    "    '4': ['G', 'H', 'I'],\n",
    "    '5': ['J', 'K', 'L'],\n",
    "    '6': ['M', 'N', 'O'],\n",
    "    '7': ['P', 'Q', 'R', 'S'],\n",
    "    '8': ['T', 'U', 'V'],\n",
    "    '9': ['W', 'X', 'Y', 'Z']\n",
    "}\n",
    "\n",
    "\n",
    "def get_mnemonics(digits):\n",
    "    if len(digits) == 1:\n",
    "        return DIGIT_LETTERS[digits]\n",
    "    \n",
    "    prev_sequences = get_mnemonics(digits[:-1])\n",
    "    digit = digits[-1]\n",
    "    letters = DIGIT_LETTERS[digit]\n",
    "\n",
    "    new_sequences = []\n",
    "    for seq in prev_sequences:\n",
    "        for letter in letters:\n",
    "            new_sequences.append(seq + letter)\n",
    "        \n",
    "    return new_sequences"
   ]
  },
  {
   "cell_type": "code",
   "execution_count": 79,
   "metadata": {},
   "outputs": [
    {
     "name": "stdout",
     "output_type": "stream",
     "text": [
      "['AD', 'AE', 'AF', 'BD', 'BE', 'BF', 'CD', 'CE', 'CF']\n"
     ]
    }
   ],
   "source": [
    "digits = '23'\n",
    "print(get_mnemonics(digits))"
   ]
  },
  {
   "cell_type": "markdown",
   "metadata": {},
   "source": [
    "## 6.4: Replace and Remove "
   ]
  },
  {
   "cell_type": "markdown",
   "metadata": {},
   "source": [
    "Consider the following two rules that are to be applied to an array of characters.\n",
    "* Replace each 'a' by two 'd's\n",
    "* Delete each entry containing a 'b'\n",
    "For example, applying these rules to the array [a,c,d,b,c,a] results in the array [d,d,c,d,c,d,d]\n",
    "\n",
    "Write a program which takes as input an array of characters, and removes each 'b' and replaces each 'a' by two 'd's. Specifically, along with the array, you are provided an integer-valued size. Size denotes the number of entries of hte array that the operation is to be applied to. You do not have to worry about preserving subsequent entries. For example, if the array is [a,b,a,c,_] and the size is 4, then you can return [d,d,d,d,c]. You can assume there is enough space int he array to hold the final result.\n",
    "\n",
    "Hint: Consider performing multiple passes on s."
   ]
  },
  {
   "cell_type": "code",
   "execution_count": 81,
   "metadata": {},
   "outputs": [],
   "source": [
    "from collections import deque\n",
    "\n",
    "\n",
    "def replace_and_remove(arr, size):\n",
    "    q = deque()\n",
    "\n",
    "    for i, c in enumerate(arr[:size]):\n",
    "        if c == 'a':\n",
    "            q.append('d')\n",
    "            q.append('d')\n",
    "        elif c != 'b':\n",
    "            q.append(c)\n",
    "        arr[i] = q.popleft()\n",
    "    \n",
    "    while len(q) > 0:\n",
    "        i += 1\n",
    "        arr[i] = q.popleft()\n",
    "        \n",
    "    return arr\n",
    "\n",
    "\n",
    "def replace_and_remove_inplace(arr, size):\n",
    "    # Get rid of b's first to make sure there's enough room for the extra d's\n",
    "    replace_ind = 0\n",
    "    num_a = 0\n",
    "    for i, c in enumerate(arr[:size]):\n",
    "        arr[i] = '_'\n",
    "        if c != 'b':\n",
    "            arr[replace_ind] = c\n",
    "            replace_ind += 1\n",
    "            if c == 'a':\n",
    "                num_a += 1\n",
    "        else:\n",
    "            size -= 1\n",
    "    \n",
    "    # Add in d's\n",
    "    cur_ind = size + num_a - 1\n",
    "    for c in arr[:size][::-1]:\n",
    "        if arr[cur_ind] == 'a':\n",
    "            arr[cur_ind] = 'd'\n",
    "            arr[cur_ind - 1] = 'd'\n",
    "            cur_ind -= 2\n",
    "        else:\n",
    "            arr[cur_ind] = c\n",
    "            cur_ind -= 1\n",
    "\n",
    "    return arr"
   ]
  },
  {
   "cell_type": "code",
   "execution_count": 82,
   "metadata": {},
   "outputs": [
    {
     "name": "stdout",
     "output_type": "stream",
     "text": [
      "['a', 'a', 'a', 'a', 'c']\n"
     ]
    }
   ],
   "source": [
    "arr = ['a','b','a','c','_']\n",
    "# arr = ['a','a','a','b','b','b']\n",
    "size = 4\n",
    "# print(replace_and_remove(arr, size))\n",
    "print(replace_and_remove_inplace(arr, size))"
   ]
  },
  {
   "cell_type": "markdown",
   "metadata": {},
   "source": [
    "## 7.1 Merge Two Sorted Lists "
   ]
  },
  {
   "cell_type": "markdown",
   "metadata": {},
   "source": [
    "Consider two singly linked lists in which each node holds a number. Assume the lists are sorted, i.e., number isn the list appear in ascending order within each list. The merge of the two lists is a list consisting of the nodes of the two lists in which numbers appear in ascending order. Merge is illustrated in Figure 7.3.\n",
    "\n",
    "Write a program that takes two lists, assumed to be sorted, and returns their merge. The only field your program can change in a node is its next field.\n",
    "\n",
    "Hint: Two sorted arrays can be merged using two indices. For lists, take care when one iterator reaches the end."
   ]
  },
  {
   "cell_type": "code",
   "execution_count": 149,
   "metadata": {},
   "outputs": [],
   "source": [
    "def merge_lists(ll1, ll2):\n",
    "    if ll2.value < ll1.value:\n",
    "        ll1, ll2 = ll2, ll1\n",
    "    ll1_cur = ll1\n",
    "    ll2_cur = ll2\n",
    "    \n",
    "    while ll2_cur is not None:\n",
    "        # Advance ll1 to just before ll2 becomes smaller\n",
    "        while ll1_cur.next is not None and ll1_cur.next.value < ll2_cur.value:\n",
    "            ll1_cur = ll1_cur.next\n",
    "        \n",
    "        # Add the rest of ll2 if at the end of ll1\n",
    "        if ll1_cur.next is None and ll2_cur is not None:\n",
    "            ll1_cur.next = ll2_cur\n",
    "            break\n",
    "        \n",
    "        # Pop from ll2 and insert into ll1\n",
    "        ll2_next = ll2_cur.next\n",
    "        ll2_cur.next = ll1_cur.next\n",
    "        ll1_cur.next = ll2_cur\n",
    "        ll2_cur = ll2_next\n",
    "            \n",
    "    return ll1"
   ]
  },
  {
   "cell_type": "code",
   "execution_count": 150,
   "metadata": {},
   "outputs": [
    {
     "name": "stdout",
     "output_type": "stream",
     "text": [
      "[1, 2, 4, 4, 4, 5, 7]\n"
     ]
    }
   ],
   "source": [
    "import sys\n",
    "sys.path.append('C:\\\\Users\\\\David\\\\Documents\\\\github_repos\\\\eopi\\\\seven')\n",
    "from linked_list import LinkedList\n",
    "\n",
    "# lili2 = LinkedList([1, 2, 3, 8, 29, 1000])\n",
    "# lili1 = LinkedList([4, 18, 19, 72, 80, 99])\n",
    "lili2 = LinkedList([1, 2, 4, 7])\n",
    "lili1 = LinkedList([1, 4, 4, 5])\n",
    "merge_lists(lili1, lili2)\n",
    "print(lili2.as_list())"
   ]
  },
  {
   "cell_type": "markdown",
   "metadata": {},
   "source": [
    "## 7.3 Test for Cyclicity "
   ]
  },
  {
   "cell_type": "markdown",
   "metadata": {},
   "source": [
    "Although a linked list is supposed to be a sequence of nodes ending in null, it is possible to create a cycle in a linked list by making the next field of an element reference to one of the earlier nodes. \n",
    "\n",
    "Write a program that takes the head of a singly linked list and returns null if there does not exist a cycle, and the node at the start of the cycle, if a cycle is present. (You do not know the length of the list in advance.)\n",
    "\n",
    "Hint: Consider using two iterators, one fast and one slow.\n",
    "\n",
    "Fred Note: The first time you solve this problem ignore the hint and use as much extra memory as you want. Then try to solve it in place with O(1) memory and use the hint."
   ]
  },
  {
   "cell_type": "code",
   "execution_count": 231,
   "metadata": {},
   "outputs": [],
   "source": [
    "def find_cycle_naive(ll):\n",
    "    prev_nodes = set()\n",
    "    ll_cur = ll\n",
    "    while ll_cur is not None:\n",
    "        if ll_cur not in prev_nodes:\n",
    "            prev_nodes.add(ll_cur)\n",
    "            ll_cur = ll_cur.next\n",
    "        else:\n",
    "            return ll_cur\n",
    "    return None\n",
    "\n",
    "def find_loop_node(ll):\n",
    "    ll_cur_slow = ll\n",
    "    ll_cur_fast = ll.next\n",
    "    while None not in [ll_cur_slow, ll_cur_fast]:\n",
    "        if ll_cur_slow == ll_cur_fast:\n",
    "            return ll_cur_slow\n",
    "        ll_cur_slow = ll_cur_slow.next\n",
    "        ll_cur_fast = ll_cur_fast.next\n",
    "        ll_cur_fast = None if ll_cur_fast is None else ll_cur_fast.next\n",
    "    return None\n",
    "\n",
    "def node_in_loop(node, loop_node):\n",
    "    test_node = loop_node.next\n",
    "    while test_node != loop_node:\n",
    "        if node == test_node:\n",
    "            return True\n",
    "        else:\n",
    "            test_node = test_node.next\n",
    "    return node == loop_node\n",
    "\n",
    "def find_loop_len(loop_node):\n",
    "    len = 1\n",
    "    cur_node = loop_node.next\n",
    "    while cur_node != loop_node:\n",
    "        len += 1\n",
    "        cur_node = cur_node.next\n",
    "    return len\n",
    "\n",
    "def find_cycle_inplace(ll):\n",
    "    loop_node = find_loop_node(ll)\n",
    "    if loop_node is None:\n",
    "        return None\n",
    "    \n",
    "    loop_len = find_loop_len(loop_node)\n",
    "    print(loop_len)\n",
    "    \n",
    "    ll1_cur = ll\n",
    "    ll2_cur = ll\n",
    "    for i in range(loop_len):\n",
    "        ll2_cur = ll2_cur.next\n",
    "    while ll1_cur != ll2_cur:\n",
    "        ll1_cur = ll1_cur.next\n",
    "        ll2_cur = ll2_cur.next\n",
    "    \n",
    "    return ll1_cur"
   ]
  },
  {
   "cell_type": "code",
   "execution_count": 230,
   "metadata": {},
   "outputs": [
    {
     "name": "stdout",
     "output_type": "stream",
     "text": [
      "3\n",
      "4\n"
     ]
    }
   ],
   "source": [
    "import sys\n",
    "sys.path.append('C:\\\\Users\\\\David\\\\Documents\\\\github_repos\\\\eopi\\\\seven')\n",
    "from linked_list import LinkedList\n",
    "\n",
    "lili1 = LinkedList([1, 41, 4, 15, 5, 7])\n",
    "lili1.next.next.next.next.next = lili1.next.next\n",
    "\n",
    "# ll_cycle = find_cycle_naive(lili1)\n",
    "ll_cycle = find_cycle_inplace(lili1)\n",
    "print(ll_cycle.value)"
   ]
  },
  {
   "cell_type": "markdown",
   "metadata": {},
   "source": [
    "## Delete a node from a singly linked list"
   ]
  },
  {
   "cell_type": "markdown",
   "metadata": {},
   "source": [
    "Given a node in a singly linked list, deleting it in O(1) time appears impossible because its predecessor's next field has to be updated. Surprisingly, it can be done with one small caveat-the node to delete cannot be the last one in the list and it is easy to copy the value part of a node.\n",
    "\n",
    "Write a program which deletes a node in a singly linked list. The input node is guaranteed not to be the tail node.\n",
    "\n",
    "Hint: Instead of deleting the node, can you delete its successor and still achieve the desired configuration?"
   ]
  },
  {
   "cell_type": "code",
   "execution_count": 169,
   "metadata": {},
   "outputs": [],
   "source": [
    "def delete_node(ll):\n",
    "    ll.value = ll.next.value\n",
    "    ll.next = ll.next.next"
   ]
  },
  {
   "cell_type": "code",
   "execution_count": 170,
   "metadata": {},
   "outputs": [
    {
     "name": "stdout",
     "output_type": "stream",
     "text": [
      "1->41->15->5->7\n"
     ]
    }
   ],
   "source": [
    "import sys\n",
    "sys.path.append('C:\\\\Users\\\\David\\\\Documents\\\\github_repos\\\\eopi\\\\seven')\n",
    "from linked_list import LinkedList\n",
    "\n",
    "lili1 = LinkedList([1, 41, 4, 15, 5, 7])\n",
    "delete_node(lili1.next.next)\n",
    "print(lili1)"
   ]
  },
  {
   "cell_type": "markdown",
   "metadata": {},
   "source": [
    "## 7.8 Remove Duplicates from a Sorted List "
   ]
  },
  {
   "cell_type": "markdown",
   "metadata": {},
   "source": [
    "This problem is concerned with removing duplicates from a sorted list of integers. See Figure 7.8 for an example.\n",
    "\n",
    "Write a program that takes as input a singly linked list of integers in sorted order, and removes duplicates from it. The list should be sorted.\n",
    "\n",
    "Hint: Focus on the successor fields which have to be updated."
   ]
  },
  {
   "cell_type": "code",
   "execution_count": 159,
   "metadata": {},
   "outputs": [
    {
     "name": "stdout",
     "output_type": "stream",
     "text": [
      "1->4->5->7\n"
     ]
    }
   ],
   "source": [
    "def remove_duplicates(ll):\n",
    "    ll_cur = ll\n",
    "    while ll_cur is not None and ll_cur.next is not None:\n",
    "        if ll_cur.value == ll_cur.next.value:\n",
    "            ll_cur.next = ll_cur.next.next\n",
    "        ll_cur = ll_cur.next\n",
    "    return ll"
   ]
  },
  {
   "cell_type": "code",
   "execution_count": null,
   "metadata": {},
   "outputs": [],
   "source": [
    "import sys\n",
    "sys.path.append('C:\\\\Users\\\\David\\\\Documents\\\\github_repos\\\\eopi\\\\seven')\n",
    "from linked_list import LinkedList\n",
    "\n",
    "lili1 = LinkedList([1, 4, 4, 5, 5, 7])\n",
    "remove_duplicates(lili1)\n",
    "print(lili1)"
   ]
  },
  {
   "cell_type": "markdown",
   "metadata": {},
   "source": [
    "## 7 - Random stats question "
   ]
  },
  {
   "cell_type": "markdown",
   "metadata": {},
   "source": [
    "Let x and y be U[0, 1]. What is the expected value of |x - y|? \n",
    "\n",
    "What is the distribution of |x - y|? "
   ]
  },
  {
   "cell_type": "code",
   "execution_count": null,
   "metadata": {},
   "outputs": [],
   "source": [
    "z = x - y\n",
    "p(z)\n",
    "      1.0\n",
    "     / | \\ \n",
    "-1/____|____\\1\n",
    "       0\n",
    "p(z) = 1 + z, z E [-1, 0]\n",
    "       1 - z, z E [0, 1]\n",
    "\n",
    "\n",
    "z = |x - y|\n",
    "p(z)\n",
    "2.0\n",
    "| \\\n",
    "|  \\\n",
    "|   \\\n",
    "|____\\1\n",
    "0\n",
    "p(z) = 2 - 2z, z E [0, 1]\n",
    "\n",
    "E[z] = integral{z * p(z)}->[0,1] = integral{2z - 2z^2}->[0,1]\n",
    "              = z^2 - 2/3z^3 ->[0,1] = 1 - 2/3 = 1/3"
   ]
  },
  {
   "cell_type": "code",
   "execution_count": null,
   "metadata": {},
   "outputs": [],
   "source": []
  }
 ],
 "metadata": {
  "kernelspec": {
   "display_name": "Python 2",
   "language": "python",
   "name": "python2"
  },
  "language_info": {
   "codemirror_mode": {
    "name": "ipython",
    "version": 2
   },
   "file_extension": ".py",
   "mimetype": "text/x-python",
   "name": "python",
   "nbconvert_exporter": "python",
   "pygments_lexer": "ipython2",
   "version": "2.7.14"
  }
 },
 "nbformat": 4,
 "nbformat_minor": 2
}
