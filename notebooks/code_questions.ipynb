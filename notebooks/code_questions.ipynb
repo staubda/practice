{
 "cells": [
  {
   "cell_type": "code",
   "execution_count": null,
   "metadata": {},
   "outputs": [],
   "source": [
    "import os\n",
    "import numpy as np"
   ]
  },
  {
   "cell_type": "markdown",
   "metadata": {},
   "source": [
    "## 5.19 Rotate a 2D Array "
   ]
  },
  {
   "cell_type": "markdown",
   "metadata": {},
   "source": [
    "Image rotation is a fundamental operation in computer graphics. Figure 5.4 illustrates the rotation operation on a 2D array representing a bit-map of an image. Specifically, the image is rotated by 90 degrees clockwise.\n",
    "\n",
    "Write a function that takes as input an n x n 2D array, and rotates the array by 90 degrees clockwise.\n",
    "Hint: Focus on the boundary elements."
   ]
  },
  {
   "cell_type": "code",
   "execution_count": null,
   "metadata": {},
   "outputs": [],
   "source": [
    "def rotate_90_clock_np(arr):\n",
    "    arr = np.array(arr)\n",
    "    arr_rot = np.zeros(arr.shape)\n",
    "    for old_row_ind, new_col_ind in enumerate(range(len(arr))[::-1]):\n",
    "        arr_rot[:, new_col_ind] = arr[old_row_ind, :]\n",
    "    return arr_rot\n",
    "\n",
    "\n",
    "def rotate_coords_90_clock(i, j, n):\n",
    "    i_rot = j\n",
    "    j_rot = n - 1 - i\n",
    "    return i_rot, j_rot\n",
    "\n",
    "\n",
    "def rotate_corners(arr, i_start, j_start):\n",
    "    n = len(arr)\n",
    "    i_orig, j_orig = i_start, j_start\n",
    "    reassign_val = arr[i_orig][j_orig]\n",
    "    for _ in range(4):\n",
    "        i_rot, j_rot = rotate_coords_90_clock(i_orig, j_orig, n)\n",
    "        temp = arr[i_rot][j_rot]\n",
    "        arr[i_rot][j_rot] = reassign_val\n",
    "        reassign_val = temp\n",
    "        i_orig, j_orig = i_rot, j_rot\n",
    "\n",
    "        \n",
    "def rotate_square(arr, ind_start):\n",
    "    i_start = ind_start\n",
    "    for j_start in range(ind_start, len(arr) - ind_start - 1):\n",
    "        rotate_corners(arr, i_start, j_start)\n",
    "\n",
    "        \n",
    "def rotate_90_clock_inplace(arr):\n",
    "    num_square = len(arr) / 2\n",
    "    for ind_start in range(num_square):\n",
    "        rotate_square(arr, ind_start)\n",
    "\n",
    "        \n",
    "def rotate_90_clock(arr):\n",
    "    n = len(arr)\n",
    "    arr_rot = [[None] * n for i in range(n)]\n",
    "    for i in range(n):\n",
    "        for j in range(n):\n",
    "            i_rot, j_rot = rotate_coords_90_clock(i, j, n)\n",
    "            arr_rot[i_rot][j_rot] = arr[i][j]\n",
    "    return arr_rot\n",
    "\n",
    "\n",
    "def rotate(arr):\n",
    "    for i in xrange(len(arr)/2):\n",
    "#         for j in xrange(len(arr)/2 + len(arr)%2):\n",
    "        for j in xrange(i, len(arr) - i - 1):\n",
    "            rotate_corners(arr,i,j)\n",
    "    return arr"
   ]
  },
  {
   "cell_type": "code",
   "execution_count": null,
   "metadata": {},
   "outputs": [],
   "source": [
    "# arr = [[i] * n for i in range(5)]\n",
    "# arr = [[1, 2], [3, 4]]\n",
    "# arr = [[1, 2, 3, 4], [5, 6, 7, 8], [9, 10, 11, 12], [13, 14, 15, 16]]\n",
    "arr = [[1, 2, 3, 4, 140], [5, 6, 7, 8, 130], [9, 10, 11, 12, 120], [13, 14, 15, 16, 110], [17, 18, 19, 20, 100]]\n",
    "\n",
    "# arr_rot = rotate_90_clock(arr)\n",
    "\n",
    "# print(np.array(arr))\n",
    "# print('')\n",
    "# print(np.array(arr_rot))\n",
    "\n",
    "print(np.array(arr))\n",
    "# rotate_90_clock_inplace(arr)\n",
    "rotate(arr)\n",
    "print('')\n",
    "print(np.array(arr))"
   ]
  },
  {
   "cell_type": "markdown",
   "metadata": {},
   "source": [
    "## 5.13 Sample Online Data "
   ]
  },
  {
   "cell_type": "markdown",
   "metadata": {},
   "source": [
    "This problem is motivated by the disgn of a packet sniffer that provides a uniform sample of packets for a network session.\n",
    "\n",
    "Design a program that takes as input a size k, and reads packets, coninuously maintaining a uniform random subset of size k of the read packets.\n",
    "\n",
    "Hint: Suppose you have a procedure which selects k packets from the first n >= k packets as specified. How would you deal with the (n+1)st packet?"
   ]
  },
  {
   "cell_type": "code",
   "execution_count": null,
   "metadata": {},
   "outputs": [],
   "source": [
    "import random\n",
    "\n",
    "class PacketSampler:\n",
    "    \n",
    "    def __init__(self, k):\n",
    "        self.k = k\n",
    "        self.n = 0\n",
    "        self.subset = []\n",
    "        \n",
    "    def receive_packet(self, p):\n",
    "        if len(self.subset) < self.k:\n",
    "            self.subset.append(p)\n",
    "        else:\n",
    "            replace_prob = float(self.k) / (self.n + 1)\n",
    "            if random.random() < replace_prob:\n",
    "                replace_ind = random.randint(0, self.k - 1)\n",
    "                self.subset[replace_ind] = p\n",
    "        self.n += 1\n",
    "\n",
    "\n",
    "class PacketSamplerWrong:\n",
    "    \n",
    "    def __init__(self, k):\n",
    "        self.k = k\n",
    "        self.n = 0\n",
    "        self.subset = []\n",
    "        \n",
    "    def receive_packet(self, p):\n",
    "        if len(self.subset) < self.k:\n",
    "            self.subset.append(p)\n",
    "        else:\n",
    "            replace_prob = random.random()\n",
    "            if random.random() < replace_prob:\n",
    "                replace_ind = random.randint(0, self.k - 1)\n",
    "                self.subset[replace_ind] = p\n",
    "        self.n += 1\n",
    "\n",
    "\n",
    "def get_packet_subset(n, packet_sampler):\n",
    "    for i in range(n):\n",
    "        packet_sampler.receive_packet(i)\n",
    "    return packet_sampler.subset\n",
    "\n",
    "\n",
    "def get_simulated_distribution(n, k, sampler_name, num_trials):\n",
    "    if sampler_name == 'right':\n",
    "        Sampler = PacketSampler\n",
    "    elif sampler_name == 'wrong':\n",
    "        Sampler = PacketSamplerWrong\n",
    "    else:\n",
    "        raise ValueError('Unrecognized sampler name.')\n",
    "    \n",
    "    packet_counter = {p: 0 for p in range(n)}\n",
    "    for trial_ind in range(num_trials):\n",
    "        subset = get_packet_subset(n, Sampler(k))\n",
    "        for p in subset:\n",
    "            packet_counter[p] += 1\n",
    "    \n",
    "    return packet_counter"
   ]
  },
  {
   "cell_type": "code",
   "execution_count": null,
   "metadata": {},
   "outputs": [],
   "source": [
    "num_trials = 500000\n",
    "n = 10\n",
    "k = 3\n",
    "sampler_name = 'wrong'\n",
    "\n",
    "packet_counts = get_simulated_distribution(n=n, k=k, sampler_name=sampler_name, num_trials=num_trials)\n",
    "num_exp = num_trials / n * k\n",
    "\n",
    "for count in packet_counts.itervalues():\n",
    "    pct_dev = 100.0 * abs(num_exp - count) / num_exp\n",
    "    print(pct_dev)"
   ]
  },
  {
   "cell_type": "markdown",
   "metadata": {},
   "source": [
    "## 5.18 Compute the Spiral Ordering of a 2D array "
   ]
  },
  {
   "cell_type": "code",
   "execution_count": null,
   "metadata": {},
   "outputs": [],
   "source": [
    "def change_direction(increment):\n",
    "    increment_new = increment[::-1]\n",
    "    if abs(increment[0]) == 1:\n",
    "        increment_new[1] *= -1\n",
    "    return increment_new\n",
    "\n",
    "def spiralize(arr):\n",
    "    i_bounds = [0, len(arr) - 1]\n",
    "    j_bounds = [0, len(arr[0]) - 1]\n",
    "    increment = [0, 1]\n",
    "    i = 0\n",
    "    j = 0\n",
    "    arr_spiral = []\n",
    "\n",
    "    while i_bounds[1] >= i_bounds[0]:\n",
    "\n",
    "        arr_spiral.append(arr[i][j])\n",
    "\n",
    "        i_prop = i + increment[0]\n",
    "        j_prop = j + increment[1]\n",
    "\n",
    "        if j_prop > j_bounds[1]:\n",
    "            i_bounds[0] += 1\n",
    "        elif j_prop < j_bounds[0]:\n",
    "            i_bounds[1] -= 1\n",
    "        elif i_prop > i_bounds[1]:\n",
    "            j_bounds[1] -= 1\n",
    "        elif i_prop < i_bounds[0]:\n",
    "            j_bounds[0] += 1\n",
    "        else:\n",
    "            i = i_prop\n",
    "            j = j_prop\n",
    "            continue\n",
    "\n",
    "        increment = change_direction(increment)\n",
    "        i += increment[0]\n",
    "        j += increment[1]\n",
    "        \n",
    "    return arr_spiral"
   ]
  },
  {
   "cell_type": "code",
   "execution_count": null,
   "metadata": {},
   "outputs": [],
   "source": [
    "arr = [[1, 2, 3, 4], [5, 6, 7, 8], [9, 10, 11, 12], [13, 14, 15, 16]]\n",
    "\n",
    "print(np.array(arr))\n",
    "print('')\n",
    "print(spiralize(arr))"
   ]
  },
  {
   "cell_type": "markdown",
   "metadata": {},
   "source": [
    "## 6.13: Find the first occurrence of a substring "
   ]
  },
  {
   "cell_type": "markdown",
   "metadata": {},
   "source": [
    "A good string search algorithm is fundamental to the performance of many applications. Several clever algorithms have been proposed for string search, each with its own trade-offs. As a result, there is no single perfect answer. If someone asks you this question in an interview, the best way to approach this problem would be to work through one good algorithm in detail and discuss at a high level other algorithms.\n",
    "\n",
    "Given two strings s (the \"search string\") and t (the \"text\"), find the first occurrence of s in t.\n",
    "\n",
    "Hint: Form a signature from a string"
   ]
  },
  {
   "cell_type": "code",
   "execution_count": null,
   "metadata": {},
   "outputs": [],
   "source": [
    "from collections import deque\n",
    "\n",
    "\n",
    "def strings_are_same(str1, str2):\n",
    "    for c1, c2 in zip(str1, str2):\n",
    "        if c1 != c2:\n",
    "            return False\n",
    "    return True\n",
    "\n",
    "\n",
    "class RollingHasher:\n",
    "    \"\"\"Following https://en.wikipedia.org/wiki/Rabin%E2%80%93Karp_algorithm\"\"\"\n",
    "    \n",
    "    def __init__(self, substring_len, base=256, prime_modulus=101):\n",
    "        self.substring_len = substring_len\n",
    "        self.base = base\n",
    "        self.prime_modulus = prime_modulus\n",
    "        self._char_q = deque()\n",
    "        self._hash = 0\n",
    "        \n",
    "    def _add_to_hash(self, c):\n",
    "        # O(1) time\n",
    "        self._hash = (self._hash * self.base + ord(c)) % self.prime_modulus\n",
    "        self._char_q.append(c)\n",
    "        \n",
    "    def _remove_first_in_from_hash(self):\n",
    "        # O(substring_len) time\n",
    "        left_base_offset = 1\n",
    "        for i in range(self.substring_len - 1):\n",
    "            left_base_offset *= self.base \n",
    "            left_base_offset %= self.prime_modulus\n",
    "        remove_val = ord(self._char_q.popleft())\n",
    "        self._hash = self._hash + self.prime_modulus - remove_val * left_base_offset  # adding extra mod val ensures result isn't negative\n",
    "        \n",
    "    def get_hash(self, next_letter):\n",
    "        # O(substring_len) time\n",
    "        if len(self._char_q) == self.substring_len:\n",
    "            hash_sub = self._remove_first_in_from_hash()\n",
    "        self._add_to_hash(next_letter)\n",
    "        return self._hash if len(self._char_q) == self.substring_len else None\n",
    "\n",
    "\n",
    "def find_substring_start_ind_simple(main_string, substring):\n",
    "    substring_len = len(substring)\n",
    "    for start_ind in range(0, len(main_string) - substring_len):\n",
    "        if strings_are_same(substring, main_string[start_ind:start_ind + substring_len]):\n",
    "            return start_ind\n",
    "    return None\n",
    "\n",
    "\n",
    "def find_substring_start_ind_set(main_string, substring):\n",
    "    substring_hash = set([substring])\n",
    "    substring_len = len(substring)\n",
    "    for start_ind in range(0, len(main_string) - substring_len):\n",
    "        if main_string[start_ind:start_ind + substring_len] in substring_hash:\n",
    "            return start_ind\n",
    "    return None\n",
    "\n",
    "        \n",
    "def find_substring_start_ind_rabin_karp(main_string, substring):\n",
    "    # O(substring_len * string_len)\n",
    "    sub_hasher = RollingHasher(len(substring))\n",
    "    substring_hash = [sub_hasher.get_hash(c) for c in substring][-1]\n",
    "    main_hasher = RollingHasher(len(substring))\n",
    "    for i, c in enumerate(main_string):\n",
    "        end_ind = i+1\n",
    "        start_ind = end_ind - len(substring)\n",
    "        if substring_hash == main_hasher.get_hash(c) and strings_are_same(substring, main_string[start_ind:end_ind]):\n",
    "            return start_ind\n",
    "    return None"
   ]
  },
  {
   "cell_type": "code",
   "execution_count": null,
   "metadata": {},
   "outputs": [],
   "source": [
    "main_string = 'gshgiuregbisnreipngseproingseonvdk;nfvdklldksfl'\n",
    "substring = 'gbisn'\n",
    "\n",
    "print(find_substring_start_ind_simple(main_string, substring))\n",
    "print(find_substring_start_ind_set(main_string, substring))\n",
    "print(find_substring_start_ind_rabin_karp(main_string, substring))"
   ]
  },
  {
   "cell_type": "markdown",
   "metadata": {},
   "source": [
    "## 6.6: Reverse all the words in a sentence"
   ]
  },
  {
   "cell_type": "markdown",
   "metadata": {},
   "source": [
    "Given a string containing a set of words separated by whitespace, we would like to transform it to a string in which the words appear in reverse order. For example, \"Alice likes Bob\" transforms to \"Bob likes Alice\". We do not need to keep the original string.\n",
    "\n",
    "Implement a function for reversing the words in a string s.\n",
    "\n",
    "Hint: It's difficult to solve this with one pass."
   ]
  },
  {
   "cell_type": "code",
   "execution_count": null,
   "metadata": {},
   "outputs": [],
   "source": [
    "def reverse_words_simple(sentence):\n",
    "    words = []\n",
    "    word = ''\n",
    "    for c in sentence:\n",
    "        if c == ' ':\n",
    "            words.append(word)\n",
    "            words.append(' ')\n",
    "            word = ''\n",
    "        else:\n",
    "            word += c\n",
    "    words.append(word)\n",
    "        \n",
    "    sentence_rev = ''\n",
    "    while len(words) > 0:\n",
    "        sentence_rev += words.pop()\n",
    "        \n",
    "    return sentence_rev\n",
    "\n",
    "def reverse_words_prealloc(sentence):\n",
    "    end_ind = len(sentence)\n",
    "    word = ''\n",
    "    sentence_rev = [' '] * len(sentence)\n",
    "    for c in sentence:\n",
    "        if c == ' ':\n",
    "            start_ind = end_ind-len(word)\n",
    "            sentence_rev[start_ind:end_ind] = word\n",
    "            end_ind = start_ind - 1\n",
    "            word = ''\n",
    "        else:\n",
    "            word += c\n",
    "    sentence_rev[end_ind-len(word):end_ind] = word\n",
    "        \n",
    "    return ''.join(sentence_rev)"
   ]
  },
  {
   "cell_type": "code",
   "execution_count": null,
   "metadata": {},
   "outputs": [],
   "source": [
    "sentence = 'Bob likes Alice'\n",
    "print(reverse_words_simple(sentence))\n",
    "print(reverse_words_prealloc(sentence))"
   ]
  },
  {
   "cell_type": "markdown",
   "metadata": {},
   "source": [
    "## 6.7: Compute all mnemonics for a phone number "
   ]
  },
  {
   "cell_type": "markdown",
   "metadata": {},
   "source": [
    "Each digit, apart from 0 and 1, in a phone keypad corresponds to one of hte three or four letters of the alphabet, as shown in figure 6.1. Since words are easier to remember than number, it is natural to ask if a 7 or 10-digit phone number can be represented by a word. For examples, \"2276696\" corresponds to \"ACRONYM\" as well as \"ABPOMZN\",\n",
    "\n",
    "Write a program which takes as input a phone number, specified as a string of digits, and returns all possible character sequences that correspond to the phone number. The cell phone keypad is specified by a mapping that takes a digit and returns the corresponding set of characters. The character sequences do not have to be legal words or phrases.\n",
    "\n",
    "Hint: Use recursion."
   ]
  },
  {
   "cell_type": "code",
   "execution_count": null,
   "metadata": {},
   "outputs": [],
   "source": [
    "DIGIT_LETTERS = {\n",
    "    '2': ['A', 'B', 'C'],\n",
    "    '3': ['D', 'E', 'F'],\n",
    "    '4': ['G', 'H', 'I'],\n",
    "    '5': ['J', 'K', 'L'],\n",
    "    '6': ['M', 'N', 'O'],\n",
    "    '7': ['P', 'Q', 'R', 'S'],\n",
    "    '8': ['T', 'U', 'V'],\n",
    "    '9': ['W', 'X', 'Y', 'Z']\n",
    "}\n",
    "\n",
    "\n",
    "def get_mnemonics(digits):\n",
    "    if len(digits) == 1:\n",
    "        return DIGIT_LETTERS[digits]\n",
    "    \n",
    "    prev_sequences = get_mnemonics(digits[:-1])\n",
    "    digit = digits[-1]\n",
    "    letters = DIGIT_LETTERS[digit]\n",
    "\n",
    "    new_sequences = []\n",
    "    for seq in prev_sequences:\n",
    "        for letter in letters:\n",
    "            new_sequences.append(seq + letter)\n",
    "        \n",
    "    return new_sequences"
   ]
  },
  {
   "cell_type": "code",
   "execution_count": null,
   "metadata": {},
   "outputs": [],
   "source": [
    "digits = '23'\n",
    "print(get_mnemonics(digits))"
   ]
  },
  {
   "cell_type": "markdown",
   "metadata": {},
   "source": [
    "## 6.4: Replace and Remove "
   ]
  },
  {
   "cell_type": "markdown",
   "metadata": {},
   "source": [
    "Consider the following two rules that are to be applied to an array of characters.\n",
    "* Replace each 'a' by two 'd's\n",
    "* Delete each entry containing a 'b'\n",
    "For example, applying these rules to the array [a,c,d,b,c,a] results in the array [d,d,c,d,c,d,d]\n",
    "\n",
    "Write a program which takes as input an array of characters, and removes each 'b' and replaces each 'a' by two 'd's. Specifically, along with the array, you are provided an integer-valued size. Size denotes the number of entries of hte array that the operation is to be applied to. You do not have to worry about preserving subsequent entries. For example, if the array is [a,b,a,c,_] and the size is 4, then you can return [d,d,d,d,c]. You can assume there is enough space int he array to hold the final result.\n",
    "\n",
    "Hint: Consider performing multiple passes on s."
   ]
  },
  {
   "cell_type": "code",
   "execution_count": null,
   "metadata": {},
   "outputs": [],
   "source": [
    "from collections import deque\n",
    "\n",
    "\n",
    "def replace_and_remove(arr, size):\n",
    "    q = deque()\n",
    "\n",
    "    for i, c in enumerate(arr[:size]):\n",
    "        if c == 'a':\n",
    "            q.append('d')\n",
    "            q.append('d')\n",
    "        elif c != 'b':\n",
    "            q.append(c)\n",
    "        arr[i] = q.popleft()\n",
    "    \n",
    "    while len(q) > 0:\n",
    "        i += 1\n",
    "        arr[i] = q.popleft()\n",
    "        \n",
    "    return arr\n",
    "\n",
    "\n",
    "def replace_and_remove_inplace(arr, size):\n",
    "    # Get rid of b's first to make sure there's enough room for the extra d's\n",
    "    replace_ind = 0\n",
    "    num_a = 0\n",
    "    for i, c in enumerate(arr[:size]):\n",
    "        arr[i] = '_'\n",
    "        if c != 'b':\n",
    "            arr[replace_ind] = c\n",
    "            replace_ind += 1\n",
    "            if c == 'a':\n",
    "                num_a += 1\n",
    "        else:\n",
    "            size -= 1\n",
    "    \n",
    "    # Add in d's\n",
    "    cur_ind = size + num_a - 1\n",
    "    for c in arr[:size][::-1]:\n",
    "        if arr[cur_ind] == 'a':\n",
    "            arr[cur_ind] = 'd'\n",
    "            arr[cur_ind - 1] = 'd'\n",
    "            cur_ind -= 2\n",
    "        else:\n",
    "            arr[cur_ind] = c\n",
    "            cur_ind -= 1\n",
    "\n",
    "    return arr"
   ]
  },
  {
   "cell_type": "code",
   "execution_count": null,
   "metadata": {},
   "outputs": [],
   "source": [
    "arr = ['a','b','a','c','_']\n",
    "# arr = ['a','a','a','b','b','b']\n",
    "size = 4\n",
    "# print(replace_and_remove(arr, size))\n",
    "print(replace_and_remove_inplace(arr, size))"
   ]
  },
  {
   "cell_type": "markdown",
   "metadata": {},
   "source": [
    "## 7.1 Merge Two Sorted Lists "
   ]
  },
  {
   "cell_type": "markdown",
   "metadata": {},
   "source": [
    "Consider two singly linked lists in which each node holds a number. Assume the lists are sorted, i.e., number isn the list appear in ascending order within each list. The merge of the two lists is a list consisting of the nodes of the two lists in which numbers appear in ascending order. Merge is illustrated in Figure 7.3.\n",
    "\n",
    "Write a program that takes two lists, assumed to be sorted, and returns their merge. The only field your program can change in a node is its next field.\n",
    "\n",
    "Hint: Two sorted arrays can be merged using two indices. For lists, take care when one iterator reaches the end."
   ]
  },
  {
   "cell_type": "code",
   "execution_count": null,
   "metadata": {},
   "outputs": [],
   "source": [
    "def merge_lists(ll1, ll2):\n",
    "    if ll2.value < ll1.value:\n",
    "        ll1, ll2 = ll2, ll1\n",
    "    ll1_cur = ll1\n",
    "    ll2_cur = ll2\n",
    "    \n",
    "    while ll2_cur is not None:\n",
    "        # Advance ll1 to just before ll2 becomes smaller\n",
    "        while ll1_cur.next is not None and ll1_cur.next.value < ll2_cur.value:\n",
    "            ll1_cur = ll1_cur.next\n",
    "        \n",
    "        # Add the rest of ll2 if at the end of ll1\n",
    "        if ll1_cur.next is None and ll2_cur is not None:\n",
    "            ll1_cur.next = ll2_cur\n",
    "            break\n",
    "        \n",
    "        # Pop from ll2 and insert into ll1\n",
    "        ll2_next = ll2_cur.next\n",
    "        ll2_cur.next = ll1_cur.next\n",
    "        ll1_cur.next = ll2_cur\n",
    "        ll2_cur = ll2_next\n",
    "            \n",
    "    return ll1"
   ]
  },
  {
   "cell_type": "code",
   "execution_count": null,
   "metadata": {},
   "outputs": [],
   "source": [
    "import sys\n",
    "sys.path.append('C:\\\\Users\\\\David\\\\Documents\\\\github_repos\\\\eopi\\\\seven')\n",
    "from linked_list import LinkedList\n",
    "\n",
    "lili2 = LinkedList([1, 2, 3, 8, 29, 1000])\n",
    "lili1 = LinkedList([4, 18, 19, 72, 80, 99])\n",
    "# lili2 = LinkedList([1, 2, 4, 7])\n",
    "# lili1 = LinkedList([1, 4, 4, 5])\n",
    "\n",
    "print(merge_lists(lili1, lili2).as_list())"
   ]
  },
  {
   "cell_type": "markdown",
   "metadata": {},
   "source": [
    "## 7.3 Test for Cyclicity "
   ]
  },
  {
   "cell_type": "markdown",
   "metadata": {},
   "source": [
    "Although a linked list is supposed to be a sequence of nodes ending in null, it is possible to create a cycle in a linked list by making the next field of an element reference to one of the earlier nodes. \n",
    "\n",
    "Write a program that takes the head of a singly linked list and returns null if there does not exist a cycle, and the node at the start of the cycle, if a cycle is present. (You do not know the length of the list in advance.)\n",
    "\n",
    "Hint: Consider using two iterators, one fast and one slow.\n",
    "\n",
    "Fred Note: The first time you solve this problem ignore the hint and use as much extra memory as you want. Then try to solve it in place with O(1) memory and use the hint."
   ]
  },
  {
   "cell_type": "code",
   "execution_count": null,
   "metadata": {},
   "outputs": [],
   "source": [
    "def find_cycle_naive(ll):\n",
    "    prev_nodes = set()\n",
    "    ll_cur = ll\n",
    "    while ll_cur is not None:\n",
    "        if ll_cur not in prev_nodes:\n",
    "            prev_nodes.add(ll_cur)\n",
    "            ll_cur = ll_cur.next\n",
    "        else:\n",
    "            return ll_cur\n",
    "    return None\n",
    "\n",
    "def find_loop_node(ll):\n",
    "    ll_cur_slow = ll\n",
    "    ll_cur_fast = ll.next\n",
    "    while None not in [ll_cur_slow, ll_cur_fast]:\n",
    "        if ll_cur_slow == ll_cur_fast:\n",
    "            return ll_cur_slow\n",
    "        ll_cur_slow = ll_cur_slow.next\n",
    "        ll_cur_fast = ll_cur_fast.next\n",
    "        ll_cur_fast = None if ll_cur_fast is None else ll_cur_fast.next\n",
    "    return None\n",
    "\n",
    "def find_loop_len(loop_node):\n",
    "    len = 1\n",
    "    cur_node = loop_node.next\n",
    "    while cur_node != loop_node:\n",
    "        len += 1\n",
    "        cur_node = cur_node.next\n",
    "    return len\n",
    "\n",
    "def find_cycle_inplace(ll):\n",
    "    loop_node = find_loop_node(ll)\n",
    "    if loop_node is None:\n",
    "        return None\n",
    "    \n",
    "    loop_len = find_loop_len(loop_node)\n",
    "    print(loop_len)\n",
    "    \n",
    "    ll1_cur = ll\n",
    "    ll2_cur = ll\n",
    "    for i in range(loop_len):\n",
    "        ll2_cur = ll2_cur.next\n",
    "    while ll1_cur != ll2_cur:\n",
    "        ll1_cur = ll1_cur.next\n",
    "        ll2_cur = ll2_cur.next\n",
    "    \n",
    "    return ll1_cur"
   ]
  },
  {
   "cell_type": "code",
   "execution_count": null,
   "metadata": {},
   "outputs": [],
   "source": [
    "import sys\n",
    "sys.path.append('C:\\\\Users\\\\David\\\\Documents\\\\github_repos\\\\eopi\\\\seven')\n",
    "from linked_list import LinkedList\n",
    "\n",
    "lili1 = LinkedList([1, 41, 4, 15, 5, 7])\n",
    "lili1.next.next.next.next.next = lili1.next.next\n",
    "\n",
    "# ll_cycle = find_cycle_naive(lili1)\n",
    "ll_cycle = find_cycle_inplace(lili1)\n",
    "print(ll_cycle.value)"
   ]
  },
  {
   "cell_type": "markdown",
   "metadata": {},
   "source": [
    "## Delete a node from a singly linked list"
   ]
  },
  {
   "cell_type": "markdown",
   "metadata": {},
   "source": [
    "Given a node in a singly linked list, deleting it in O(1) time appears impossible because its predecessor's next field has to be updated. Surprisingly, it can be done with one small caveat-the node to delete cannot be the last one in the list and it is easy to copy the value part of a node.\n",
    "\n",
    "Write a program which deletes a node in a singly linked list. The input node is guaranteed not to be the tail node.\n",
    "\n",
    "Hint: Instead of deleting the node, can you delete its successor and still achieve the desired configuration?"
   ]
  },
  {
   "cell_type": "code",
   "execution_count": null,
   "metadata": {},
   "outputs": [],
   "source": [
    "def delete_node(ll):\n",
    "    ll.value = ll.next.value\n",
    "    ll.next = ll.next.next"
   ]
  },
  {
   "cell_type": "code",
   "execution_count": null,
   "metadata": {},
   "outputs": [],
   "source": [
    "import sys\n",
    "sys.path.append('C:\\\\Users\\\\David\\\\Documents\\\\github_repos\\\\eopi\\\\seven')\n",
    "from linked_list import LinkedList\n",
    "\n",
    "lili1 = LinkedList([1, 41, 4, 15, 5, 7])\n",
    "delete_node(lili1.next.next)\n",
    "print(lili1)"
   ]
  },
  {
   "cell_type": "markdown",
   "metadata": {},
   "source": [
    "## 7.8 Remove Duplicates from a Sorted List "
   ]
  },
  {
   "cell_type": "markdown",
   "metadata": {},
   "source": [
    "This problem is concerned with removing duplicates from a sorted list of integers. See Figure 7.8 for an example.\n",
    "\n",
    "Write a program that takes as input a singly linked list of integers in sorted order, and removes duplicates from it. The list should be sorted.\n",
    "\n",
    "Hint: Focus on the successor fields which have to be updated."
   ]
  },
  {
   "cell_type": "code",
   "execution_count": null,
   "metadata": {},
   "outputs": [],
   "source": [
    "def remove_duplicates(ll):\n",
    "    ll_cur = ll\n",
    "    while ll_cur is not None and ll_cur.next is not None:\n",
    "        if ll_cur.value == ll_cur.next.value:\n",
    "            ll_cur.next = ll_cur.next.next\n",
    "        else:\n",
    "            ll_cur = ll_cur.next\n",
    "    return ll"
   ]
  },
  {
   "cell_type": "code",
   "execution_count": null,
   "metadata": {},
   "outputs": [],
   "source": [
    "import sys\n",
    "sys.path.append('C:\\\\Users\\\\David\\\\Documents\\\\github_repos\\\\eopi\\\\seven')\n",
    "from linked_list import LinkedList\n",
    "\n",
    "lili1 = LinkedList([1, 4, 4, 5, 5, 5, 5, 5, 7])\n",
    "remove_duplicates(lili1)\n",
    "print(lili1)"
   ]
  },
  {
   "cell_type": "markdown",
   "metadata": {},
   "source": [
    "## 8.1 Implement a Stack with Max API "
   ]
  },
  {
   "cell_type": "markdown",
   "metadata": {},
   "source": [
    "Design a stack that includes a max operation, in addition to push and pop. The max method should return the maximum value stored in the stack.\n",
    "\n",
    "Hint: Use additional storage to track the maximum value."
   ]
  },
  {
   "cell_type": "code",
   "execution_count": null,
   "metadata": {},
   "outputs": [],
   "source": [
    "class Node:\n",
    "    \n",
    "    def __init__(self, val, next):\n",
    "        self.val = val\n",
    "        self.next = next\n",
    "\n",
    "        \n",
    "class Stack:\n",
    "    \n",
    "    def __init__(self):\n",
    "        self._tail = None\n",
    "        \n",
    "    def __str__(self):\n",
    "        return '->'.join([str(val) for val in self.to_list()])\n",
    "    \n",
    "    def to_list(self):\n",
    "        vals = []\n",
    "        node = self._tail\n",
    "        while node is not None:\n",
    "            vals.append(node.val)\n",
    "            node = node.next\n",
    "        return vals[::-1]\n",
    "        \n",
    "    def push(self, val):\n",
    "        self._tail = Node(val, self._tail)\n",
    "        return self\n",
    "    \n",
    "    def pop(self):\n",
    "        if self._tail is None:\n",
    "            return None\n",
    "        tail_val = self._tail.val\n",
    "        self._tail = self._tail.next    \n",
    "        return tail_val\n",
    "    \n",
    "    def peek(self):\n",
    "        if self._tail is None:\n",
    "            return None\n",
    "        else:\n",
    "            return self._tail.val\n",
    "        \n",
    "        \n",
    "class MaxStack1:\n",
    "    \"\"\"\n",
    "    time: O(1) push, O(N) pop\n",
    "    space: O(N) overall, O(1) extra for max\n",
    "    \"\"\"\n",
    "    \n",
    "    def __init__(self):\n",
    "        self._tail = None\n",
    "        self._max = None\n",
    "        \n",
    "    def __str__(self):\n",
    "        vals = []\n",
    "        node = self._tail\n",
    "        while node is not None:\n",
    "            vals.append(str(node.val))\n",
    "            node = node.next\n",
    "        vals = vals[::-1]\n",
    "        return '->'.join(vals)\n",
    "        \n",
    "    def push(self, val):\n",
    "        self._tail = Node(val, self._tail)\n",
    "        self._max = max(self._max, val)\n",
    "        return self\n",
    "    \n",
    "    def pop(self):\n",
    "        tail_val = self._tail.val\n",
    "        self._tail = self._tail.next\n",
    "        \n",
    "        if self._tail is None:\n",
    "            self._max = None\n",
    "        elif tail_val == self._max:\n",
    "            self._max = self._tail.val\n",
    "            node = self._tail.next\n",
    "            while node is not None:\n",
    "                self._max = max(node.val, self._max)\n",
    "                node = node.next\n",
    "        \n",
    "        return tail_val\n",
    "        \n",
    "    def max(self):\n",
    "        return self._max\n",
    "    \n",
    "\n",
    "class MaxStack2:\n",
    "    \"\"\"\n",
    "    time: O(1) push, O(1) pop\n",
    "    space: O(N) overall, O(N) extra for max\n",
    "    \"\"\"\n",
    "    \n",
    "    def __init__(self):\n",
    "        self._stack = Stack()\n",
    "        self._max_stack = Stack()\n",
    "        \n",
    "    def __str__(self):\n",
    "        return str(self._stack)\n",
    "        \n",
    "    def push(self, val):\n",
    "        self._stack.push(val)\n",
    "        if self._stack.peek() >= self._max_stack.peek():\n",
    "            self._max_stack.push(val)        \n",
    "        return self\n",
    "    \n",
    "    def pop(self):\n",
    "        tail_val = self._stack.pop()\n",
    "        if tail_val == self._max_stack.peek():\n",
    "            self._max_stack.pop()\n",
    "        return tail_val\n",
    "        \n",
    "    def max(self):\n",
    "        return self._max_stack.peek()\n",
    "    \n",
    "    \n",
    "class MaxStack3:\n",
    "    \"\"\"\n",
    "    time: O(1) push, O(1) pop\n",
    "    space: O(N) overall, O(1) extra for max\n",
    "    \"\"\"\n",
    "    \n",
    "    def __init__(self):\n",
    "        self._tail = None\n",
    "        self._max = None\n",
    "        \n",
    "    def __str__(self):\n",
    "        return '->'.join([str(val) for val in self.to_list()])\n",
    "    \n",
    "    def to_list(self):\n",
    "        vals = []\n",
    "        node = self._tail\n",
    "        while node is not None:\n",
    "            vals.append(str(node.val))\n",
    "            node = node.next\n",
    "        return vals[::-1]\n",
    "        \n",
    "    def push(self, val):\n",
    "        if self._max is None:\n",
    "            self._max = val\n",
    "        elif val > self._max:\n",
    "            temp = 2 * val - self._max  # encode previous max in stored value\n",
    "            self._max = val\n",
    "            val = temp\n",
    "        self._tail = Node(val, self._tail)\n",
    "        return self\n",
    "    \n",
    "    def pop(self):\n",
    "        tail_val = self._tail.val\n",
    "        self._tail = self._tail.next\n",
    "        if tail_val > self._max:\n",
    "            prev_max = 2 * self._max - tail_val  # decode previous max      \n",
    "            tail_val = self._max\n",
    "            self._max = prev_max\n",
    "        return tail_val\n",
    "    \n",
    "    def peek(self):\n",
    "        if self._tail is None:\n",
    "            return None\n",
    "        else:\n",
    "            return min(self._max, self._tail.val)\n",
    "        \n",
    "    def max(self):\n",
    "        return self._max"
   ]
  },
  {
   "cell_type": "code",
   "execution_count": null,
   "metadata": {},
   "outputs": [],
   "source": [
    "# s = MaxStack1()\n",
    "# s = MaxStack2()\n",
    "s = MaxStack3()\n",
    "\n",
    "s.push(5)\n",
    "print('max', s.max())\n",
    "s.push(7)\n",
    "print('max', s.max())\n",
    "s.push(3)\n",
    "print('max', s.max())\n",
    "s.push(7)\n",
    "print('max', s.max())\n",
    "\n",
    "print(s)\n",
    "\n",
    "print('max', s.max())\n",
    "print('removed', s.pop())\n",
    "print('max', s.max())\n",
    "print('removed', s.pop())\n",
    "print('max', s.max())\n",
    "print('removed', s.pop())\n",
    "print('max', s.max())\n",
    "print('removed', s.pop())"
   ]
  },
  {
   "cell_type": "markdown",
   "metadata": {},
   "source": [
    "## 8.3 Test a string over \"{,},(,),[,]\" for Well-Formedness "
   ]
  },
  {
   "cell_type": "markdown",
   "metadata": {},
   "source": [
    "A string over the characters \"{,},(,),[,]\" is said to be well-formed if the different types of brackets match in the correct order.\n",
    "\n",
    "Write a program that tests if a string made up of these characters if well-formed.\n",
    "\n",
    "Hint: Which left parenthesis does a right parenthesis match with?"
   ]
  },
  {
   "cell_type": "code",
   "execution_count": null,
   "metadata": {},
   "outputs": [],
   "source": [
    "PAREN_MAP = {'}': '{', ')': '(', ']': '['}\n",
    "\n",
    "def check_parens(s):\n",
    "    paren_stack = Stack()\n",
    "    for c in s:\n",
    "        if c in PAREN_MAP.values():\n",
    "            paren_stack.push(c)\n",
    "        elif c in PAREN_MAP.keys():\n",
    "            opening_paren = paren_stack.pop()\n",
    "            if PAREN_MAP[c] != opening_paren:\n",
    "                return False\n",
    "    return paren_stack.peek() is None"
   ]
  },
  {
   "cell_type": "code",
   "execution_count": null,
   "metadata": {},
   "outputs": [],
   "source": [
    "test_str = '{ab[()]c}'\n",
    "check_parens(test_str)"
   ]
  },
  {
   "cell_type": "markdown",
   "metadata": {},
   "source": [
    "## 8.6 Compute Buildings with a Sunset View "
   ]
  },
  {
   "cell_type": "markdown",
   "metadata": {},
   "source": [
    "You are given a series of buildings that have windows facing west. The buildings are in a straight line, and any building which is to the east of a building of equal or greater height cannot view the sunset.\n",
    "\n",
    "Design an algorithm that processes buildings in east-to-west order and returns the set of buildings which view the sunset. Each building is specified by its height.\n",
    "\n",
    "Hint: When does a building not have a sunset view?"
   ]
  },
  {
   "cell_type": "code",
   "execution_count": null,
   "metadata": {},
   "outputs": [],
   "source": [
    "def get_sunset_view_buildings(heights):\n",
    "    view_buildings = Stack()\n",
    "    for height in heights:\n",
    "        while height >= view_buildings.peek() and view_buildings.peek() is not None:\n",
    "            view_buildings.pop()\n",
    "        view_buildings.push(height)\n",
    "    return view_buildings\n",
    "\n",
    "east_to_west_heights = [5, 7, 4, 3, 3, 2]\n",
    "print(get_sunset_view_buildings(east_to_west_heights).to_list())"
   ]
  },
  {
   "cell_type": "markdown",
   "metadata": {},
   "source": [
    "## 8.8 Implement a Circular Queue "
   ]
  },
  {
   "cell_type": "markdown",
   "metadata": {},
   "source": [
    "A queue can be implemented using an array and two additional fields, the beginning and the end indices. This structure is sometimes referred to as a circular queue. Both enqueue and dequeue have O(1) time complexity. If the array is fixed, there is a maximum number of entries that can be stored. If the array is dynamically resized, the total time for m combined enqueue and dequeue operations is O(m).\n",
    "\n",
    "Implement a queue API using an array for storing elements. Your API should include a constructor function, which takes as argument the initial capacity of the queue, enqueue and dequeue functions, and a function which returns the number of elements stored. Implement dynamic resizing to support storing an arbitrarily large number of elements.\n",
    "\n",
    "Hint: Track the head and tail. How can you differentiate a full queue from an empty one?"
   ]
  },
  {
   "cell_type": "code",
   "execution_count": null,
   "metadata": {},
   "outputs": [],
   "source": [
    "class CircularQueue1:\n",
    "    \n",
    "    def __init__(self, initial_capacity):\n",
    "        self.initial_capacity = initial_capacity\n",
    "        self._arr = [None] * initial_capacity\n",
    "        self._head_ind = 0  # most recent\n",
    "        self._tail_ind = 0  # least recent\n",
    "        self._num_elements = 0\n",
    "    \n",
    "    def __str__(self):\n",
    "        return '->'.join([str(val) for val in self.to_list()])\n",
    "    \n",
    "    def _advance_ind(self, ind):\n",
    "        return ind + 1 if ind < len(self._arr) - 1 else 0\n",
    "            \n",
    "    def _resize_if_necessary(self):            \n",
    "        if self._num_elements == len(self._arr):\n",
    "            self._arr.append(None)\n",
    "            if self._tail_ind > 0:\n",
    "                for i in range(0, self._head_ind+1):\n",
    "                    self._arr[i - 1], self._arr[i] = self._arr[i], None\n",
    "                self._head_ind -= 1\n",
    "                if self._head_ind < 0:\n",
    "                    self._head_ind = len(self._arr) - 1\n",
    "                \n",
    "    def to_list(self):\n",
    "        ind = self._tail_ind\n",
    "        vals = []\n",
    "        while True:\n",
    "            vals.append(self._arr[ind])\n",
    "            if ind == self._head_ind:\n",
    "                break\n",
    "            ind = self._advance_ind(ind)\n",
    "        return vals[::-1]\n",
    "        \n",
    "    def enqueue(self, val):\n",
    "        self._resize_if_necessary()\n",
    "        if self._num_elements > 0:\n",
    "            self._head_ind = self._advance_ind(self._head_ind)\n",
    "        self._arr[self._head_ind] = val\n",
    "        self._num_elements += 1\n",
    "        return self\n",
    "    \n",
    "    def dequeue(self):\n",
    "        val = self._arr[self._tail_ind]\n",
    "        self._tail_ind = self._advance_ind(self._tail_ind)\n",
    "        self._num_elements -= 1\n",
    "        return val\n",
    "    \n",
    "    def get_num_elements(self):\n",
    "        return self._num_elements\n",
    "    \n",
    "    \n",
    "class CircularQueue2:\n",
    "    \n",
    "    def __init__(self, initial_capacity):\n",
    "        self.initial_capacity = initial_capacity\n",
    "        self._arr = [None] * initial_capacity\n",
    "        self._head_ind = 0  # most recent\n",
    "        self._tail_ind = 0  # least recent\n",
    "        self._num_elements = 0\n",
    "    \n",
    "    def __str__(self):\n",
    "        return '->'.join([str(val) for val in self.to_list()])\n",
    "    \n",
    "    def _advance_ind(self, ind):\n",
    "        return ind + 1 if ind < len(self._arr) - 1 else 0\n",
    "            \n",
    "    def _resize_if_necessary(self):            \n",
    "        if self._num_elements == len(self._arr):\n",
    "            self._arr.extend([None] * self._num_elements)\n",
    "            for i in range(self._tail_ind):\n",
    "                self._arr[self._num_elements + i] = self._arr[i]\n",
    "            self._head_ind = self._tail_ind + self._num_elements - 1\n",
    "                \n",
    "    def to_list(self):\n",
    "        ind = self._tail_ind\n",
    "        vals = []\n",
    "        while True:\n",
    "            vals.append(self._arr[ind])\n",
    "            if ind == self._head_ind:\n",
    "                break\n",
    "            ind = self._advance_ind(ind)\n",
    "        return vals[::-1]\n",
    "        \n",
    "    def enqueue(self, val):\n",
    "        self._resize_if_necessary()\n",
    "        if self._num_elements > 0:\n",
    "            self._head_ind = self._advance_ind(self._head_ind)\n",
    "        self._arr[self._head_ind] = val\n",
    "        self._num_elements += 1\n",
    "        return self\n",
    "    \n",
    "    def dequeue(self):\n",
    "        val = self._arr[self._tail_ind]\n",
    "        self._tail_ind = self._advance_ind(self._tail_ind)\n",
    "        self._num_elements -= 1\n",
    "        return val\n",
    "    \n",
    "    def get_num_elements(self):\n",
    "        return self._num_elements"
   ]
  },
  {
   "cell_type": "code",
   "execution_count": null,
   "metadata": {},
   "outputs": [],
   "source": [
    "q = CircularQueue2(5)\n",
    "print(q._arr)\n",
    "q.enqueue(5)\n",
    "print(q._arr)\n",
    "q.enqueue(8)\n",
    "print(q._arr)\n",
    "q.enqueue(4)\n",
    "q.enqueue(4)\n",
    "q.enqueue(4)\n",
    "q.enqueue(4)\n",
    "print(q._arr)\n",
    "q.dequeue()\n",
    "print(q._arr)\n",
    "q.enqueue(10)\n",
    "print(q._arr)\n",
    "q.enqueue(11)\n",
    "print(q._arr)\n",
    "print(q)"
   ]
  },
  {
   "cell_type": "markdown",
   "metadata": {},
   "source": [
    "## 8.10 Implement a Queue with Max API "
   ]
  },
  {
   "cell_type": "markdown",
   "metadata": {},
   "source": [
    "Implement a queue with enqueue, dequeue, and max operations. The max operation returns the maximum element currently in the queue.\n",
    "\n",
    "Hint: When can an element never be returned by max, regardless of future updates?"
   ]
  },
  {
   "cell_type": "code",
   "execution_count": null,
   "metadata": {},
   "outputs": [],
   "source": [
    "class Node:\n",
    "    \n",
    "    def __init__(self, val, next, prev=None):\n",
    "        self.val = val\n",
    "        self.next = next\n",
    "        self.prev = prev\n",
    "\n",
    "        \n",
    "class Queue:\n",
    "    \n",
    "    def __init__(self):\n",
    "        self._back = None\n",
    "        self._front = None\n",
    "    \n",
    "    def __str__(self):\n",
    "        return '->'.join([str(val) for val in self.to_list()])\n",
    "        \n",
    "    def to_list(self):\n",
    "        vals = []\n",
    "        node = self._back\n",
    "        while node is not None:\n",
    "            vals.append(node.val)\n",
    "            node = node.next\n",
    "        return vals\n",
    "        \n",
    "    def enqueue(self, val):\n",
    "        self._back = Node(val, self._back)\n",
    "        if self._front is None:\n",
    "            self._front = self._back\n",
    "        else:\n",
    "            self._back.next.prev = self._back\n",
    "        return self\n",
    "    \n",
    "    def dequeue(self):\n",
    "        val = self._front.val\n",
    "        self._front = self._front.prev\n",
    "        if self._front is None:\n",
    "            self._back = None\n",
    "        else:\n",
    "            self._front.next = None\n",
    "        return val\n",
    "\n",
    "\n",
    "class MaxQueue1:\n",
    "    \n",
    "    def __init__(self):\n",
    "        self._queue = Queue()\n",
    "        self._max = None\n",
    "    \n",
    "    def __str__(self):\n",
    "        return str(self._queue)\n",
    "        \n",
    "    def to_list(self):\n",
    "        return self._queue.to_list()\n",
    "        \n",
    "    def enqueue(self, val):\n",
    "        self._max = max(self._max, val)\n",
    "        self._queue.enqueue(val)\n",
    "        return self\n",
    "    \n",
    "    def dequeue(self):\n",
    "        val = self._queue.dequeue()\n",
    "        if val == self._max:\n",
    "            self._max = max(self.to_list())\n",
    "        return val\n",
    "    \n",
    "    def max(self):\n",
    "        return self._max\n",
    "    \n",
    "    \n",
    "class MaxQueue2:\n",
    "    \n",
    "    def __init__(self):\n",
    "        self._stack1 = MaxStack3()\n",
    "        self._stack2 = MaxStack3()\n",
    "    \n",
    "    def __str__(self):\n",
    "        return str('->'.join([str(val) for val in self.to_list()]))\n",
    "        \n",
    "    def to_list(self):\n",
    "        return self._stack1.to_list() + self._stack2.to_list()\n",
    "        \n",
    "    def enqueue(self, val):\n",
    "        self._stack1.push(val)\n",
    "        return self\n",
    "    \n",
    "    def dequeue(self):\n",
    "        if self._stack2.peek() is None:\n",
    "            while self._stack1.peek() is not None:\n",
    "                self._stack2.push(self._stack1.pop())\n",
    "        return self._stack2.pop()\n",
    "    \n",
    "    def max(self):\n",
    "        return max(self._stack1.max(), self._stack2.max())"
   ]
  },
  {
   "cell_type": "code",
   "execution_count": null,
   "metadata": {},
   "outputs": [],
   "source": [
    "q = MaxQueue2()\n",
    "q.enqueue(5)\n",
    "q.enqueue(8)\n",
    "q.enqueue(7)\n",
    "q.enqueue(6)\n",
    "print(str(q), q.max())\n",
    "q.dequeue()\n",
    "print(str(q), q.max())\n",
    "q.dequeue()\n",
    "print(str(q), q.max())\n",
    "q.dequeue()\n",
    "print(str(q), q.max())"
   ]
  },
  {
   "cell_type": "markdown",
   "metadata": {},
   "source": [
    "## 9.1 Check if a binary tree is height-balanced"
   ]
  },
  {
   "cell_type": "markdown",
   "metadata": {},
   "source": [
    "A binary tree is said to be height-balanced if for each node in the tree, the difference in height of its left and right subtrees is at most one. A perfect binary tree is height-balanced, as is a complete binary tree. A height-balanced binary tree does not have to be perfect or complete -- see Figure 9.2 on the following page for an example.\n",
    "\n",
    "Write a program that takes as input the root of a binary tree and checks whether the tree is height-balanced.\n",
    "\n",
    "Hint: Think of a classic binary tree algorithm."
   ]
  },
  {
   "cell_type": "code",
   "execution_count": null,
   "metadata": {},
   "outputs": [],
   "source": [
    "class BinaryTree:\n",
    "    \n",
    "    def __init__(self, key=None, val=None):\n",
    "        self.key = key\n",
    "        self.val = val\n",
    "        self.parent = None\n",
    "        self.left = None\n",
    "        self.right = None\n",
    "        \n",
    "    def insert(self, key, val=None):\n",
    "        if self.key is None:\n",
    "            self.key = key\n",
    "            self.val = val\n",
    "            return self\n",
    "        \n",
    "        if key < self.key:\n",
    "            if self.left is None:\n",
    "                self.left = BinaryTree(key, val)\n",
    "                self.left.parent = self\n",
    "            else:\n",
    "                self.left.insert(key, val)\n",
    "        else:\n",
    "            if self.right is None:\n",
    "                self.right = BinaryTree(key, val)\n",
    "                self.right.parent = self\n",
    "            else:\n",
    "                self.right.insert(key, val)\n",
    "        \n",
    "        return self\n",
    "    \n",
    "    def get_max_depth(self, prev_depth=0):\n",
    "        if self.left is None:\n",
    "            left_depth = prev_depth + 1\n",
    "        else:\n",
    "            left_depth = self.left.get_max_depth(prev_depth+1)\n",
    "        \n",
    "        if self.right is None:\n",
    "            right_depth = prev_depth + 1\n",
    "        else:\n",
    "            right_depth = self.right.get_max_depth(prev_depth+1)\n",
    "            \n",
    "        depth = max(left_depth, right_depth)\n",
    "        \n",
    "        return depth\n",
    "    \n",
    "    def get_min_depth(self, prev_depth=0):\n",
    "        if self.left is None or self.right is None:\n",
    "            return prev_depth + 1\n",
    "        else:\n",
    "            return min(self.left.get_min_depth(prev_depth+1), self.right.get_min_depth(prev_depth+1))\n",
    "\n",
    "        \n",
    "def is_height_balanced(binary_tree):\n",
    "    max_diff = binary_tree.get_max_depth() - binary_tree.get_min_depth()\n",
    "    return max_diff <= 1"
   ]
  },
  {
   "cell_type": "code",
   "execution_count": null,
   "metadata": {},
   "outputs": [],
   "source": [
    "b = BinaryTree().insert(5).insert(6).insert(3)"
   ]
  },
  {
   "cell_type": "code",
   "execution_count": null,
   "metadata": {},
   "outputs": [],
   "source": [
    "is_height_balanced(b)"
   ]
  },
  {
   "cell_type": "markdown",
   "metadata": {},
   "source": [
    "## 9.2 Test if a binary tree is symmetric"
   ]
  },
  {
   "cell_type": "markdown",
   "metadata": {},
   "source": [
    "A binary tree is symmetric if you can draws a vertical line through the root and then the left subtree is the mirror image of the right subtree. The concept of a symmetric binary tree is illustrated in Figure 9.3.\n",
    "\n",
    "Write a program that checks whether a binary tree is symmetric.\n",
    "\n",
    "Hint: The definition of symmetry is recursive."
   ]
  },
  {
   "cell_type": "code",
   "execution_count": null,
   "metadata": {},
   "outputs": [],
   "source": [
    "def is_symmetric(binary_tree):\n",
    "    current_nodes = [binary_tree]\n",
    "    \n",
    "    while None not in current_nodes:\n",
    "        for i in range(len(current_nodes) // 2):\n",
    "            if current_nodes[i].key != current_nodes[len(current_nodes) - 1 - i].key:\n",
    "                return False\n",
    "        \n",
    "        child_nodes = []\n",
    "        for node in current_nodes:\n",
    "            child_nodes.extend([node.left, node.right])\n",
    "        \n",
    "        current_nodes = child_nodes\n",
    "    \n",
    "    return True"
   ]
  },
  {
   "cell_type": "code",
   "execution_count": null,
   "metadata": {},
   "outputs": [],
   "source": [
    "b1 = BinaryTree().insert(5).insert(6).insert(3)\n",
    "b2 = BinaryTree(5)\n",
    "b2.left = BinaryTree(8)\n",
    "b2.right = BinaryTree(8)\n",
    "is_symmetric(b2)"
   ]
  },
  {
   "cell_type": "markdown",
   "metadata": {},
   "source": [
    "## 9.4 Compute the LCA when nodes have parent pointers"
   ]
  },
  {
   "cell_type": "markdown",
   "metadata": {},
   "source": [
    "Given two nodes in a binary tree, design an algorithm that computes their lowest common ancestor. Assume that each node has a parent pointer.\n",
    "\n",
    "Hint: The problem is easy if both nodes are the same distance from the root."
   ]
  },
  {
   "cell_type": "code",
   "execution_count": null,
   "metadata": {},
   "outputs": [],
   "source": []
  },
  {
   "cell_type": "code",
   "execution_count": null,
   "metadata": {},
   "outputs": [],
   "source": []
  },
  {
   "cell_type": "markdown",
   "metadata": {},
   "source": [
    "## 9.11 Implement an inorder traversal with O(1) space"
   ]
  },
  {
   "cell_type": "markdown",
   "metadata": {},
   "source": [
    "The direct implementation of an inorder traversal using recursion has O(h) space complexity, where h is the height of the three. Recursion can be removed with an explicit stack, but the space complexity remains O(h).\n",
    "\n",
    "Write a nonrecursive program for computing the inorder traversal sequence for a binary tree. Assume nodes have parent fields.\n",
    "\n",
    "Hint: How can you tell whether a node is a left child or right child of its parent?"
   ]
  },
  {
   "cell_type": "markdown",
   "metadata": {},
   "source": [
    "## 9.12 Reconstruct a binary tree from traversal data"
   ]
  },
  {
   "cell_type": "markdown",
   "metadata": {},
   "source": [
    "Many different binary trees yield the same sequence of keys in an inorder, preorder or postorder traversal. However, given an inorder traversal and one of any two other traversal orders of a binary tree, there exists a unique binary tree that yields those orders, assuming each node holds a distinct key. For example, the unique binary tree whose inorder traversal sequence is <F B A E H C D I G> and whose preorder traversal sequence is <H B F E A C D G I> is given in Figure 9.5 on the facing page.\n",
    "\n",
    "Given an inorder traversal sequence and a preorder traversal sequence of a binary tree write a program to reconstruct the tree. Assume each node has a unique key.\n",
    "\n",
    "Hint: Focus on the root."
   ]
  },
  {
   "cell_type": "markdown",
   "metadata": {},
   "source": [
    "## 9.16 Compute the right sibling tree"
   ]
  },
  {
   "cell_type": "markdown",
   "metadata": {},
   "source": [
    "For this problem, assume that each binary tree node has an extra field, call it level-next, that holds a binary tree node (this field is distinct from the fields for the left and right children). The level-next field will be used to compute a map from nodes to their right siblings. The input is assumed to be a perfect binary tree. See Figure 9.6 for an example.\n",
    "\n",
    "Write a program that takes a perfect binary tree, and sets each node's level-next field to the node on its right, if one exists.\n",
    "\n",
    "Hint: Think of an appropriate traversal order."
   ]
  },
  {
   "cell_type": "markdown",
   "metadata": {},
   "source": [
    "## 10.1 Merge Sorted Files"
   ]
  },
  {
   "cell_type": "markdown",
   "metadata": {},
   "source": [
    "Write a program that takes as input a set of sorted sequences and computes the union of these sequences as a sorted sequence. For example, if the input is <3, 5, 7>, <0, 6>, and <0, 6, 28>, then the output is <0, 0, 3, 5, 6, 6, 7, 28>"
   ]
  },
  {
   "cell_type": "code",
   "execution_count": null,
   "metadata": {},
   "outputs": [],
   "source": [
    "class BinaryHeap:\n",
    "    \n",
    "    def __init__(self, min=True):\n",
    "        self.arr = []\n",
    "        self.size = 0\n",
    "        self._sign = 2*min - 1\n",
    "        \n",
    "    def _get_val(self, ind):\n",
    "        return self.arr[ind][0]\n",
    "        \n",
    "    def push(self, val, data=None):\n",
    "        val *= self._sign\n",
    "        if self.size == len(self.arr):\n",
    "            self.arr.append((val, data))\n",
    "        else:\n",
    "            self.arr[self.size] = (val, data)\n",
    "        self.size += 1\n",
    "        \n",
    "        cur_ind = self.size - 1\n",
    "        while cur_ind > 0:\n",
    "            par_ind = cur_ind // 2\n",
    "            if self._get_val(par_ind) > self._get_val(cur_ind):\n",
    "                self.arr[par_ind], self.arr[cur_ind] = self.arr[cur_ind], self.arr[par_ind]\n",
    "                cur_ind = par_ind\n",
    "            else:\n",
    "                break\n",
    "                \n",
    "        return self\n",
    "    \n",
    "    def pop(self):\n",
    "        min_entry = (self.arr[0][0] * self._sign, self.arr[0][1])\n",
    "        self.arr[0] = self.arr[self.size - 1]\n",
    "        self.arr[self.size - 1] = '-'\n",
    "        self.size -= 1\n",
    "        \n",
    "        cur_ind = 0\n",
    "        while cur_ind <= self.size // 2:\n",
    "            # Find index of smallest child\n",
    "            child1_ind = (cur_ind + 1) * 2 - 1\n",
    "            child2_ind = (cur_ind + 1) * 2\n",
    "            if child1_ind < self.size:\n",
    "                min_ind = child1_ind\n",
    "            else:\n",
    "                break\n",
    "            if child2_ind < self.size:\n",
    "                min_ind = min_ind if self._get_val(min_ind) < self._get_val(child2_ind) else child2_ind\n",
    "            \n",
    "            # Swap\n",
    "            if self._get_val(cur_ind) > self._get_val(min_ind):\n",
    "                self.arr[min_ind], self.arr[cur_ind] = self.arr[cur_ind], self.arr[min_ind]\n",
    "                cur_ind = min_ind\n",
    "            else:\n",
    "                break\n",
    "\n",
    "        return min_entry\n",
    "    \n",
    "    \n",
    "    \n",
    "def get_union(sorted_lists):\n",
    "    \"\"\"\n",
    "    time: O{Nlog(M)}, where N is length of combined output list and M is number of input lists\n",
    "    space: O{N}\n",
    "    \"\"\"\n",
    "    heap = BinaryHeap()\n",
    "    final_list = []\n",
    "    \n",
    "    for sorted_list in sorted_lists:\n",
    "        heap.push(sorted_list[0], sorted_list[1:])\n",
    "        \n",
    "    while heap.size > 0:\n",
    "        min_val, remaining_vals = heap.pop()\n",
    "        final_list.append(min_val)\n",
    "        if len(remaining_vals) > 0:\n",
    "            heap.push(remaining_vals[0], remaining_vals[1:])\n",
    "            \n",
    "    return final_list"
   ]
  },
  {
   "cell_type": "code",
   "execution_count": null,
   "metadata": {},
   "outputs": [],
   "source": [
    "lists = [[3, 5, 7], [0, 6], [0, 6, 28]]\n",
    "get_union(lists)"
   ]
  },
  {
   "cell_type": "code",
   "execution_count": null,
   "metadata": {},
   "outputs": [],
   "source": [
    "x = BinaryHeap(min=False)\n",
    "x.push(5)\n",
    "x.push(3)\n",
    "x.push(1)\n",
    "x.push(2)\n",
    "x.pop()\n",
    "x.arr"
   ]
  },
  {
   "cell_type": "code",
   "execution_count": null,
   "metadata": {},
   "outputs": [],
   "source": [
    "sorted_vals = []\n",
    "while x.size > 0:\n",
    "    sorted_vals.append(x.pop()[0])\n",
    "sorted_vals"
   ]
  },
  {
   "cell_type": "markdown",
   "metadata": {},
   "source": [
    "## 10.3 Sort an Almost-Sorted Array"
   ]
  },
  {
   "cell_type": "markdown",
   "metadata": {},
   "source": [
    "Often data is almost-sorted -- for example, a server receives timestamped stock quotes and earlier quotes may arrive slightly after later quotes because of differences in server loads and network routes. In this problem we address efficient ways to sort such data.\n",
    "\n",
    "Write a program which takes as input a very long sequence of numbers and prints the numbers in sorted order. Each number is at most k away from its correctly sorted position. *such an array is sometimes referred to as being k-sorted) For example, no number in the sequence (3,-1,2,6,4,5,8) Is more than 2 away from its final sorted position.\n",
    "\n",
    "Hint: How many numbers must you read after reading the ith number to be sure you can place it in the correct location?"
   ]
  },
  {
   "cell_type": "code",
   "execution_count": null,
   "metadata": {},
   "outputs": [],
   "source": [
    "def sort_almost_sorted(vals, k):\n",
    "    heap = BinaryHeap(min=True)\n",
    "    sorted_vals = []\n",
    "    \n",
    "    for val in vals:\n",
    "        heap.push(val)\n",
    "        if heap.size > 2*k + 1:\n",
    "            sorted_vals.append(heap.pop()[0])\n",
    "            \n",
    "    while heap.size > 0:\n",
    "        sorted_vals.append(heap.pop()[0])\n",
    "    \n",
    "    return sorted_vals"
   ]
  },
  {
   "cell_type": "code",
   "execution_count": null,
   "metadata": {},
   "outputs": [],
   "source": [
    "vals = (3,-1,2,6,4,5,8)\n",
    "sort_almost_sorted(vals, 2)"
   ]
  },
  {
   "cell_type": "markdown",
   "metadata": {},
   "source": [
    "## 10.4 Compute the k closest stars"
   ]
  },
  {
   "cell_type": "markdown",
   "metadata": {},
   "source": [
    "Consider a coordinate system for the Milky Way, in whcih earth is at (0,0,0). Model stars as points, and assume distances are in light years. The Milky Way consists of approximately 10^12 stars, and their coordinates are stored in a file.\n",
    "\n",
    "How would you compute the k stars which are closest to Earth?\n",
    "\n",
    "Hint: Suppose you know the k closest stars in the first n stars. If the (n+1)st star is to be added to the set of k closes stars, which element in the set should be evicted?"
   ]
  },
  {
   "cell_type": "code",
   "execution_count": null,
   "metadata": {},
   "outputs": [],
   "source": [
    "import math\n",
    "\n",
    "def find_closest_stars(star_coords, k):\n",
    "    heap = BinaryHeap(min=False)\n",
    "    for star_coord in star_coords:\n",
    "        star_dist = math.sqrt(star_coord[0]**2 + star_coord[1]**2 + star_coord[2]**2)\n",
    "        heap.push(star_dist, star_coord)\n",
    "        if heap.size > k:\n",
    "            heap.pop()\n",
    "            \n",
    "    closest_coords = []\n",
    "    while heap.size > 0:\n",
    "        closest_coords.append(heap.pop()[1])\n",
    "    \n",
    "    return closest_coords[::-1]"
   ]
  },
  {
   "cell_type": "code",
   "execution_count": null,
   "metadata": {},
   "outputs": [],
   "source": [
    "dists = [(4,46,7), (3,6,6), (8,43,66), (4,6,57), (8,7,5)]\n",
    "find_closest_stars(dists, 3)"
   ]
  },
  {
   "cell_type": "markdown",
   "metadata": {},
   "source": [
    "## 11.1 Search a sorted array for the first of k"
   ]
  },
  {
   "cell_type": "markdown",
   "metadata": {},
   "source": [
    "Binary search commonly asks for the index of any element of a sorted array that is equal to a specified element. The following problem has a slight twist on this.\n",
    "\n",
    "Write a method that takes a sorted array and a key and returns the index of the first occurrence of that key in the array. For example, when applied to the array in Figure 11.1 your algorithm should return 3 if the given key is 108; if it is 285, your algorithm should return 6.\n",
    "\n",
    "Hint: What happens when every entry equals k? Don't stop when you first see k."
   ]
  },
  {
   "cell_type": "code",
   "execution_count": 47,
   "metadata": {},
   "outputs": [],
   "source": [
    "def find_first_occurence_ind(arr, key):\n",
    "    ceil = len(arr)\n",
    "    floor = 0\n",
    "    keep_searching = True\n",
    "\n",
    "    while keep_searching:\n",
    "        test_ind = (floor + ceil) // 2\n",
    "        test_val = arr[test_ind]\n",
    "        if test_ind in (floor, ceil):\n",
    "            keep_searching = False\n",
    "\n",
    "        if test_val >= key:\n",
    "            ceil = test_ind\n",
    "        else:\n",
    "            floor = test_ind\n",
    "\n",
    "    return ceil"
   ]
  },
  {
   "cell_type": "code",
   "execution_count": 48,
   "metadata": {},
   "outputs": [
    {
     "data": {
      "text/plain": [
       "3"
      ]
     },
     "execution_count": 48,
     "metadata": {},
     "output_type": "execute_result"
    }
   ],
   "source": [
    "arr = [3,4,4,6,6,6,6,7,8]\n",
    "key = 6\n",
    "find_first_occurence_ind(arr, key)"
   ]
  },
  {
   "cell_type": "markdown",
   "metadata": {},
   "source": [
    "## 11.4 Compute the integer square root"
   ]
  },
  {
   "cell_type": "markdown",
   "metadata": {},
   "source": [
    "Write a program which takes a nonnegative integer and returns the largest integer whose square is less than or equal to the given integer. For example, if the input is 16, return 4; if the input is 300, return 17, since 17^2 = 289 < 300 and 18^2 = 324 > 300.\n",
    "\n",
    "Hint: look out for a corner case!"
   ]
  },
  {
   "cell_type": "code",
   "execution_count": 49,
   "metadata": {},
   "outputs": [],
   "source": [
    "def compute_int_sqrt(num):\n",
    "    floor = 0\n",
    "    ceil = num\n",
    "    int_sqrt = 0\n",
    "    keep_searching = True\n",
    "\n",
    "    while keep_searching:\n",
    "        test_val = (ceil + floor + 1) // 2\n",
    "        if test_val in (floor, ceil):\n",
    "            keep_searching = False\n",
    "\n",
    "        if test_val**2 > num:\n",
    "            ceil = test_val\n",
    "        else:\n",
    "            floor = test_val\n",
    "            int_sqrt = test_val\n",
    "\n",
    "    return int_sqrt"
   ]
  },
  {
   "cell_type": "code",
   "execution_count": 50,
   "metadata": {},
   "outputs": [
    {
     "data": {
      "text/plain": [
       "0"
      ]
     },
     "execution_count": 50,
     "metadata": {},
     "output_type": "execute_result"
    }
   ],
   "source": [
    "compute_int_sqrt(0)"
   ]
  },
  {
   "cell_type": "markdown",
   "metadata": {},
   "source": [
    "## 11.8 Find the kth largest element"
   ]
  },
  {
   "cell_type": "markdown",
   "metadata": {},
   "source": [
    "Many algorithms require as a subroutine the computation of the kth largest element of an array. The first largest element is simply the largest element. The nth largest element is the smallest element, where n is the length of the array.\n",
    "\n",
    "For example, if the input array A = <3,2,1,5,4> then A[3] is the first largest element in !, A[0] is the third largest element in A, and A[2] is the fifth largest element in A.\n",
    "\n",
    "Design an algorithm for computing the kth largest element in an array. Assume entries are distinct.\n",
    "\n",
    "Hint: Use divide and conquer in conjunction with randomization"
   ]
  },
  {
   "cell_type": "markdown",
   "metadata": {},
   "source": [
    "## 12.2 Is an anonymous letter constructible?"
   ]
  },
  {
   "cell_type": "markdown",
   "metadata": {},
   "source": [
    "Write a program which takes text from an anonymous letter and text from a magazine and determines if it is possible to write the anonymous letter using the magazine. The anonymous letter can be written using the magazine if for each character in the anonymous letter, the number of times it appears in the anonymous letter is no more than the number of times it appears in the magazine.\n",
    "\n",
    "Hint: Count the number of distinct characters appearing in the letter."
   ]
  },
  {
   "cell_type": "code",
   "execution_count": 43,
   "metadata": {},
   "outputs": [],
   "source": [
    "from collections import defaultdict\n",
    "\n",
    "def is_constructible(letter, magazine):\n",
    "    letter_counter = defaultdict(int)\n",
    "    remaining_chars = len(letter)\n",
    "    \n",
    "    for letter_char in letter:\n",
    "        letter_counter[letter_char] += 1\n",
    "        \n",
    "    for mag_char in magazine:\n",
    "        if letter_counter.get(mag_char, 0) > 0:\n",
    "            letter_counter[mag_char] -= 1\n",
    "            remaining_chars -= 1\n",
    "            if remaining_chars == 0:\n",
    "                break\n",
    "            \n",
    "    return remaining_chars == 0"
   ]
  },
  {
   "cell_type": "markdown",
   "metadata": {},
   "source": [
    "## 12.6 Find the Nearest repeated entries in an array"
   ]
  },
  {
   "cell_type": "markdown",
   "metadata": {},
   "source": [
    "People do not like reading text in which a word is used multiple times in a short paragram. You are to write a program which helps identify such a problem.\n",
    "\n",
    "Write a program which takes as input an array and finds the distance between a closest pair of equal entries. For example, if s = \" all work and no play makes for no work no fun and no results\" then the second and third occurrences of \"no\" is the closest pair.\n",
    "\n",
    "Hint: Each entry in the array is a candidate."
   ]
  },
  {
   "cell_type": "code",
   "execution_count": 55,
   "metadata": {},
   "outputs": [],
   "source": [
    "def find_nearest(s):\n",
    "    s = s.split()\n",
    "    d = {}\n",
    "    min_sep = None\n",
    "    min_tok = None\n",
    "\n",
    "    for i, tok in enumerate(s):\n",
    "        if tok in d:\n",
    "            sep = i - d[tok]\n",
    "            if sep < min_sep or min_sep is None:\n",
    "                min_sep = sep\n",
    "                min_tok = tok\n",
    "        d[tok] = i\n",
    "\n",
    "    return min_tok, min_sep"
   ]
  },
  {
   "cell_type": "code",
   "execution_count": 56,
   "metadata": {},
   "outputs": [
    {
     "data": {
      "text/plain": [
       "('no', 2)"
      ]
     },
     "execution_count": 56,
     "metadata": {},
     "output_type": "execute_result"
    }
   ],
   "source": [
    "s = \"all work and no play makes for no work no fun and no results\"\n",
    "find_nearest(s)"
   ]
  },
  {
   "cell_type": "markdown",
   "metadata": {},
   "source": [
    "## 12.3 Implement an ISBN Cache"
   ]
  },
  {
   "cell_type": "markdown",
   "metadata": {},
   "source": [
    "The International Standard Book Number (ISBN) is a unique commercial book identifier. It is a string of length 10. The first 9 characters are digits; the last character is a check character. The check character is the sum of the first 9 digits, mod 11, where with 10 represented by 'X' (Modern ISBNs use 13 digits, and the check digit is taken mod 10; this problem is concerned with 10-digit ISBNs)\n",
    "\n",
    "Create a cache for looking up prices of books identified by their ISBN. You implement lookup, insert, and remove methods. Use the Least Recently Used (LRU) policy for cache eviction. If an ISBN is already present, insert should not change the price, but it should update that entry to be the most recently used entry. Lookup should also update that entry to be the most recently used entry.\n",
    "\n",
    "Hint: Amortize the cost of deletion. Alternatively, use an auxiliary data structure."
   ]
  },
  {
   "cell_type": "code",
   "execution_count": 51,
   "metadata": {},
   "outputs": [],
   "source": [
    "from collections import OrderedDict\n",
    "\n",
    "class LRUCache(object):\n",
    "    \n",
    "    def __init__(self, size_limit):\n",
    "        self.size_limit = size_limit\n",
    "        self._cache = OrderedDict()\n",
    "        \n",
    "    def _update(self, key):\n",
    "        if key in self._cache:\n",
    "            val = self._cache[key]\n",
    "            self.remove(key)\n",
    "            self._cache[key] = val\n",
    "        return self\n",
    "        \n",
    "    def insert(self, key, val):\n",
    "        if key in self._cache:\n",
    "            self._update(key)\n",
    "        else:\n",
    "            if len(self._cache) == self.size_limit:\n",
    "                self._cache.popitem(0)\n",
    "            self._cache[key] = val\n",
    "        return self\n",
    "    \n",
    "    def lookup(self, key):\n",
    "        self._update(key)\n",
    "        return self._cache.get(key)\n",
    "    \n",
    "    def remove(self, key):\n",
    "        self._cache.pop(key)\n",
    "        return self"
   ]
  },
  {
   "cell_type": "code",
   "execution_count": null,
   "metadata": {},
   "outputs": [],
   "source": [
    "x = LRUCache(3)\n",
    "x.insert('a', 1).insert('b', 2).insert('c', 3).insert('d', 4).insert('b', 2)\n",
    "x._cache"
   ]
  },
  {
   "cell_type": "markdown",
   "metadata": {},
   "source": [
    "## 13.1 Compute The Intersection of Two Sorted Arrays"
   ]
  },
  {
   "cell_type": "markdown",
   "metadata": {},
   "source": [
    "A natural implementation for a search engine is to retrieve documents that match the set of words in a query by maintaining an inverted index. Each page is assigned an integer identifier, its documentID. An inverted index is a mapping that takes a word w and returns a sorted array of page-ids which contain w-- the sort order could be, for example, the page rank in descending order. When a query contains multiple words, the search engine finds the sorted array for each word and then computes the intersection of these arrays-- these are the pages containing all the words in the query. The most computationally intensive step of doing this is finding the intersection of the sorted arrays.\n",
    "\n",
    "Write a program which takes as input two sorted arrays, and returns a new array containing elements that are present in both of the input arrays. The input arrays may have duplicate entries, but the returned array should be free of duplicates. For example, the input is <2,3,3,4,4,5,6,6,8,12> and <5,5,6,8,8,9,10,10> your output should be <5,6,8>\n",
    "\n",
    "Hint: Solve the problem if the input array lenghts differ by orders of magnitude. What if they are approximately equal?"
   ]
  },
  {
   "cell_type": "code",
   "execution_count": 57,
   "metadata": {},
   "outputs": [],
   "source": [
    "def find_intersection(arr1, arr2):\n",
    "    ind1 = 0\n",
    "    ind2 = 0\n",
    "    intersect_vals = []\n",
    "\n",
    "    while ind1 < len(arr1) and ind2 < len(arr2):\n",
    "        if arr1[ind1] == arr2[ind2]:\n",
    "            if len(intersect_vals) == 0 or arr1[ind1] > intersect_vals[-1]:\n",
    "                intersect_vals.append(arr1[ind1])\n",
    "            ind1 += 1\n",
    "            ind2 += 1\n",
    "        elif arr1[ind1] > arr2[ind2]:\n",
    "            ind2 += 1\n",
    "        else:\n",
    "            ind1 += 1\n",
    "\n",
    "    return intersect_vals"
   ]
  },
  {
   "cell_type": "code",
   "execution_count": 58,
   "metadata": {},
   "outputs": [
    {
     "data": {
      "text/plain": [
       "[5, 6, 8]"
      ]
     },
     "execution_count": 58,
     "metadata": {},
     "output_type": "execute_result"
    }
   ],
   "source": [
    "arr1 = [2,3,3,4,4,5,6,6,8,12]\n",
    "arr2 = [5,5,6,8,8,9,10,10]\n",
    "find_intersection(arr1, arr2)"
   ]
  },
  {
   "cell_type": "markdown",
   "metadata": {},
   "source": [
    "## 13.2 Merge Two Sorted Arrays"
   ]
  },
  {
   "cell_type": "markdown",
   "metadata": {},
   "source": [
    "Suppose you are given two sorted arrays of integers. If one array has enough empty entries at its end, it can be used to store the combined entries of the two arrays in sorted order. For example, consider < 5, 13, 17, _ _ _ _ _ > and <3,7,11,19> where _ denotes an empty entry. Then the combined sorted entries can be stored in the first array as <3,5,7,11,13,17,19, _>\n",
    "\n",
    "Write a program which takes as input two sorted arrays of integers, and updates the first to the combined entries of the two arrays in sorted order. Assume the first array has enough empty entries at its end to hold the results.\n",
    "\n",
    "Hint: Avoid repeatedly moving entries"
   ]
  },
  {
   "cell_type": "code",
   "execution_count": 59,
   "metadata": {},
   "outputs": [],
   "source": [
    "def merge_arrays(arr1, arr2):\n",
    "    # Get size of arrays\n",
    "    num1 = 0\n",
    "    for val in arr1:\n",
    "        if val == '_':\n",
    "            break\n",
    "        num1 += 1\n",
    "    num2 = 0\n",
    "    for val in arr2:\n",
    "        if val == '_':\n",
    "            break\n",
    "        num2 += 1\n",
    "    \n",
    "    # Merge starting from the back\n",
    "    while num1 > 0 and num2 > 0:\n",
    "        val1 = arr1[num1 - 1]\n",
    "        val2 = arr2[num2 - 1]\n",
    "\n",
    "        if val1 > val2:\n",
    "            arr1[num1 + num2 - 1] = val1\n",
    "            num1 -= 1\n",
    "        else:\n",
    "            arr1[num1 + num2 - 1] = val2\n",
    "            num2 -= 1\n",
    "    \n",
    "    # Add the remainder of the second array if necessary\n",
    "    if num2 > 0:\n",
    "        arr1[:num2] = arr2[:num2]"
   ]
  },
  {
   "cell_type": "code",
   "execution_count": 60,
   "metadata": {},
   "outputs": [
    {
     "data": {
      "text/plain": [
       "[3, 7, 8, 11, 13, 17, 19, '_']"
      ]
     },
     "execution_count": 60,
     "metadata": {},
     "output_type": "execute_result"
    }
   ],
   "source": [
    "arr1 = [8, 13, 17, '_', '_', '_', '_', '_']\n",
    "arr2 = [3, 7, 11, 19]\n",
    "merge_arrays(arr1, arr2)\n",
    "arr1"
   ]
  },
  {
   "cell_type": "markdown",
   "metadata": {},
   "source": [
    "## 14.1 Test If a Binary Tree Satisfies the BST Property"
   ]
  },
  {
   "cell_type": "markdown",
   "metadata": {},
   "source": [
    "Write a program that takes as input a binary tree and checks if the tree satisfiest the BST property.\n",
    "\n",
    "Hint: Is it correct to check for each node that its key is greater than or equal to the key at its left child and less than or equal to the key at its right child?"
   ]
  },
  {
   "cell_type": "markdown",
   "metadata": {},
   "source": [
    "## 14.2 Find the First Key Greater than a Given Value in a BST"
   ]
  },
  {
   "cell_type": "markdown",
   "metadata": {},
   "source": [
    "Write a program that takes as input a BST and a value, and returns the first key that would appear in an inorder traversal which is greater than the input value. For example, when applied to the BST in Figure 14.1 on Page 202 you should return 29 for input 23. "
   ]
  },
  {
   "cell_type": "markdown",
   "metadata": {},
   "source": [
    "## 14.3 Find the k largest Elements in a BST "
   ]
  },
  {
   "cell_type": "markdown",
   "metadata": {},
   "source": [
    "A BST is a sorted data structure, which suggests that it should be possible to find the k largest keys easily.\n",
    "\n",
    "Write a program that takes as input a BST and an integer k, and returns the k largest elements in the BST in decreasing order. For example, if the input is the BST in figure 14.1 on Page 202 and k = 3, your program should return <53,47,43>.\n",
    "\n",
    "Hint: What does an inorder traversal yield?"
   ]
  },
  {
   "cell_type": "markdown",
   "metadata": {},
   "source": [
    "## 15.1 The Towers of Hanoi Problem"
   ]
  },
  {
   "cell_type": "markdown",
   "metadata": {},
   "source": [
    "A peg contains rings in sorted order, with the largest right being the lowest. You are to transfer these rings to another peg, which is initially empty. This is illustrated in Figure 15.2\n",
    "\n",
    "Write a program which prints a sequence of operations that transfer n rings from one peg to another. You have a third peg, which is initially empty. The only operation you can perform is taking a single ring from the top of one peg and placing it on the top of another peg. You must never place a larger ring above a smaller ring.\n",
    "\n",
    "Hint: If you know how to transfer the top n-1 rings, how does that help move the nth ring?"
   ]
  },
  {
   "cell_type": "code",
   "execution_count": 81,
   "metadata": {},
   "outputs": [],
   "source": [
    "import copy\n",
    "\n",
    "def transfer_rings(num_rings):\n",
    "    peg1 = range(num_rings, 0, -1)\n",
    "    peg2 = []\n",
    "    peg3 = []\n",
    "    peg_history = [(copy.copy(peg1), copy.copy(peg2), copy.copy(peg3))]\n",
    "    \n",
    "    while len(peg1) > 0:\n",
    "        peg2.append(peg1.pop())\n",
    "        peg_history.append((copy.copy(peg1), copy.copy(peg2), copy.copy(peg3)))\n",
    "        peg2.extend(peg3)\n",
    "        peg3 = []\n",
    "        peg_history.append((copy.copy(peg1), copy.copy(peg2), copy.copy(peg3)))\n",
    "        if len(peg1) > 0:\n",
    "            peg3 = peg2\n",
    "            peg2 = []\n",
    "            peg_history.append((copy.copy(peg1), copy.copy(peg2), copy.copy(peg3)))\n",
    "    \n",
    "    return peg_history"
   ]
  },
  {
   "cell_type": "code",
   "execution_count": 83,
   "metadata": {},
   "outputs": [
    {
     "name": "stdout",
     "output_type": "stream",
     "text": [
      "([3, 2, 1], [], [])\n",
      "([3, 2], [1], [])\n",
      "([3, 2], [1], [])\n",
      "([3, 2], [], [1])\n",
      "([3], [2], [1])\n",
      "([3], [2, 1], [])\n",
      "([3], [], [2, 1])\n",
      "([], [3], [2, 1])\n",
      "([], [3, 2, 1], [])\n"
     ]
    }
   ],
   "source": [
    "peg_history = transfer_rings(3) \n",
    "for hist in peg_history:\n",
    "    print(hist)"
   ]
  },
  {
   "cell_type": "markdown",
   "metadata": {},
   "source": [
    "## 15.2 Generate All Nonattacking Placements of n-Queens "
   ]
  },
  {
   "cell_type": "markdown",
   "metadata": {},
   "source": [
    "A nonattacking placement of queens is one in which no two queens are in the same row, column, or diagonal. See Figure 15.4 for an example.\n",
    "\n",
    "Write a program which returns all distinct nonattacking placements of n queens on an n x n chessboard, where n is an input to the program.\n",
    "\n",
    "Hint: If the first queen is placed at (i,j) where can the remaining queens definitely not be placed?"
   ]
  },
  {
   "cell_type": "code",
   "execution_count": 137,
   "metadata": {},
   "outputs": [],
   "source": [
    "from copy import copy\n",
    "\n",
    "def on_diag(p1, p2):\n",
    "    try:\n",
    "        return abs(float(p1[0] - p2[0]) / float(p1[1] - p2[1])) == 1\n",
    "    except ZeroDivisionError:\n",
    "        return False\n",
    "\n",
    "def not_on_any_diag(p, p_prev):\n",
    "    for p2 in p_prev:\n",
    "        if on_diag(p, p2):\n",
    "            return False\n",
    "    return True\n",
    "\n",
    "def get_valid_points(row_inds, prev_seqs):\n",
    "    all_valid_seqs = copy(prev_seqs)\n",
    "    col_ind = len(row_inds) - 1\n",
    "    \n",
    "    for i in range(len(row_inds)):\n",
    "        row_ind = row_inds[i]\n",
    "        test_point = (row_ind, col_ind)\n",
    "                \n",
    "        new_seqs = []\n",
    "        for seq in prev_seqs:\n",
    "            if not_on_any_diag(test_point, seq):\n",
    "                new_seqs.append(seq + [test_point])\n",
    "                        \n",
    "        row_inds_new = copy(row_inds)\n",
    "        row_inds_new.pop(i)\n",
    "        \n",
    "        valid_seqs = get_valid_points(row_inds_new, new_seqs)        \n",
    "        all_valid_seqs.extend(valid_seqs)\n",
    "        \n",
    "    return all_valid_seqs\n",
    "\n",
    "def generate_nonattacking_placements(n):\n",
    "    seqs = get_valid_points(range(n), [[]])\n",
    "    return [seq for seq in seqs if len(seq) == n]"
   ]
  },
  {
   "cell_type": "code",
   "execution_count": 139,
   "metadata": {},
   "outputs": [
    {
     "data": {
      "text/plain": [
       "[[(1, 3), (3, 2), (0, 1), (2, 0)], [(2, 3), (0, 2), (3, 1), (1, 0)]]"
      ]
     },
     "execution_count": 139,
     "metadata": {},
     "output_type": "execute_result"
    }
   ],
   "source": [
    "n = 4\n",
    "generate_nonattacking_placements(n)"
   ]
  },
  {
   "cell_type": "markdown",
   "metadata": {},
   "source": [
    "## 16.1 Count the Number of Score Combinations "
   ]
  },
  {
   "cell_type": "markdown",
   "metadata": {},
   "source": [
    "In an American football game, a play can lead to 2 points (safety), 3 points (field goal) or 7 points (touchdown, assuming the extra point). Many different combinations of 2,3 and 7 point plays can make up a final score. For example, four combinations of plays yield a score of 12.\n",
    "\n",
    "* 6 safeties (2 x 6 = 12)\n",
    "* 3 safeties and 2 field goals (2 x 3 + 3 x 2 = 12)\n",
    "* 1 safety, 1 field goal and 1 touchdown (2 x 1 + 3 x 1 + 7 x 1 = 12), and \n",
    "* 4 field goals (3 x 4 = 12)\n",
    "\n",
    "Write a program that takes a final score for individual plays, and returns the number of combinations of plays that result in the final score.\n",
    "\n",
    "Hint: Count the number of combinations in which there are 0 w_0 plays then 1 w_) plays, etc."
   ]
  },
  {
   "cell_type": "code",
   "execution_count": 150,
   "metadata": {},
   "outputs": [
    {
     "data": {
      "text/plain": [
       "[0, 0, 1, 1, 1, 1, 2, 2, 3, 5, 6, 9, 12]"
      ]
     },
     "execution_count": 150,
     "metadata": {},
     "output_type": "execute_result"
    }
   ],
   "source": [
    "# num_ways[n] = num_ways[n-2] + num_ways[n-3] + num_ways[n-7]\n",
    "\n",
    "n = 12\n",
    "\n",
    "num_ways_counter = [0] * (n + 1)\n",
    "num_ways_counter[2] = 1\n",
    "num_ways_counter[3] = 1\n",
    "num_ways_counter[7] = 1\n",
    "\n",
    "for i in range(6, n+1):\n",
    "    num2 = 0 if i-2 < 0 else num_ways_counter[i-2]\n",
    "    num3 = 0 if i-3 < 0 else num_ways_counter[i-3]\n",
    "    num7 = 0 if i-7 < 0 else num_ways_counter[i-7]\n",
    "    \n",
    "    num_ways_counter[i] = num2 + num3 + num7\n",
    "\n",
    "nn = n\n",
    "num_ways_counter[:nn+1]"
   ]
  },
  {
   "cell_type": "markdown",
   "metadata": {},
   "source": [
    "## 16.2 Compute the Levenshtein Distance "
   ]
  },
  {
   "cell_type": "markdown",
   "metadata": {},
   "source": [
    "Spell checkers make suggestions for misspelled words. Given a misspelled string, a spell checker should return words in the dictionary which are close to the misspelled string.\n",
    "\n",
    "In 1965 Vladimir Levenshtien defined the distance between two words as the minimum number of \"edits\" it would take to transform the misspelled word into a correct word, where a single edit is the insertion, deletion or substitution of a single character. For example, the Levenshtien distance between \"Saturday\" and \"sundays\" is 4 - delete the first 'a' and 't', substitute 'r' by 'n'n and insert the trailing 's'.\n",
    "\n",
    "Write a program that takes two strings and computes the minimum number of edits needed to transform the first string into the second string.\n",
    "\n",
    "Hint: Consider the same problem for prefixes of the two strings."
   ]
  },
  {
   "cell_type": "code",
   "execution_count": null,
   "metadata": {},
   "outputs": [],
   "source": []
  }
 ],
 "metadata": {
  "kernelspec": {
   "display_name": "Python 2",
   "language": "python",
   "name": "python2"
  },
  "language_info": {
   "codemirror_mode": {
    "name": "ipython",
    "version": 2
   },
   "file_extension": ".py",
   "mimetype": "text/x-python",
   "name": "python",
   "nbconvert_exporter": "python",
   "pygments_lexer": "ipython2",
   "version": "2.7.14"
  }
 },
 "nbformat": 4,
 "nbformat_minor": 2
}
