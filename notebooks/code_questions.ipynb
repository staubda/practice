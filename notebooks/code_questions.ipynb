{
 "cells": [
  {
   "cell_type": "code",
   "execution_count": 1,
   "metadata": {},
   "outputs": [],
   "source": [
    "import os\n",
    "import numpy as np"
   ]
  },
  {
   "cell_type": "markdown",
   "metadata": {},
   "source": [
    "## 5.19 Rotate a 2D Array "
   ]
  },
  {
   "cell_type": "markdown",
   "metadata": {},
   "source": [
    "Image rotation is a fundamental operation in computer graphics. Figure 5.4 illustrates the rotation operation on a 2D array representing a bit-map of an image. Specifically, the image is rotated by 90 degrees clockwise.\n",
    "\n",
    "Write a function that takes as input an n x n 2D array, and rotates the array by 90 degrees clockwise.\n",
    "Hint: Focus on the boundary elements."
   ]
  },
  {
   "cell_type": "code",
   "execution_count": 102,
   "metadata": {},
   "outputs": [],
   "source": [
    "def rotate_90_clock_np(arr):\n",
    "    arr = np.array(arr)\n",
    "    arr_rot = np.zeros(arr.shape)\n",
    "    for old_row_ind, new_col_ind in enumerate(range(len(arr))[::-1]):\n",
    "        arr_rot[:, new_col_ind] = arr[old_row_ind, :]\n",
    "    return arr_rot\n",
    "\n",
    "def rotate_90_clock(arr):\n",
    "    n = len(arr)\n",
    "    arr_rot = [[None] * n for i in range(n)]\n",
    "    for old_row_ind, new_col_ind in enumerate(range(n)[::-1]):\n",
    "        for old_col_ind, new_row_ind in enumerate(range(n)):\n",
    "            arr_rot[new_row_ind][new_col_ind] = arr[old_row_ind][old_col_ind]\n",
    "    return arr_rot"
   ]
  },
  {
   "cell_type": "code",
   "execution_count": 103,
   "metadata": {},
   "outputs": [
    {
     "name": "stdout",
     "output_type": "stream",
     "text": [
      "[[ 1  2  3  4]\n",
      " [ 5  6  7  8]\n",
      " [ 9 10 11 12]\n",
      " [13 14 15 16]]\n",
      "\n",
      "[[13  9  5  1]\n",
      " [14 10  6  2]\n",
      " [15 11  7  3]\n",
      " [16 12  8  4]]\n"
     ]
    }
   ],
   "source": [
    "# arr = [[i] * n for i in range(5)]\n",
    "# arr = [[1, 2], [3, 4]]\n",
    "arr = [[1, 2, 3, 4], [5, 6, 7, 8], [9, 10, 11, 12], [13, 14, 15, 16]]\n",
    "\n",
    "arr_rot = rotate_90_clock(arr)\n",
    "\n",
    "print(np.array(arr))\n",
    "print('')\n",
    "print(np.array(arr_rot))"
   ]
  },
  {
   "cell_type": "markdown",
   "metadata": {},
   "source": [
    "## 5.13 Sample Online Data "
   ]
  },
  {
   "cell_type": "markdown",
   "metadata": {},
   "source": [
    "This problem is motivated by the disgn of a packet sniffer that provides a uniform sample of packets for a network session.\n",
    "\n",
    "Design a program that takes as input a size k, and reads packets, coninuously maintaining a uniform random subset of size k of the read packets.\n",
    "\n",
    "Hint: Suppose you have a procedure which selects k packets from the first n >= k packets as specified. How would you deal with the (n+1)st packet?"
   ]
  },
  {
   "cell_type": "code",
   "execution_count": 2,
   "metadata": {},
   "outputs": [],
   "source": [
    "import random\n",
    "\n",
    "class PacketSampler:\n",
    "    \n",
    "    def __init__(self, k):\n",
    "        self.k = k\n",
    "        self.n = 0\n",
    "        self.subset = []\n",
    "        \n",
    "    def receive_packet(self, p):\n",
    "        if len(self.subset) < self.k:\n",
    "            self.subset.append(p)\n",
    "        else:\n",
    "            replace_prob = float(self.k) / (self.n + 1)\n",
    "            if random.random() < replace_prob:\n",
    "                replace_ind = random.randint(0, self.k - 1)\n",
    "                self.subset[replace_ind] = p\n",
    "        self.n += 1\n",
    "\n",
    "\n",
    "class PacketSamplerWrong:\n",
    "    \n",
    "    def __init__(self, k):\n",
    "        self.k = k\n",
    "        self.n = 0\n",
    "        self.subset = []\n",
    "        \n",
    "    def receive_packet(self, p):\n",
    "        if len(self.subset) < self.k:\n",
    "            self.subset.append(p)\n",
    "        else:\n",
    "            replace_prob = random.random()\n",
    "            if random.random() < replace_prob:\n",
    "                replace_ind = random.randint(0, self.k - 1)\n",
    "                self.subset[replace_ind] = p\n",
    "        self.n += 1\n",
    "\n",
    "\n",
    "def get_packet_subset(n, packet_sampler):\n",
    "    for i in range(n):\n",
    "        packet_sampler.receive_packet(i)\n",
    "    return packet_sampler.subset\n",
    "\n",
    "\n",
    "def get_simulated_distribution(n, k, sampler_name, num_trials):\n",
    "    if sampler_name == 'right':\n",
    "        Sampler = PacketSampler\n",
    "    elif sampler_name == 'wrong':\n",
    "        Sampler = PacketSamplerWrong\n",
    "    else:\n",
    "        raise ValueError('Unrecognized sampler name.')\n",
    "    \n",
    "    packet_counter = {p: 0 for p in range(n)}\n",
    "    for trial_ind in range(num_trials):\n",
    "        subset = get_packet_subset(n, Sampler(k))\n",
    "        for p in subset:\n",
    "            packet_counter[p] += 1\n",
    "    \n",
    "    return packet_counter"
   ]
  },
  {
   "cell_type": "code",
   "execution_count": 5,
   "metadata": {},
   "outputs": [
    {
     "name": "stdout",
     "output_type": "stream",
     "text": [
      "0.543333333333\n",
      "0.00333333333333\n",
      "0.0166666666667\n",
      "0.233333333333\n",
      "0.523333333333\n",
      "1.10666666667\n",
      "0.82\n",
      "0.693333333333\n",
      "0.71\n",
      "0.0766666666667\n"
     ]
    }
   ],
   "source": [
    "num_trials = 100000\n",
    "n = 10\n",
    "k = 3\n",
    "sampler_name = 'right'\n",
    "\n",
    "packet_counts = get_simulated_distribution(n=n, k=k, sampler_name=sampler_name, num_trials=num_trials)\n",
    "num_exp = num_trials / n * k\n",
    "\n",
    "for count in packet_counts.itervalues():\n",
    "    pct_dev = 100.0 * abs(num_exp - count) / num_exp\n",
    "    print(pct_dev)"
   ]
  },
  {
   "cell_type": "code",
   "execution_count": 19,
   "metadata": {},
   "outputs": [
    {
     "data": {
      "text/plain": [
       "3000"
      ]
     },
     "execution_count": 19,
     "metadata": {},
     "output_type": "execute_result"
    }
   ],
   "source": [
    "num_exp"
   ]
  },
  {
   "cell_type": "code",
   "execution_count": 105,
   "metadata": {},
   "outputs": [
    {
     "data": {
      "text/plain": [
       "{0: 3084,\n",
       " 1: 2973,\n",
       " 2: 2971,\n",
       " 3: 3005,\n",
       " 4: 3016,\n",
       " 5: 2936,\n",
       " 6: 2956,\n",
       " 7: 3008,\n",
       " 8: 2979,\n",
       " 9: 3072}"
      ]
     },
     "execution_count": 105,
     "metadata": {},
     "output_type": "execute_result"
    }
   ],
   "source": [
    "k = 3\n",
    "num_packet = 10\n",
    "\n",
    "num_trial = 10000\n",
    "packet_counter = {i: 0 for i in range(num_packet)}\n",
    "\n",
    "for trial_ind in range(num_trial):\n",
    "\n",
    "    ps = PacketSampler(k)\n",
    "\n",
    "    for p in range(num_packet):\n",
    "        ps.receive_packet(p)\n",
    "        \n",
    "    for p in ps.subset:\n",
    "        packet_counter[p] += 1\n",
    "        \n",
    "packet_counter"
   ]
  },
  {
   "cell_type": "code",
   "execution_count": null,
   "metadata": {},
   "outputs": [],
   "source": []
  }
 ],
 "metadata": {
  "kernelspec": {
   "display_name": "Python 2",
   "language": "python",
   "name": "python2"
  },
  "language_info": {
   "codemirror_mode": {
    "name": "ipython",
    "version": 2
   },
   "file_extension": ".py",
   "mimetype": "text/x-python",
   "name": "python",
   "nbconvert_exporter": "python",
   "pygments_lexer": "ipython2",
   "version": "2.7.15rc1"
  }
 },
 "nbformat": 4,
 "nbformat_minor": 2
}
