{
 "cells": [
  {
   "cell_type": "code",
   "execution_count": 13,
   "metadata": {},
   "outputs": [],
   "source": [
    "import os\n",
    "import numpy as np"
   ]
  },
  {
   "cell_type": "markdown",
   "metadata": {},
   "source": [
    "## 5.19 Rotate a 2D Array "
   ]
  },
  {
   "cell_type": "markdown",
   "metadata": {},
   "source": [
    "Image rotation is a fundamental operation in computer graphics. Figure 5.4 illustrates the rotation operation on a 2D array representing a bit-map of an image. Specifically, the image is rotated by 90 degrees clockwise.\n",
    "\n",
    "Write a function that takes as input an n x n 2D array, and rotates the array by 90 degrees clockwise.\n",
    "Hint: Focus on the boundary elements."
   ]
  },
  {
   "cell_type": "code",
   "execution_count": 69,
   "metadata": {},
   "outputs": [],
   "source": [
    "def rotate_90_clock_np(arr):\n",
    "    arr = np.array(arr)\n",
    "    arr_rot = np.zeros(arr.shape)\n",
    "    for old_row_ind, new_col_ind in enumerate(range(len(arr))[::-1]):\n",
    "        arr_rot[:, new_col_ind] = arr[old_row_ind, :]\n",
    "    return arr_rot\n",
    "\n",
    "\n",
    "def rotate_coords_90_clock(i, j, n):\n",
    "    i_rot = j\n",
    "    j_rot = n - 1 - i\n",
    "    return i_rot, j_rot\n",
    "\n",
    "\n",
    "def rotate_corners(arr, i_start, j_start):\n",
    "    n = len(arr)\n",
    "    i_orig, j_orig = i_start, j_start\n",
    "    reassign_val = arr[i_orig][j_orig]\n",
    "    for _ in range(4):\n",
    "        i_rot, j_rot = rotate_coords_90_clock(i_orig, j_orig, n)\n",
    "        temp = arr[i_rot][j_rot]\n",
    "        arr[i_rot][j_rot] = reassign_val\n",
    "        reassign_val = temp\n",
    "        i_orig, j_orig = i_rot, j_rot\n",
    "\n",
    "        \n",
    "def rotate_square(arr, ind_start):\n",
    "    i_start = ind_start\n",
    "    for j_start in range(ind_start, len(arr) - ind_start - 1):\n",
    "        rotate_corners(arr, i_start, j_start)\n",
    "\n",
    "        \n",
    "def rotate_90_clock_inplace(arr):\n",
    "    num_square = len(arr) / 2\n",
    "    for ind_start in range(num_square):\n",
    "        rotate_square(arr, ind_start)\n",
    "\n",
    "        \n",
    "def rotate_90_clock(arr):\n",
    "    n = len(arr)\n",
    "    arr_rot = [[None] * n for i in range(n)]\n",
    "    for i in range(n):\n",
    "        for j in range(n):\n",
    "            i_rot, j_rot = rotate_coords_90_clock(i, j, n)\n",
    "            arr_rot[i_rot][j_rot] = arr[i][j]\n",
    "    return arr_rot\n",
    "\n",
    "\n",
    "def rotate(arr):\n",
    "    for i in xrange(len(arr)/2):\n",
    "#         for j in xrange(len(arr)/2 + len(arr)%2):\n",
    "        for j in xrange(i, len(arr) - i - 1):\n",
    "            rotate_corners(arr,i,j)\n",
    "    return arr"
   ]
  },
  {
   "cell_type": "code",
   "execution_count": 70,
   "metadata": {},
   "outputs": [
    {
     "name": "stdout",
     "output_type": "stream",
     "text": [
      "[[  1   2   3   4 140]\n",
      " [  5   6   7   8 130]\n",
      " [  9  10  11  12 120]\n",
      " [ 13  14  15  16 110]\n",
      " [ 17  18  19  20 100]]\n",
      "\n",
      "[[ 17  13   9   5   1]\n",
      " [ 18  14  10   6   2]\n",
      " [ 19  15  11   7   3]\n",
      " [ 20  16  12   8   4]\n",
      " [100 110 120 130 140]]\n"
     ]
    }
   ],
   "source": [
    "# arr = [[i] * n for i in range(5)]\n",
    "# arr = [[1, 2], [3, 4]]\n",
    "# arr = [[1, 2, 3, 4], [5, 6, 7, 8], [9, 10, 11, 12], [13, 14, 15, 16]]\n",
    "arr = [[1, 2, 3, 4, 140], [5, 6, 7, 8, 130], [9, 10, 11, 12, 120], [13, 14, 15, 16, 110], [17, 18, 19, 20, 100]]\n",
    "\n",
    "# arr_rot = rotate_90_clock(arr)\n",
    "\n",
    "# print(np.array(arr))\n",
    "# print('')\n",
    "# print(np.array(arr_rot))\n",
    "\n",
    "print(np.array(arr))\n",
    "# rotate_90_clock_inplace(arr)\n",
    "rotate(arr)\n",
    "print('')\n",
    "print(np.array(arr))"
   ]
  },
  {
   "cell_type": "markdown",
   "metadata": {},
   "source": [
    "## 5.13 Sample Online Data "
   ]
  },
  {
   "cell_type": "markdown",
   "metadata": {},
   "source": [
    "This problem is motivated by the disgn of a packet sniffer that provides a uniform sample of packets for a network session.\n",
    "\n",
    "Design a program that takes as input a size k, and reads packets, coninuously maintaining a uniform random subset of size k of the read packets.\n",
    "\n",
    "Hint: Suppose you have a procedure which selects k packets from the first n >= k packets as specified. How would you deal with the (n+1)st packet?"
   ]
  },
  {
   "cell_type": "code",
   "execution_count": 2,
   "metadata": {},
   "outputs": [],
   "source": [
    "import random\n",
    "\n",
    "class PacketSampler:\n",
    "    \n",
    "    def __init__(self, k):\n",
    "        self.k = k\n",
    "        self.n = 0\n",
    "        self.subset = []\n",
    "        \n",
    "    def receive_packet(self, p):\n",
    "        if len(self.subset) < self.k:\n",
    "            self.subset.append(p)\n",
    "        else:\n",
    "            replace_prob = float(self.k) / (self.n + 1)\n",
    "            if random.random() < replace_prob:\n",
    "                replace_ind = random.randint(0, self.k - 1)\n",
    "                self.subset[replace_ind] = p\n",
    "        self.n += 1\n",
    "\n",
    "\n",
    "class PacketSamplerWrong:\n",
    "    \n",
    "    def __init__(self, k):\n",
    "        self.k = k\n",
    "        self.n = 0\n",
    "        self.subset = []\n",
    "        \n",
    "    def receive_packet(self, p):\n",
    "        if len(self.subset) < self.k:\n",
    "            self.subset.append(p)\n",
    "        else:\n",
    "            replace_prob = random.random()\n",
    "            if random.random() < replace_prob:\n",
    "                replace_ind = random.randint(0, self.k - 1)\n",
    "                self.subset[replace_ind] = p\n",
    "        self.n += 1\n",
    "\n",
    "\n",
    "def get_packet_subset(n, packet_sampler):\n",
    "    for i in range(n):\n",
    "        packet_sampler.receive_packet(i)\n",
    "    return packet_sampler.subset\n",
    "\n",
    "\n",
    "def get_simulated_distribution(n, k, sampler_name, num_trials):\n",
    "    if sampler_name == 'right':\n",
    "        Sampler = PacketSampler\n",
    "    elif sampler_name == 'wrong':\n",
    "        Sampler = PacketSamplerWrong\n",
    "    else:\n",
    "        raise ValueError('Unrecognized sampler name.')\n",
    "    \n",
    "    packet_counter = {p: 0 for p in range(n)}\n",
    "    for trial_ind in range(num_trials):\n",
    "        subset = get_packet_subset(n, Sampler(k))\n",
    "        for p in subset:\n",
    "            packet_counter[p] += 1\n",
    "    \n",
    "    return packet_counter"
   ]
  },
  {
   "cell_type": "code",
   "execution_count": 7,
   "metadata": {},
   "outputs": [
    {
     "name": "stdout",
     "output_type": "stream",
     "text": [
      "7.096\n",
      "6.99266666667\n",
      "6.67866666667\n",
      "44.226\n",
      "33.2373333333\n",
      "19.6773333333\n",
      "3.67266666667\n",
      "15.8506666667\n",
      "38.8246666667\n",
      "66.9053333333\n"
     ]
    }
   ],
   "source": [
    "num_trials = 500000\n",
    "n = 10\n",
    "k = 3\n",
    "sampler_name = 'wrong'\n",
    "\n",
    "packet_counts = get_simulated_distribution(n=n, k=k, sampler_name=sampler_name, num_trials=num_trials)\n",
    "num_exp = num_trials / n * k\n",
    "\n",
    "for count in packet_counts.itervalues():\n",
    "    pct_dev = 100.0 * abs(num_exp - count) / num_exp\n",
    "    print(pct_dev)"
   ]
  },
  {
   "cell_type": "markdown",
   "metadata": {},
   "source": [
    "## 5.18 Compute the Spiral Ordering of a 2D array "
   ]
  },
  {
   "cell_type": "code",
   "execution_count": 48,
   "metadata": {},
   "outputs": [],
   "source": [
    "def change_direction(increment):\n",
    "    increment_new = increment[::-1]\n",
    "    if abs(increment[0]) == 1:\n",
    "        increment_new[1] *= -1\n",
    "    return increment_new\n",
    "\n",
    "def spiralize(arr):\n",
    "    i_bounds = [0, len(arr) - 1]\n",
    "    j_bounds = [0, len(arr[0]) - 1]\n",
    "    increment = [0, 1]\n",
    "    i = 0\n",
    "    j = 0\n",
    "    arr_spiral = []\n",
    "\n",
    "    while i_bounds[1] >= i_bounds[0]:\n",
    "\n",
    "        arr_spiral.append(arr[i][j])\n",
    "\n",
    "        i_prop = i + increment[0]\n",
    "        j_prop = j + increment[1]\n",
    "\n",
    "        if j_prop > j_bounds[1]:\n",
    "            i_bounds[0] += 1\n",
    "        elif j_prop < j_bounds[0]:\n",
    "            i_bounds[1] -= 1\n",
    "        elif i_prop > i_bounds[1]:\n",
    "            j_bounds[1] -= 1\n",
    "        elif i_prop < i_bounds[0]:\n",
    "            j_bounds[0] += 1\n",
    "        else:\n",
    "            i = i_prop\n",
    "            j = j_prop\n",
    "            continue\n",
    "\n",
    "        increment = change_direction(increment)\n",
    "        i += increment[0]\n",
    "        j += increment[1]\n",
    "        \n",
    "    return arr_spiral"
   ]
  },
  {
   "cell_type": "code",
   "execution_count": 49,
   "metadata": {},
   "outputs": [
    {
     "name": "stdout",
     "output_type": "stream",
     "text": [
      "[[ 1  2  3  4]\n",
      " [ 5  6  7  8]\n",
      " [ 9 10 11 12]\n",
      " [13 14 15 16]]\n",
      "\n",
      "[1, 2, 3, 4, 8, 12, 16, 15, 14, 13, 9, 5, 6, 7, 11, 10]\n"
     ]
    }
   ],
   "source": [
    "arr = [[1, 2, 3, 4], [5, 6, 7, 8], [9, 10, 11, 12], [13, 14, 15, 16]]\n",
    "\n",
    "print(np.array(arr))\n",
    "print('')\n",
    "print(spiralize(arr))"
   ]
  },
  {
   "cell_type": "markdown",
   "metadata": {},
   "source": [
    "## 6.13: Find the first occurrence of a substring "
   ]
  },
  {
   "cell_type": "markdown",
   "metadata": {},
   "source": [
    "A good string search algorithm is fundamental to the performance of many applications. Several clever algorithms have been proposed for string search, each with its own trade-offs. As a result, there is no single perfect answer. If someone asks you this question in an interview, the best way to approach this problem would be to work through one good algorithm in detail and discuss at a high level other algorithms.\n",
    "\n",
    "Given two strings s (the \"search string\") and t (the \"text\"), find the first occurrence of s in t.\n",
    "\n",
    "Hint: Form a signature from a string"
   ]
  },
  {
   "cell_type": "code",
   "execution_count": 81,
   "metadata": {},
   "outputs": [
    {
     "name": "stdout",
     "output_type": "stream",
     "text": [
      "8\n",
      "8\n"
     ]
    }
   ],
   "source": [
    "main_string = 'gshgiuregbisnreipngseproingseonvdk;nfvdklldksfl'\n",
    "substring = 'gbisn'\n",
    "\n",
    "\n",
    "\n",
    "def find_substring_start_ind_simple(main_string, substring):\n",
    "    substring_len = len(substring)\n",
    "    for start_ind in range(0, len(main_string) - substring_len):\n",
    "        num_match = 0\n",
    "        for i_sub, i_main in enumerate(range(start_ind, start_ind + substring_len)):\n",
    "            num_match += substring[i_sub] == main_string[i_main]\n",
    "        if num_match == substring_len:\n",
    "            return start_ind\n",
    "    return None\n",
    "\n",
    "\n",
    "def find_substring_start_ind_hash(main_string, substring):\n",
    "    substring_hash = set([substring])\n",
    "    substring_len = len(substring)\n",
    "    for start_ind in range(0, len(main_string) - substring_len):\n",
    "        if main_string[start_ind:start_ind + substring_len] in substring_hash:\n",
    "            return start_ind\n",
    "    return None\n",
    "\n",
    "\n",
    "class RollingHasher:\n",
    "    \n",
    "    def __init__(self, first_substring, base=256, prime_modulus=101):\n",
    "        self.first_substring = first_substring\n",
    "        self.base = base\n",
    "        self.prime_modulus = prime_modulus\n",
    "        self._val_to_remove = None\n",
    "        self._last_hash = None\n",
    "        \n",
    "    def get_hash(next_letter=None):\n",
    "        if next_letter is None:\n",
    "            hash_sum = 0\n",
    "            for c in self.first_substring:\n",
    "                \n",
    "                \n",
    "            \n",
    "        \n",
    "        \n",
    "    \n",
    "        \n",
    "\n",
    "\n",
    "print(find_substring_start_ind_simple(main_string, substring))\n",
    "print(find_substring_start_ind_hash(main_string, substring))"
   ]
  },
  {
   "cell_type": "code",
   "execution_count": 2,
   "metadata": {},
   "outputs": [
    {
     "data": {
      "text/plain": [
       "97"
      ]
     },
     "execution_count": 2,
     "metadata": {},
     "output_type": "execute_result"
    }
   ],
   "source": [
    "ord('a')"
   ]
  },
  {
   "cell_type": "code",
   "execution_count": null,
   "metadata": {},
   "outputs": [],
   "source": []
  }
 ],
 "metadata": {
  "kernelspec": {
   "display_name": "Python 2",
   "language": "python",
   "name": "python2"
  },
  "language_info": {
   "codemirror_mode": {
    "name": "ipython",
    "version": 2
   },
   "file_extension": ".py",
   "mimetype": "text/x-python",
   "name": "python",
   "nbconvert_exporter": "python",
   "pygments_lexer": "ipython2",
   "version": "2.7.15rc1"
  }
 },
 "nbformat": 4,
 "nbformat_minor": 2
}
